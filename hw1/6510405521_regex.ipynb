{
  "nbformat": 4,
  "nbformat_minor": 0,
  "metadata": {
    "colab": {
      "provenance": []
    },
    "kernelspec": {
      "display_name": "Python 3",
      "name": "python3"
    },
    "language_info": {
      "name": "python"
    }
  },
  "cells": [
    {
      "cell_type": "markdown",
      "source": [
        "**Student ID:6510405521\n",
        "\n",
        "**Student Name:Thatpong wongchaita"
      ],
      "metadata": {
        "id": "c5hatsj3bd6y"
      }
    },
    {
      "cell_type": "markdown",
      "metadata": {
        "id": "4HMeD6H3-bZT"
      },
      "source": [
        "**Python RegEx**\n",
        "\n",
        "[https://www.w3schools.com/python/python_regex.asp ]\n"
      ]
    },
    {
      "cell_type": "markdown",
      "metadata": {
        "id": "fqXaGH5zLhEd"
      },
      "source": [
        "# RegEx Module\n"
      ]
    },
    {
      "cell_type": "code",
      "metadata": {
        "id": "Vwbp0VM4G-WO"
      },
      "source": [
        "import re"
      ],
      "execution_count": null,
      "outputs": []
    },
    {
      "cell_type": "markdown",
      "source": [
        "# Search Function\n",
        "\n",
        "Search returns a match object if there is a match *anywhere* in the string"
      ],
      "metadata": {
        "id": "OTTtX1Nse2_2"
      }
    },
    {
      "cell_type": "code",
      "source": [
        "# a string that begin with a word\n",
        "txt = \"the lazy dog.\"\n",
        "x = re.search(\"^\\w+\", txt)\n",
        "print(x)\n",
        "\n",
        "txt = \" the lazy dog.\"\n",
        "x = re.search(\"\\w+\", txt)\n",
        "print(x)"
      ],
      "metadata": {
        "colab": {
          "base_uri": "https://localhost:8080/"
        },
        "id": "d6ME74_tcP6k",
        "outputId": "c6b73294-285a-4f12-fcc5-df7df9016810"
      },
      "execution_count": null,
      "outputs": [
        {
          "output_type": "stream",
          "name": "stdout",
          "text": [
            "<re.Match object; span=(0, 3), match='the'>\n",
            "<re.Match object; span=(1, 4), match='the'>\n"
          ]
        }
      ]
    },
    {
      "cell_type": "code",
      "source": [
        "# a string contains only a certain set of characters (in this case a-z, A-Z and 0-9).\n",
        "def check_pattern(txt):\n",
        "    x = re.search(\"[a-zA-Z0-9]+\", txt)\n",
        "    return x\n",
        "\n",
        "print(check_pattern(\"ABCDEFabcdef123450\"))\n",
        "print(check_pattern(\"ABC*&%@123450\"))"
      ],
      "metadata": {
        "colab": {
          "base_uri": "https://localhost:8080/"
        },
        "id": "PlmZBGBqtwsb",
        "outputId": "4553559a-b8fc-470e-b565-3848b7af699f"
      },
      "execution_count": null,
      "outputs": [
        {
          "output_type": "stream",
          "name": "stdout",
          "text": [
            "<re.Match object; span=(0, 18), match='ABCDEFabcdef123450'>\n",
            "<re.Match object; span=(0, 3), match='ABC'>\n"
          ]
        }
      ]
    },
    {
      "cell_type": "code",
      "metadata": {
        "id": "jaRDdaqbHGKG",
        "colab": {
          "base_uri": "https://localhost:8080/"
        },
        "outputId": "353ff824-3ce0-476d-9708-984129205b0e"
      },
      "source": [
        "# a string that contain The and ending with Spain\n",
        "txt = \"123 The rain in Spain\"\n",
        "x = re.search(\"The.*Spain$\", txt)\n",
        "\n",
        "if x:\n",
        "  print(\"YES! We have a match!\", x)\n",
        "else:\n",
        "  print(\"No match\")"
      ],
      "execution_count": null,
      "outputs": [
        {
          "output_type": "stream",
          "name": "stdout",
          "text": [
            "YES! We have a match! <re.Match object; span=(4, 21), match='The rain in Spain'>\n"
          ]
        }
      ]
    },
    {
      "cell_type": "markdown",
      "metadata": {
        "id": "veRML-M6L3Z-"
      },
      "source": [
        "# Match Functions"
      ]
    },
    {
      "cell_type": "markdown",
      "metadata": {
        "id": "W2miivKnIm74"
      },
      "source": [
        "**match**\treturns a match object if there is a match at *the begining* of the string"
      ]
    },
    {
      "cell_type": "code",
      "metadata": {
        "id": "gkweDMsBRgcy",
        "colab": {
          "base_uri": "https://localhost:8080/"
        },
        "outputId": "4b485eac-905e-4d0d-ffa5-137a36352ea0"
      },
      "source": [
        "import re\n",
        "\n",
        "txt = \"babcccc\"\n",
        "x = re.search(\"(abc+)\", txt)\n",
        "print(x)\n",
        "\n",
        "\n",
        "txt = \"babcccc\"\n",
        "x = re.match(\"(abc+)\", txt)\n",
        "print(x)"
      ],
      "execution_count": null,
      "outputs": [
        {
          "output_type": "stream",
          "name": "stdout",
          "text": [
            "<re.Match object; span=(1, 7), match='abcccc'>\n",
            "None\n"
          ]
        }
      ]
    },
    {
      "cell_type": "markdown",
      "metadata": {
        "id": "iJ70Z-tWQQTz"
      },
      "source": [
        "The Match object has properties and methods used to retrieve information about the search, and the result:\n",
        "\n",
        "**.string** returns the string passed into the function\n",
        "\n",
        "**.span()** returns a tuple containing the start-, and end positions of the match.\n",
        "\n",
        "**.group()** returns the part of the string where there was a match"
      ]
    },
    {
      "cell_type": "code",
      "metadata": {
        "id": "M8PsHc-IJkJu",
        "colab": {
          "base_uri": "https://localhost:8080/"
        },
        "outputId": "ec4c304c-a2c3-4fe7-858c-3a52b397bc8b"
      },
      "source": [
        "import re\n",
        "#Search for an upper case \"S\" character in the beginning of a word\n",
        "#The string property returns the search string\n",
        "\n",
        "txt = \"The rain in Spain\"\n",
        "x = re.search(\"S\\w+\", txt)\n",
        "\n",
        "if x:\n",
        "  print(\"YES! We have a match!\")\n",
        "  print(x.string)\n",
        "else:\n",
        "  print(\"No match\")"
      ],
      "execution_count": null,
      "outputs": [
        {
          "output_type": "stream",
          "name": "stdout",
          "text": [
            "YES! We have a match!\n",
            "The rain in Spain\n"
          ]
        }
      ]
    },
    {
      "cell_type": "code",
      "metadata": {
        "id": "b_swQRAkJmzG",
        "colab": {
          "base_uri": "https://localhost:8080/"
        },
        "outputId": "72f6cebc-07a4-4454-8047-e1f9ec4c84b2"
      },
      "source": [
        "import re\n",
        "\n",
        "#Search for an upper case \"S\" character in the beginning of a word, and print its position:\n",
        "\n",
        "txt = \"The rain in Spain\"\n",
        "x = re.search(\"S\\w+\", txt)\n",
        "print(x.span())"
      ],
      "execution_count": null,
      "outputs": [
        {
          "output_type": "stream",
          "name": "stdout",
          "text": [
            "(12, 17)\n"
          ]
        }
      ]
    },
    {
      "cell_type": "code",
      "metadata": {
        "id": "-10ZZcaXKUY_",
        "colab": {
          "base_uri": "https://localhost:8080/"
        },
        "outputId": "edf9170e-ed42-4c17-b1fa-4bc16c6355d3"
      },
      "source": [
        "import re\n",
        "\n",
        "#Search for an upper case \"S\" character in the beginning of a word, and print its position:\n",
        "\n",
        "txt = \"The rain in Spain Singapore Srilanga\"\n",
        "x = re.search(\"(S\\w+)\", txt)\n",
        "\n",
        "print(x.group())\n",
        "print(x.start())\n",
        "print(x.end())"
      ],
      "execution_count": null,
      "outputs": [
        {
          "output_type": "stream",
          "name": "stdout",
          "text": [
            "Spain\n",
            "12\n",
            "17\n"
          ]
        }
      ]
    },
    {
      "cell_type": "code",
      "metadata": {
        "id": "EGnfP-M_dQz9",
        "colab": {
          "base_uri": "https://localhost:8080/"
        },
        "outputId": "f44b0363-70c1-495c-cf68-3d9b32776728"
      },
      "source": [
        "import re\n",
        "\n",
        "#check valid email pattern\n",
        "pattern = '\\w+.*\\w+[@]\\w+\\.(com|net|th)'\n",
        "myemail = 'aurawani@ku.th'\n",
        "res = re.match(pattern, myemail)\n",
        "print(res)\n",
        "\n",
        "# ใช้ () เพื่อแยกส่วนของการ match\n",
        "pattern = '(\\w+.*\\w+)@(\\w+\\.(com|net|th))'\n",
        "myemail = 'aurawan.i@ku.th'\n",
        "res = re.match(pattern, myemail)\n",
        "print(res.group(1))\n",
        "print(res.group(2))\n",
        "\n",
        "# ใช้ ?P<GroupName> ตั้งชื่อกลุ่มเพื่อความสะดวกในการอ้างอิง\n",
        "pattern = '(?P<name>\\w+.*\\w+)@(?P<domain>\\w+\\.(com|net|th))'\n",
        "myemail = 'aurawan.i@ku.th'\n",
        "res = re.match(pattern, myemail)\n",
        "print(res.group('name'))\n",
        "print(res.group('domain'))"
      ],
      "execution_count": null,
      "outputs": [
        {
          "output_type": "stream",
          "name": "stdout",
          "text": [
            "<re.Match object; span=(0, 14), match='aurawani@ku.th'>\n",
            "aurawan.i\n",
            "ku.th\n",
            "aurawan.i\n",
            "ku.th\n"
          ]
        }
      ]
    },
    {
      "cell_type": "markdown",
      "metadata": {
        "id": "lTNuP_62HQ_m"
      },
      "source": [
        "# **RegEx Functions**\n"
      ]
    },
    {
      "cell_type": "markdown",
      "metadata": {
        "id": "efMdLFzBLTIk"
      },
      "source": [
        "**findall**\tReturns a list containing all matches\n",
        "\n",
        "**split**\tReturns a list where the string has been split at each match\n",
        "\n",
        "**sub**\tReplaces one or many matches with a string# New Section"
      ]
    },
    {
      "cell_type": "code",
      "metadata": {
        "id": "JtmdCQ0JHuMG",
        "colab": {
          "base_uri": "https://localhost:8080/"
        },
        "outputId": "9e3cf811-6644-4b51-b996-e1cb8c8f04eb"
      },
      "source": [
        "import re\n",
        "\n",
        "#Return a list containing every occurrence of \"ai\":\n",
        "\n",
        "txt = \"The rain in Spain 12ai33\"\n",
        "x = re.findall(\"\\w*ai.\", txt)\n",
        "print(x)"
      ],
      "execution_count": null,
      "outputs": [
        {
          "output_type": "stream",
          "name": "stdout",
          "text": [
            "['rain', 'Spain', '12ai3']\n"
          ]
        }
      ]
    },
    {
      "cell_type": "code",
      "metadata": {
        "id": "F2KVoE9rH1n2",
        "colab": {
          "base_uri": "https://localhost:8080/"
        },
        "outputId": "10df7ede-004e-43ae-f292-3686f3fb76aa"
      },
      "source": [
        "import re\n",
        "\n",
        "#Split the string at every white-space character:\n",
        "\n",
        "txt = \"The rain in Spain\"\n",
        "x = re.split(\"\\s\", txt)\n",
        "print(x)"
      ],
      "execution_count": null,
      "outputs": [
        {
          "output_type": "stream",
          "name": "stdout",
          "text": [
            "['The', 'rain', 'in', 'Spain']\n"
          ]
        }
      ]
    },
    {
      "cell_type": "code",
      "metadata": {
        "id": "XNHoh9qHH6pm",
        "colab": {
          "base_uri": "https://localhost:8080/"
        },
        "outputId": "f1183cae-2c38-433c-f352-489370ed25fb"
      },
      "source": [
        "import re\n",
        "\n",
        "#Replace all white-space characters with \"_\":\n",
        "\n",
        "txt = \"The rain in Spain\"\n",
        "x = re.sub(\"\\s\", \"_\", txt)\n",
        "print(x)"
      ],
      "execution_count": null,
      "outputs": [
        {
          "output_type": "stream",
          "name": "stdout",
          "text": [
            "The_rain_in_Spain\n"
          ]
        }
      ]
    },
    {
      "cell_type": "code",
      "metadata": {
        "id": "1dKjpM41IURA",
        "colab": {
          "base_uri": "https://localhost:8080/"
        },
        "outputId": "d799aba7-ba8c-4f8c-bf73-708bcf5c851f"
      },
      "source": [
        "import re\n",
        "\n",
        "#Replace the first two occurrences of a white-space character with \"_\":\n",
        "\n",
        "txt = \"The rain in Spain\"\n",
        "x = re.sub(\"\\s\", \"_\", txt, 2)\n",
        "print(x)"
      ],
      "execution_count": null,
      "outputs": [
        {
          "output_type": "stream",
          "name": "stdout",
          "text": [
            "The_rain_in Spain\n"
          ]
        }
      ]
    },
    {
      "cell_type": "code",
      "metadata": {
        "id": "BlPTI4peT_oo",
        "colab": {
          "base_uri": "https://localhost:8080/"
        },
        "outputId": "8883252d-b3e3-406b-a7b9-4629a6147cf6"
      },
      "source": [
        "import re\n",
        "\n",
        "txt = \"there\"\n",
        "x = re.match(\"[^a-zA-Z][tT]he[a-zA-Z]*\\d+\", txt)\n",
        "print(x)\n",
        "\n",
        "# Enter txt that match the pattern\n",
        "txt = \"2theaa1\"\n",
        "x = re.search(\"[^a-zA-Z][tT]he[a-zA-Z]*\\d+\", txt)\n",
        "print(x)"
      ],
      "execution_count": null,
      "outputs": [
        {
          "output_type": "stream",
          "name": "stdout",
          "text": [
            "None\n",
            "<re.Match object; span=(0, 7), match='2theaa1'>\n"
          ]
        }
      ]
    },
    {
      "cell_type": "markdown",
      "metadata": {
        "id": "NFzUeOt2o_4j"
      },
      "source": [
        "# More Regular Expressions\n",
        "\n",
        "หมายเหตุ\n",
        "\n",
        "1. \\b หมายถึง Word Boundary => คำที่ต้องการหาจะเป็นคำที่ไม่ติดกับตัวอักษรใด\n",
        "\n",
        "เช่น\n",
        "\n",
        "\\bThe => หน้าคำว่า “The” จะต้องไม่มีตัวอักษรใด\n",
        "\n",
        "\\bThe\\b => ว่าหน้าและหลังคำว่า “The” จะต้องไม่มีตัวอักษรใด ๆ\n",
        "\n",
        "\n",
        "\n",
        "2. \"r\" ที่อยู่ด้านหน้า string หมายถึง string นั้นเป็น raw string ที่ไม่ได้ประกอบด้วย escape characters เช่น \\b ไม่ได้หมายถึง backslash จะหมายถึง Word Boundary"
      ]
    },
    {
      "cell_type": "code",
      "metadata": {
        "id": "ytjzeoVhcZ7R",
        "colab": {
          "base_uri": "https://localhost:8080/"
        },
        "outputId": "7ec8f412-ac0a-491f-d177-f3e445efb9a9"
      },
      "source": [
        "import re\n",
        "\n",
        "txt = \"the bigger they were, the bigger they will be\"\n",
        "x = re.search(r'\\bthe (.*)er they were, the \\1er they will be\\b', txt)\n",
        "# def that not escape binary, \\b = \\ to ensure that its a plain \"the\", \\1 ref group1\n",
        "print(x)\n",
        "\n",
        "txt = \"the faster they ran, the faster we ran\"\n",
        "x = re.search(r'\\bthe (.*)er they (.*), the \\1er we \\2\\b', txt)\n",
        "print(x)\n",
        "\n",
        "txt = \"some cats like some cats\"\n",
        "x = re.search(r'\\b(?:some|a few) (people|cats) like some \\1\\b', txt)\n",
        "print(x)\n",
        "print()\n",
        "\n",
        "txt = \"He says, I'm depressed much of the time.\"\n",
        "x = re.sub(r\"\\b.* I'm (depressed|sad) .*\\b\", r\"\\bI AM SORRY TO HEAR YOU ARE \\1.\\b\", txt)\n",
        "print(x)"
      ],
      "execution_count": null,
      "outputs": [
        {
          "output_type": "stream",
          "name": "stdout",
          "text": [
            "<re.Match object; span=(0, 45), match='the bigger they were, the bigger they will be'>\n",
            "<re.Match object; span=(0, 38), match='the faster they ran, the faster we ran'>\n",
            "<re.Match object; span=(0, 24), match='some cats like some cats'>\n",
            "\n",
            "\bI AM SORRY TO HEAR YOU ARE depressed.\b.\n"
          ]
        }
      ]
    },
    {
      "cell_type": "code",
      "source": [
        "print(\"Hello! Welcome to smart chatbot.\")\n",
        "text = input(\"Can I help you?: \")\n",
        "intend = \"process\"\n",
        "\n",
        "while intend != \"bye\":\n",
        "  if re.match(r\"\\b(Do you have|I want) ([A-Za-z ]+)\\b\", text):\n",
        "    res = re.match(r\"\\b(Do you have|I want) ([A-Za-z ]+)\\b\", text)\n",
        "    product = res.group(2)\n",
        "    print(f\"We have some {product}. Price is 200 baht/piece. [A01, A02, A03]\")\n",
        "    text = input(\"Please type the product number that you want: \")\n",
        "  elif re.match(r\"\\bA(\\d+)\\b\", text):\n",
        "    res = re.match(r\"\\b(A\\d+)\\b\", text)\n",
        "    item = res.group(1)\n",
        "    print(f\"You select {product} number {item}\")\n",
        "    text = input(\"How many pieces do you want? \")\n",
        "  elif re.match(r\"\\b(\\d+)\\b\", text):\n",
        "    res = re.match(r\"\\b(\\d+)\\b\", text)\n",
        "    quantity = res.group(1)\n",
        "    print(f\"You select {product} number {item} {quantity} pieces\")\n",
        "    text = input(\"Do you want anymore?\")\n",
        "  elif re.match(r\"\\b[n|N]o|[t|T]hank [you]*([A-Za-z ]+)\\b\", text):\n",
        "    intend = \"bye\"\n",
        "  else:\n",
        "    print(\"Sorry! I don't understand. Please contact to admin\")\n",
        "    intend = \"bye\"\n",
        "\n",
        "print(\"Thank you. See you again next time.\")"
      ],
      "metadata": {
        "id": "ussCGK1meoYM"
      },
      "execution_count": null,
      "outputs": []
    },
    {
      "cell_type": "markdown",
      "source": [
        "1. จงเขียน regular expression ที่ match กับข้อความต่อไปนี้\n",
        "pit\n",
        "\n",
        "spot\n",
        "\n",
        "spate\n",
        "\n",
        "slap two\n",
        "\n",
        "respit\n",
        "\n",
        "แต่ไม่ match กับข้อความเหล่านี้\n",
        "pt\n",
        "\n",
        "Pot\n",
        "\n",
        "part\n",
        "\n",
        "respect\n",
        "\n",
        "populate"
      ],
      "metadata": {
        "id": "lduOZo7a55Fy"
      }
    },
    {
      "cell_type": "code",
      "source": [
        "## Your Code ##\n",
        "\n",
        "import re\n",
        "def check(params):\n",
        "  for v in params:\n",
        "    pattern = '\\w*p.t.*'\n",
        "    print(re.match(pattern, v))\n",
        "\n",
        "check(['pit', 'spot', 'spate', 'slap two', 'respit', 'Pot', 'part', 'respect', 'populate'])"
      ],
      "metadata": {
        "id": "OidCHHXmggQe",
        "colab": {
          "base_uri": "https://localhost:8080/"
        },
        "outputId": "6768bcbd-93a8-4d91-d374-db2d73525f0a"
      },
      "execution_count": null,
      "outputs": [
        {
          "output_type": "stream",
          "name": "stdout",
          "text": [
            "<re.Match object; span=(0, 3), match='pit'>\n",
            "<re.Match object; span=(0, 4), match='spot'>\n",
            "<re.Match object; span=(0, 5), match='spate'>\n",
            "<re.Match object; span=(0, 8), match='slap two'>\n",
            "<re.Match object; span=(0, 6), match='respit'>\n",
            "None\n",
            "None\n",
            "None\n",
            "None\n"
          ]
        }
      ]
    },
    {
      "cell_type": "markdown",
      "source": [
        "2. Implement an ELIZA-like program, using substitutions such as those described on slide 12-13."
      ],
      "metadata": {
        "id": "KXdlPNMEgjMx"
      }
    },
    {
      "cell_type": "code",
      "source": [
        "\n",
        "## Your Code ##\n",
        "\n",
        "# I want to go to the ...\n",
        "# I want to get to the ...\n",
        "# I'd like to go to the ...\n",
        "# I plan on going to the ...\n",
        "# im going to the ...\n",
        "# I will be going to the ...\n",
        "# I'll go to the ...\n",
        "# do you know the way to go to the ...\n",
        "# do you know where the party is\n",
        "# do you know how to get to the party\n",
        "\n",
        "# destination plan bot\n",
        "\n",
        "import re\n",
        "import random\n",
        "\n",
        "def check(param, option):\n",
        "    try:\n",
        "        if option != 'choice':\n",
        "            if option == 'dest':\n",
        "                pattern = r'\\b(.*[D|d]?o you know.*the|.*[I|i]?.*[to]*.*the) (\\w+)\\b'\n",
        "\n",
        "            elif option == 'valid':\n",
        "                pattern = r'\\b(^[Y|y](e*|(es*))|^[N|n]o*)\\b'\n",
        "\n",
        "            if re.match(pattern, param):\n",
        "                return re.match(pattern, param)\n",
        "            raise Exception\n",
        "\n",
        "        elif option == 'choice':\n",
        "            match message:\n",
        "                case 1:\n",
        "                    print(\"bot: Here are your plans\")\n",
        "                    for i in range(len(ls)):\n",
        "                        print(f\"    {i+1}. {ls[i]}\")\n",
        "                    return 1\n",
        "                case 2:\n",
        "                    print(\"bot: Where would you like to go?\")\n",
        "                    return 2\n",
        "                case 3:\n",
        "                    print(\"bot: Thank you for using our service\")\n",
        "                    return 3\n",
        "                case _:\n",
        "                    pass\n",
        "\n",
        "    except:\n",
        "        print(\"bot: Sorry, I didn't understand that.\")\n",
        "\n",
        "print(\"bot: Hello, I'm a destination plan bot. \\nbot: Where would you like to go?\")\n",
        "\n",
        "perm = 0\n",
        "ls = []\n",
        "\n",
        "while 1:\n",
        "    message = input('user: ')\n",
        "    dest = check(message, 'dest').group(2)\n",
        "    disc = random.randint(1, 100)\n",
        "    print(\"bot: \" + dest + f\"? Alright, I know where that is. \\nbot: It's going to be {disc} km away and that would cost about {disc*10} baht. \\nbot: Would you like to go there? (y/n)\")\n",
        "    message = input('user: ')\n",
        "    valid = check(message, 'valid').group(1)\n",
        "    if re.match('^[Y|y]', valid):\n",
        "        while 1:\n",
        "            if perm == 0:\n",
        "                perm = 1\n",
        "                ls.append({'location': dest, 'distance': disc, 'cost': disc*10})\n",
        "                print(\"bot: Great! I'll add the location in your plan.\")\n",
        "\n",
        "            print(\"bot: press the number in order to access the following options 1.(see all plans) 2.(add another plan) 3.(exit)\")\n",
        "            message = int(input('user: '))\n",
        "            choice = check(message, 'choice')\n",
        "            if choice == 1:\n",
        "                continue\n",
        "            elif choice == 2:\n",
        "                perm = 0\n",
        "                break\n",
        "            elif choice == 3:\n",
        "                perm = -1\n",
        "                break\n",
        "\n",
        "        if perm == -1:\n",
        "            break\n",
        "        continue\n",
        "    else:\n",
        "        print(\"bot: I understood, anywhere else would you like to go?\")\n",
        "        continue"
      ],
      "metadata": {
        "id": "xutvyh6Eg0e3",
        "colab": {
          "base_uri": "https://localhost:8080/"
        },
        "outputId": "365fd7a5-ecd3-4280-f02f-c255030423f1"
      },
      "execution_count": null,
      "outputs": [
        {
          "output_type": "stream",
          "name": "stdout",
          "text": [
            "bot: Hello, I'm a destination plan bot. \n",
            "bot: Where would you like to go?\n",
            "user: do you know where the ku is?\n",
            "bot: ku? Alright, I know where that is. \n",
            "bot: It's going to be 54 km away and that would cost about 540 baht. \n",
            "bot: Would you like to go there? (y/n)\n",
            "user: yesss\n",
            "bot: Great! I'll add the location in your plan.\n",
            "bot: press the number in order to access the following options 1.(see all plans) 2.(add another plan) 3.(exit)\n",
            "user: 2\n",
            "bot: Where would you like to go?\n",
            "user: well, i also wanna go to the movie\n",
            "bot: movie? Alright, I know where that is. \n",
            "bot: It's going to be 97 km away and that would cost about 970 baht. \n",
            "bot: Would you like to go there? (y/n)\n",
            "user: yes\n",
            "bot: Great! I'll add the location in your plan.\n",
            "bot: press the number in order to access the following options 1.(see all plans) 2.(add another plan) 3.(exit)\n",
            "user: 1\n",
            "bot: Here are your plans\n",
            "    1. {'location': 'ku', 'distance': 54, 'cost': 540}\n",
            "    2. {'location': 'movie', 'distance': 97, 'cost': 970}\n",
            "bot: press the number in order to access the following options 1.(see all plans) 2.(add another plan) 3.(exit)\n",
            "user: 3\n",
            "bot: Thank you for using our service\n"
          ]
        }
      ]
    }
  ]
}
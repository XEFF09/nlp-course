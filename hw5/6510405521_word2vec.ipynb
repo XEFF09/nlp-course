{
  "nbformat": 4,
  "nbformat_minor": 0,
  "metadata": {
    "colab": {
      "provenance": []
    },
    "kernelspec": {
      "display_name": "Python 3",
      "name": "python3"
    },
    "language_info": {
      "name": "python"
    },
    "accelerator": "GPU",
    "gpuClass": "standard"
  },
  "cells": [
    {
      "cell_type": "markdown",
      "metadata": {
        "id": "y44rEdwYInQr"
      },
      "source": [
        "# **Setup**"
      ]
    },
    {
      "cell_type": "code",
      "metadata": {
        "id": "8Ti5om1FIjrq",
        "colab": {
          "base_uri": "https://localhost:8080/"
        },
        "outputId": "6acbf209-0e7b-42f4-ef3d-6b1ae1d88c71"
      },
      "source": [
        "# download data\n",
        "!wget --no-check-certificate 'https://docs.google.com/uc?export=download&id=1nckRRVYRiWG8VWoUY4wwtuQm6DjIbpmo' -O w_review_train.csv\n",
        "\n",
        "# download font for matplot\n",
        "!wget --no-check-certificate 'https://docs.google.com/uc?export=download&id=1DsfYE5uI1ZA_IXDNkezQTv-NQehxgZQy' -O THSarabun.ttf\n",
        "\n",
        "# install library\n",
        "!pip install gensim\n",
        "!pip install pythainlp"
      ],
      "execution_count": null,
      "outputs": [
        {
          "output_type": "stream",
          "name": "stdout",
          "text": [
            "--2023-08-01 17:10:00--  https://docs.google.com/uc?export=download&id=1nckRRVYRiWG8VWoUY4wwtuQm6DjIbpmo\n",
            "Resolving docs.google.com (docs.google.com)... 173.194.192.101, 173.194.192.102, 173.194.192.100, ...\n",
            "Connecting to docs.google.com (docs.google.com)|173.194.192.101|:443... connected.\n",
            "HTTP request sent, awaiting response... 303 See Other\n",
            "Location: https://doc-0o-90-docs.googleusercontent.com/docs/securesc/ha0ro937gcuc7l7deffksulhg5h7mbp1/16ajdkv01c98oofi2d5i3a6qdn15ffjb/1690909800000/07034668329300256193/*/1nckRRVYRiWG8VWoUY4wwtuQm6DjIbpmo?e=download&uuid=585d265e-ad1b-4b12-97c8-1c89f4748e15 [following]\n",
            "Warning: wildcards not supported in HTTP.\n",
            "--2023-08-01 17:10:01--  https://doc-0o-90-docs.googleusercontent.com/docs/securesc/ha0ro937gcuc7l7deffksulhg5h7mbp1/16ajdkv01c98oofi2d5i3a6qdn15ffjb/1690909800000/07034668329300256193/*/1nckRRVYRiWG8VWoUY4wwtuQm6DjIbpmo?e=download&uuid=585d265e-ad1b-4b12-97c8-1c89f4748e15\n",
            "Resolving doc-0o-90-docs.googleusercontent.com (doc-0o-90-docs.googleusercontent.com)... 209.85.200.132, 2607:f8b0:4001:c16::84\n",
            "Connecting to doc-0o-90-docs.googleusercontent.com (doc-0o-90-docs.googleusercontent.com)|209.85.200.132|:443... connected.\n",
            "HTTP request sent, awaiting response... 200 OK\n",
            "Length: 60418516 (58M) [text/csv]\n",
            "Saving to: ‘w_review_train.csv’\n",
            "\n",
            "w_review_train.csv  100%[===================>]  57.62M   225MB/s    in 0.3s    \n",
            "\n",
            "2023-08-01 17:10:02 (225 MB/s) - ‘w_review_train.csv’ saved [60418516/60418516]\n",
            "\n",
            "--2023-08-01 17:10:02--  https://docs.google.com/uc?export=download&id=1DsfYE5uI1ZA_IXDNkezQTv-NQehxgZQy\n",
            "Resolving docs.google.com (docs.google.com)... 173.194.192.101, 173.194.192.102, 173.194.192.100, ...\n",
            "Connecting to docs.google.com (docs.google.com)|173.194.192.101|:443... connected.\n",
            "HTTP request sent, awaiting response... 303 See Other\n",
            "Location: https://doc-14-90-docs.googleusercontent.com/docs/securesc/ha0ro937gcuc7l7deffksulhg5h7mbp1/v6kmo5cjgg0irmf3cesi5ucv1ag1j5qs/1690909800000/07034668329300256193/*/1DsfYE5uI1ZA_IXDNkezQTv-NQehxgZQy?e=download&uuid=9cc1a4c1-988b-4c02-a209-f86f543bf69a [following]\n",
            "Warning: wildcards not supported in HTTP.\n",
            "--2023-08-01 17:10:02--  https://doc-14-90-docs.googleusercontent.com/docs/securesc/ha0ro937gcuc7l7deffksulhg5h7mbp1/v6kmo5cjgg0irmf3cesi5ucv1ag1j5qs/1690909800000/07034668329300256193/*/1DsfYE5uI1ZA_IXDNkezQTv-NQehxgZQy?e=download&uuid=9cc1a4c1-988b-4c02-a209-f86f543bf69a\n",
            "Resolving doc-14-90-docs.googleusercontent.com (doc-14-90-docs.googleusercontent.com)... 209.85.200.132, 2607:f8b0:4001:c16::84\n",
            "Connecting to doc-14-90-docs.googleusercontent.com (doc-14-90-docs.googleusercontent.com)|209.85.200.132|:443... connected.\n",
            "HTTP request sent, awaiting response... 200 OK\n",
            "Length: 99980 (98K) [application/x-font-ttf]\n",
            "Saving to: ‘THSarabun.ttf’\n",
            "\n",
            "THSarabun.ttf       100%[===================>]  97.64K  --.-KB/s    in 0.001s  \n",
            "\n",
            "2023-08-01 17:10:02 (139 MB/s) - ‘THSarabun.ttf’ saved [99980/99980]\n",
            "\n",
            "Requirement already satisfied: gensim in /usr/local/lib/python3.10/dist-packages (4.3.1)\n",
            "Requirement already satisfied: numpy>=1.18.5 in /usr/local/lib/python3.10/dist-packages (from gensim) (1.22.4)\n",
            "Requirement already satisfied: scipy>=1.7.0 in /usr/local/lib/python3.10/dist-packages (from gensim) (1.10.1)\n",
            "Requirement already satisfied: smart-open>=1.8.1 in /usr/local/lib/python3.10/dist-packages (from gensim) (6.3.0)\n",
            "Requirement already satisfied: pythainlp in /usr/local/lib/python3.10/dist-packages (4.0.2)\n",
            "Requirement already satisfied: requests>=2.22.0 in /usr/local/lib/python3.10/dist-packages (from pythainlp) (2.27.1)\n",
            "Requirement already satisfied: urllib3<1.27,>=1.21.1 in /usr/local/lib/python3.10/dist-packages (from requests>=2.22.0->pythainlp) (1.26.16)\n",
            "Requirement already satisfied: certifi>=2017.4.17 in /usr/local/lib/python3.10/dist-packages (from requests>=2.22.0->pythainlp) (2023.7.22)\n",
            "Requirement already satisfied: charset-normalizer~=2.0.0 in /usr/local/lib/python3.10/dist-packages (from requests>=2.22.0->pythainlp) (2.0.12)\n",
            "Requirement already satisfied: idna<4,>=2.5 in /usr/local/lib/python3.10/dist-packages (from requests>=2.22.0->pythainlp) (3.4)\n"
          ]
        }
      ]
    },
    {
      "cell_type": "code",
      "metadata": {
        "id": "fx1jBmK7Iy0R"
      },
      "source": [
        "from gensim.models import Word2Vec\n",
        "\n",
        "from pythainlp import word_tokenize\n",
        "from pythainlp.util import dict_trie\n",
        "from pythainlp.corpus.common import thai_words\n",
        "from pythainlp.corpus import thai_stopwords\n",
        "\n",
        "import pandas as pd\n",
        "import numpy as np\n",
        "import re\n",
        "\n",
        "from sklearn.decomposition import PCA\n",
        "import matplotlib.pyplot as plt\n",
        "from matplotlib.font_manager import FontProperties\n",
        "\n",
        "%matplotlib inline"
      ],
      "execution_count": null,
      "outputs": []
    },
    {
      "cell_type": "markdown",
      "metadata": {
        "id": "dOZ5Zu4MJQT5"
      },
      "source": [
        "# **loading** **data**"
      ]
    },
    {
      "cell_type": "code",
      "metadata": {
        "colab": {
          "base_uri": "https://localhost:8080/",
          "height": 363
        },
        "id": "j7Hh4LWZJNfG",
        "outputId": "d929734e-1cf8-4ded-f6ea-02052b56d469"
      },
      "source": [
        "train = pd.read_csv(\"w_review_train.csv\",  encoding='utf8', names=[\"sentence\"])\n",
        "train.head(10)"
      ],
      "execution_count": null,
      "outputs": [
        {
          "output_type": "execute_result",
          "data": {
            "text/plain": [
              "                                            sentence\n",
              "0  ร้านอาหารใหญ่มากกกกกกก \\nเลี้ยวเข้ามาเจอห้องน้...\n",
              "1  อาหารที่นี่เป็นอาหารจีนแคะที่หากินยากในบ้านเรา...\n",
              "2  ปอเปี๊ยะสด ทุกวันนี้รู้สึกว่าหากินยาก (ร้านที่...\n",
              "3  รัานคัพเค้กในเมืองไทยมีไม่มาก หลายๆคนอาจจะสงสั...\n",
              "4  อร่อย!!! เดินผ่านDigital gatewayทุกวัน ไม่ยักร...\n",
              "5  ร้านข้าวต้มกระดูกหมู ปากซอยพัฒนาการ 57 เป็นอีก...\n",
              "6  วันนี้ได้มีโอกาสไปนั่งซดกาแฟที่ร้านวาวี แถวๆอา...\n",
              "7  สารภาพว่าไม่เคยคิดจะไปต่อคิวซื้อมากินเองครับ บ...\n",
              "8  เมื่อวันก่อนไปเดินเล่น แบบชิวๆๆ ที่สยามสแควร์แ...\n",
              "9  วันก่อนไปเดินสยาม หลังจากห่างหายไป ประมาณ 6 เด..."
            ],
            "text/html": [
              "\n",
              "\n",
              "  <div id=\"df-65b100ef-4cba-443c-8117-8d51bf131686\">\n",
              "    <div class=\"colab-df-container\">\n",
              "      <div>\n",
              "<style scoped>\n",
              "    .dataframe tbody tr th:only-of-type {\n",
              "        vertical-align: middle;\n",
              "    }\n",
              "\n",
              "    .dataframe tbody tr th {\n",
              "        vertical-align: top;\n",
              "    }\n",
              "\n",
              "    .dataframe thead th {\n",
              "        text-align: right;\n",
              "    }\n",
              "</style>\n",
              "<table border=\"1\" class=\"dataframe\">\n",
              "  <thead>\n",
              "    <tr style=\"text-align: right;\">\n",
              "      <th></th>\n",
              "      <th>sentence</th>\n",
              "    </tr>\n",
              "  </thead>\n",
              "  <tbody>\n",
              "    <tr>\n",
              "      <th>0</th>\n",
              "      <td>ร้านอาหารใหญ่มากกกกกกก \\nเลี้ยวเข้ามาเจอห้องน้...</td>\n",
              "    </tr>\n",
              "    <tr>\n",
              "      <th>1</th>\n",
              "      <td>อาหารที่นี่เป็นอาหารจีนแคะที่หากินยากในบ้านเรา...</td>\n",
              "    </tr>\n",
              "    <tr>\n",
              "      <th>2</th>\n",
              "      <td>ปอเปี๊ยะสด ทุกวันนี้รู้สึกว่าหากินยาก (ร้านที่...</td>\n",
              "    </tr>\n",
              "    <tr>\n",
              "      <th>3</th>\n",
              "      <td>รัานคัพเค้กในเมืองไทยมีไม่มาก หลายๆคนอาจจะสงสั...</td>\n",
              "    </tr>\n",
              "    <tr>\n",
              "      <th>4</th>\n",
              "      <td>อร่อย!!! เดินผ่านDigital gatewayทุกวัน ไม่ยักร...</td>\n",
              "    </tr>\n",
              "    <tr>\n",
              "      <th>5</th>\n",
              "      <td>ร้านข้าวต้มกระดูกหมู ปากซอยพัฒนาการ 57 เป็นอีก...</td>\n",
              "    </tr>\n",
              "    <tr>\n",
              "      <th>6</th>\n",
              "      <td>วันนี้ได้มีโอกาสไปนั่งซดกาแฟที่ร้านวาวี แถวๆอา...</td>\n",
              "    </tr>\n",
              "    <tr>\n",
              "      <th>7</th>\n",
              "      <td>สารภาพว่าไม่เคยคิดจะไปต่อคิวซื้อมากินเองครับ บ...</td>\n",
              "    </tr>\n",
              "    <tr>\n",
              "      <th>8</th>\n",
              "      <td>เมื่อวันก่อนไปเดินเล่น แบบชิวๆๆ ที่สยามสแควร์แ...</td>\n",
              "    </tr>\n",
              "    <tr>\n",
              "      <th>9</th>\n",
              "      <td>วันก่อนไปเดินสยาม หลังจากห่างหายไป ประมาณ 6 เด...</td>\n",
              "    </tr>\n",
              "  </tbody>\n",
              "</table>\n",
              "</div>\n",
              "      <button class=\"colab-df-convert\" onclick=\"convertToInteractive('df-65b100ef-4cba-443c-8117-8d51bf131686')\"\n",
              "              title=\"Convert this dataframe to an interactive table.\"\n",
              "              style=\"display:none;\">\n",
              "\n",
              "  <svg xmlns=\"http://www.w3.org/2000/svg\" height=\"24px\"viewBox=\"0 0 24 24\"\n",
              "       width=\"24px\">\n",
              "    <path d=\"M0 0h24v24H0V0z\" fill=\"none\"/>\n",
              "    <path d=\"M18.56 5.44l.94 2.06.94-2.06 2.06-.94-2.06-.94-.94-2.06-.94 2.06-2.06.94zm-11 1L8.5 8.5l.94-2.06 2.06-.94-2.06-.94L8.5 2.5l-.94 2.06-2.06.94zm10 10l.94 2.06.94-2.06 2.06-.94-2.06-.94-.94-2.06-.94 2.06-2.06.94z\"/><path d=\"M17.41 7.96l-1.37-1.37c-.4-.4-.92-.59-1.43-.59-.52 0-1.04.2-1.43.59L10.3 9.45l-7.72 7.72c-.78.78-.78 2.05 0 2.83L4 21.41c.39.39.9.59 1.41.59.51 0 1.02-.2 1.41-.59l7.78-7.78 2.81-2.81c.8-.78.8-2.07 0-2.86zM5.41 20L4 18.59l7.72-7.72 1.47 1.35L5.41 20z\"/>\n",
              "  </svg>\n",
              "      </button>\n",
              "\n",
              "\n",
              "\n",
              "    <div id=\"df-0460c88f-f4a4-4c95-9f5d-5db09b073421\">\n",
              "      <button class=\"colab-df-quickchart\" onclick=\"quickchart('df-0460c88f-f4a4-4c95-9f5d-5db09b073421')\"\n",
              "              title=\"Suggest charts.\"\n",
              "              style=\"display:none;\">\n",
              "\n",
              "<svg xmlns=\"http://www.w3.org/2000/svg\" height=\"24px\"viewBox=\"0 0 24 24\"\n",
              "     width=\"24px\">\n",
              "    <g>\n",
              "        <path d=\"M19 3H5c-1.1 0-2 .9-2 2v14c0 1.1.9 2 2 2h14c1.1 0 2-.9 2-2V5c0-1.1-.9-2-2-2zM9 17H7v-7h2v7zm4 0h-2V7h2v10zm4 0h-2v-4h2v4z\"/>\n",
              "    </g>\n",
              "</svg>\n",
              "      </button>\n",
              "    </div>\n",
              "\n",
              "<style>\n",
              "  .colab-df-quickchart {\n",
              "    background-color: #E8F0FE;\n",
              "    border: none;\n",
              "    border-radius: 50%;\n",
              "    cursor: pointer;\n",
              "    display: none;\n",
              "    fill: #1967D2;\n",
              "    height: 32px;\n",
              "    padding: 0 0 0 0;\n",
              "    width: 32px;\n",
              "  }\n",
              "\n",
              "  .colab-df-quickchart:hover {\n",
              "    background-color: #E2EBFA;\n",
              "    box-shadow: 0px 1px 2px rgba(60, 64, 67, 0.3), 0px 1px 3px 1px rgba(60, 64, 67, 0.15);\n",
              "    fill: #174EA6;\n",
              "  }\n",
              "\n",
              "  [theme=dark] .colab-df-quickchart {\n",
              "    background-color: #3B4455;\n",
              "    fill: #D2E3FC;\n",
              "  }\n",
              "\n",
              "  [theme=dark] .colab-df-quickchart:hover {\n",
              "    background-color: #434B5C;\n",
              "    box-shadow: 0px 1px 3px 1px rgba(0, 0, 0, 0.15);\n",
              "    filter: drop-shadow(0px 1px 2px rgba(0, 0, 0, 0.3));\n",
              "    fill: #FFFFFF;\n",
              "  }\n",
              "</style>\n",
              "\n",
              "    <script>\n",
              "      async function quickchart(key) {\n",
              "        const containerElement = document.querySelector('#' + key);\n",
              "        const charts = await google.colab.kernel.invokeFunction(\n",
              "            'suggestCharts', [key], {});\n",
              "      }\n",
              "    </script>\n",
              "\n",
              "      <script>\n",
              "\n",
              "function displayQuickchartButton(domScope) {\n",
              "  let quickchartButtonEl =\n",
              "    domScope.querySelector('#df-0460c88f-f4a4-4c95-9f5d-5db09b073421 button.colab-df-quickchart');\n",
              "  quickchartButtonEl.style.display =\n",
              "    google.colab.kernel.accessAllowed ? 'block' : 'none';\n",
              "}\n",
              "\n",
              "        displayQuickchartButton(document);\n",
              "      </script>\n",
              "      <style>\n",
              "    .colab-df-container {\n",
              "      display:flex;\n",
              "      flex-wrap:wrap;\n",
              "      gap: 12px;\n",
              "    }\n",
              "\n",
              "    .colab-df-convert {\n",
              "      background-color: #E8F0FE;\n",
              "      border: none;\n",
              "      border-radius: 50%;\n",
              "      cursor: pointer;\n",
              "      display: none;\n",
              "      fill: #1967D2;\n",
              "      height: 32px;\n",
              "      padding: 0 0 0 0;\n",
              "      width: 32px;\n",
              "    }\n",
              "\n",
              "    .colab-df-convert:hover {\n",
              "      background-color: #E2EBFA;\n",
              "      box-shadow: 0px 1px 2px rgba(60, 64, 67, 0.3), 0px 1px 3px 1px rgba(60, 64, 67, 0.15);\n",
              "      fill: #174EA6;\n",
              "    }\n",
              "\n",
              "    [theme=dark] .colab-df-convert {\n",
              "      background-color: #3B4455;\n",
              "      fill: #D2E3FC;\n",
              "    }\n",
              "\n",
              "    [theme=dark] .colab-df-convert:hover {\n",
              "      background-color: #434B5C;\n",
              "      box-shadow: 0px 1px 3px 1px rgba(0, 0, 0, 0.15);\n",
              "      filter: drop-shadow(0px 1px 2px rgba(0, 0, 0, 0.3));\n",
              "      fill: #FFFFFF;\n",
              "    }\n",
              "  </style>\n",
              "\n",
              "      <script>\n",
              "        const buttonEl =\n",
              "          document.querySelector('#df-65b100ef-4cba-443c-8117-8d51bf131686 button.colab-df-convert');\n",
              "        buttonEl.style.display =\n",
              "          google.colab.kernel.accessAllowed ? 'block' : 'none';\n",
              "\n",
              "        async function convertToInteractive(key) {\n",
              "          const element = document.querySelector('#df-65b100ef-4cba-443c-8117-8d51bf131686');\n",
              "          const dataTable =\n",
              "            await google.colab.kernel.invokeFunction('convertToInteractive',\n",
              "                                                     [key], {});\n",
              "          if (!dataTable) return;\n",
              "\n",
              "          const docLinkHtml = 'Like what you see? Visit the ' +\n",
              "            '<a target=\"_blank\" href=https://colab.research.google.com/notebooks/data_table.ipynb>data table notebook</a>'\n",
              "            + ' to learn more about interactive tables.';\n",
              "          element.innerHTML = '';\n",
              "          dataTable['output_type'] = 'display_data';\n",
              "          await google.colab.output.renderOutput(dataTable, element);\n",
              "          const docLink = document.createElement('div');\n",
              "          docLink.innerHTML = docLinkHtml;\n",
              "          element.appendChild(docLink);\n",
              "        }\n",
              "      </script>\n",
              "    </div>\n",
              "  </div>\n"
            ]
          },
          "metadata": {},
          "execution_count": 94
        }
      ]
    },
    {
      "cell_type": "code",
      "metadata": {
        "colab": {
          "base_uri": "https://localhost:8080/"
        },
        "id": "PGhbWe_AJX69",
        "outputId": "33869162-8acd-4d18-9cf4-1bab408e9b00"
      },
      "source": [
        "train.shape"
      ],
      "execution_count": null,
      "outputs": [
        {
          "output_type": "execute_result",
          "data": {
            "text/plain": [
              "(40000, 1)"
            ]
          },
          "metadata": {},
          "execution_count": 95
        }
      ]
    },
    {
      "cell_type": "markdown",
      "metadata": {
        "id": "DqSnuUeqJcMn"
      },
      "source": [
        "# **Creating model and training model using gensim**"
      ]
    },
    {
      "cell_type": "code",
      "metadata": {
        "id": "D6EIAKanJZp9"
      },
      "source": [
        "# add word to dict\n",
        "words = ['ผัดมาม่า', 'ข้าวกะเพราหมู', 'บะหมี่', 'ข้าวผัดมันกุ้ง', 'ข้าวมันไก่', 'ชาไทย', 'โค๊ก', 'ชูโรส', 'ชีสเค๊ก', 'ไอติม']\n",
        "custom_words_list = set(thai_words())\n",
        "custom_words_list.update(words)\n",
        "trie = dict_trie(dict_source=custom_words_list)"
      ],
      "execution_count": null,
      "outputs": []
    },
    {
      "cell_type": "code",
      "metadata": {
        "id": "a5Y0QyhwJo8f"
      },
      "source": [
        "STOP_WORD = list(thai_stopwords()) + [\" \", \"\\n\"]\n",
        "\n",
        "FORMAT = r\"[\\u0E00-\\u0E7Fa-zA-Z'0-9]+\""
      ],
      "execution_count": null,
      "outputs": []
    },
    {
      "cell_type": "code",
      "metadata": {
        "id": "2wrckY4YKFnf"
      },
      "source": [
        "def tokenize(sentence):\n",
        "  return word_tokenize(sentence, engine=\"newmm\", custom_dict=trie)\n",
        "\n",
        "def cleaning_stop_word(tk_list):\n",
        "  return [word for word in tk_list if word not in STOP_WORD]\n",
        "\n",
        "def cleaning_symbols_emoji(tk_list):\n",
        "  return [re.findall(FORMAT, text)[0] for text in tk_list if re.findall(FORMAT, text)]"
      ],
      "execution_count": null,
      "outputs": []
    },
    {
      "cell_type": "markdown",
      "source": [
        "**Word2Vec Function:**\n",
        "* **tokenized_list** เป็นข้อมูลที่ใช้ train โมเดล โดยจะอยู่ในลักษณะของ list ของ list ของ tokens (คำในแต่ละรีวิว)\n",
        "\n",
        "* **vector_size** เป็นจำนวนมิติของ embedding layer (ขนาดของ embedded  vector) ที่ต้องการ\n",
        "\n",
        "* **window** คือจำนวนคำใกล้เคียงที่เกิดขึ้นร่วมกันกับคำที่กำลังฝึกฝนอยู่\n",
        "\n",
        "* **min_count** คือ จำนวนขั้นต่ำของคำที่ปรากฎในข้อมูลการ train ทั้งหมด (คำที่ปรากฎน้อยจะไม่สนใจ)\n",
        "\n",
        "* **worker** คือจำนวนของ computer threads ที่จะใช้ในการ train\n",
        "\n",
        "* **sg** คือ ถ้า =0 คือ train ด้วย CBOW, =1 คือ train ด้วย Skip-gram (ปกติ Skip-gram จะใช้เวลา train นานกว่า CBOW)\n",
        "\n",
        "* **epochs** คือ จำนวนรอบที่โมเดลจะ train ข้อมูล"
      ],
      "metadata": {
        "id": "weDMUZ_RT91C"
      }
    },
    {
      "cell_type": "code",
      "metadata": {
        "id": "WgeDAEq3LUsY"
      },
      "source": [
        "# model 1: doesn't clean anything\n",
        "\n",
        "#### Your Code ####\n",
        "\n",
        "train['tokenized'] = train['sentence'].astype(str).apply(tokenize)\n",
        "model_1 = Word2Vec(train['tokenized'], window=5, min_count=1, workers=10, sg=0)"
      ],
      "execution_count": null,
      "outputs": []
    },
    {
      "cell_type": "code",
      "metadata": {
        "id": "IMk6vNRCLxZ3"
      },
      "source": [
        "# model 2: only cleaning stopword\n",
        "\n",
        "def tk_with_no_stop_word(sentence):\n",
        "  return cleaning_stop_word( tokenize(sentence) )\n",
        "\n",
        "#### Your Code ####\n",
        "\n",
        "train['clean_stop'] = train['sentence'].astype(str).apply(tk_with_no_stop_word)\n",
        "model_2 = Word2Vec(train['clean_stop'], window=5, min_count=1, workers=10, sg=0)"
      ],
      "execution_count": null,
      "outputs": []
    },
    {
      "cell_type": "code",
      "metadata": {
        "id": "3f8o9dkZMWBz"
      },
      "source": [
        "# model 3: only cleaning symbols and emoji\n",
        "\n",
        "def tk_with_no_symbols(sentence):\n",
        "  return cleaning_symbols_emoji( tokenize(sentence) )\n",
        "\n",
        "#### Your Code ####\n",
        "\n",
        "train['clean_sumbols_emoji'] = train['sentence'].astype(str).apply(tk_with_no_symbols)\n",
        "model_3 = Word2Vec(train['clean_sumbols_emoji'], window=5, min_count=1, workers=10, sg=0)"
      ],
      "execution_count": null,
      "outputs": []
    },
    {
      "cell_type": "code",
      "source": [
        "# model 4: cleaning stopword, symbols and emoji and more train wongnai to pretrained model\n",
        "\n",
        "# load pretrained model\n",
        "model_4 = Word2Vec.load('http://www.arts.chula.ac.th/ling/wp-content/uploads/TNCc5model.bin')\n",
        "\n",
        "def big_cleaning(sentence):\n",
        "  return  cleaning_symbols_emoji( cleaning_stop_word( tokenize(sentence) ) )\n",
        "\n",
        "#### Your Code ####\n",
        "\n",
        "train['clean_all'] = train['sentence'].astype(str).apply(big_cleaning)\n",
        "\n",
        "model_4.build_vocab(train['clean_all'], update=True)\n",
        "model_4.train(train['clean_all'], total_examples=model_4.corpus_count, epochs=10)"
      ],
      "metadata": {
        "id": "5cE_K_L5Zg1G",
        "colab": {
          "base_uri": "https://localhost:8080/"
        },
        "outputId": "1e28533e-9411-4efd-f2fb-9dc5fe8dda22"
      },
      "execution_count": null,
      "outputs": [
        {
          "output_type": "execute_result",
          "data": {
            "text/plain": [
              "(25132769, 29529910)"
            ]
          },
          "metadata": {},
          "execution_count": 102
        }
      ]
    },
    {
      "cell_type": "code",
      "source": [
        "# word similarity\n",
        "print(model_1.wv.similarity('อร่อย', 'สุดยอด'))\n",
        "print(model_2.wv.similarity('อร่อย', 'สุดยอด'))\n",
        "print(model_3.wv.similarity('อร่อย', 'สุดยอด'))\n",
        "print(model_4.wv.similarity('อร่อย', 'สุดยอด'))"
      ],
      "metadata": {
        "id": "0wG_90S6_8Ta",
        "colab": {
          "base_uri": "https://localhost:8080/"
        },
        "outputId": "b8d89b77-962c-40fd-9368-f512243485ce"
      },
      "execution_count": null,
      "outputs": [
        {
          "output_type": "stream",
          "name": "stdout",
          "text": [
            "0.46884406\n",
            "0.47055763\n",
            "0.45742127\n",
            "0.4896911\n"
          ]
        }
      ]
    },
    {
      "cell_type": "code",
      "metadata": {
        "id": "mZH_NiC8OAJf",
        "colab": {
          "base_uri": "https://localhost:8080/"
        },
        "outputId": "c78071d4-8290-476c-c91e-a3e3f85fba2e"
      },
      "source": [
        "print(\"doesn't clean anything:\" , model_1.wv.most_similar(\"ชาไทย\", topn=5))\n",
        "print(\"only cleaning stopword:\" , model_2.wv.most_similar(\"ชาไทย\", topn=5))\n",
        "print(\"only cleaing symbols and emoji:\" , model_3.wv.most_similar(\"ชาไทย\", topn=5))\n",
        "print(\"cleaning stopword, symbols and emoji:\" , model_4.wv.most_similar(\"ชาไทย\", topn=5))"
      ],
      "execution_count": null,
      "outputs": [
        {
          "output_type": "stream",
          "name": "stdout",
          "text": [
            "doesn't clean anything: [('ช็อคโกแลต', 0.8050692677497864), ('นมสด', 0.7989682555198669), ('ช็อกโกแลต', 0.7905741930007935), ('มอคค่า', 0.774276852607727), ('คาราเมล', 0.76663738489151)]\n",
            "only cleaning stopword: [('คาราเมล', 0.8089638948440552), ('ช๊อกโกแลต', 0.8033187389373779), ('โกโก้', 0.7967572212219238), ('ช็อคโกแลต', 0.7950376868247986), ('ช็อกโกแลต', 0.7938374876976013)]\n",
            "only cleaing symbols and emoji: [('ช็อกโกแลต', 0.8085980415344238), ('ช๊อกโกแลต', 0.7928184866905212), ('คาราเมล', 0.7895805835723877), ('ช็อคโกแลต', 0.7796087861061096), ('นมสด', 0.7749619483947754)]\n",
            "cleaning stopword, symbols and emoji: [('เอสเพรสโซ่', 0.7502673864364624), ('คาราเมล', 0.7373428344726562), ('โกโก้', 0.7348647117614746), ('เอสเปรสโซ่', 0.7344227433204651), ('ทีรามิสุ', 0.7331518530845642)]\n"
          ]
        }
      ]
    },
    {
      "cell_type": "code",
      "metadata": {
        "id": "NbnkCSKOR6Zi",
        "colab": {
          "base_uri": "https://localhost:8080/"
        },
        "outputId": "d82701f6-e492-46bf-9255-a0ea87aef20e"
      },
      "source": [
        "print(\"doesn't clean anything:\" , model_1.wv.most_similar(\"บะหมี่\", topn=5))\n",
        "print(\"only cleaning stopword:\" , model_2.wv.most_similar(\"บะหมี่\", topn=5))\n",
        "print(\"only cleaing symbols and emoji:\" , model_3.wv.most_similar(\"บะหมี่\", topn=5))\n",
        "print(\"cleaning stopword, symbols and emoji:\" , model_4.wv.most_similar(\"บะหมี่\", topn=5))"
      ],
      "execution_count": null,
      "outputs": [
        {
          "output_type": "stream",
          "name": "stdout",
          "text": [
            "doesn't clean anything: [('หมูแดง', 0.6859369277954102), ('เส้นใหญ่', 0.6859248876571655), ('เย็นตาโฟ', 0.685271680355072), ('ข้าวหน้าเป็ด', 0.6565107107162476), ('เกาเหลา', 0.6479942798614502)]\n",
            "only cleaning stopword: [('หมูแดง', 0.7279069423675537), ('หยก', 0.7223480939865112), ('ข้าวหมูกรอบ', 0.692918598651886), ('เส้นใหญ่', 0.6819798946380615), ('ข้าวหน้าเป็ด', 0.6710859537124634)]\n",
            "only cleaing symbols and emoji: [('หมูแดง', 0.7009459137916565), ('เส้นใหญ่', 0.6938351988792419), ('ข้าวหมูแดง', 0.6754563450813293), ('ข้าวหน้าเป็ด', 0.6639280319213867), ('เย็นตาโฟ', 0.6605048179626465)]\n",
            "cleaning stopword, symbols and emoji: [('หมูแดง', 0.656491219997406), ('ข้าวหมูกรอบ', 0.6439613699913025), ('ข้าวหมูแดง', 0.6371225714683533), ('กระเพาะปลา', 0.6154662370681763), ('เส้นใหญ่', 0.6146404147148132)]\n"
          ]
        }
      ]
    },
    {
      "cell_type": "code",
      "metadata": {
        "id": "pNxYKRPpTSY7",
        "colab": {
          "base_uri": "https://localhost:8080/"
        },
        "outputId": "651e43bc-6f4a-419e-ceb7-27250708b233"
      },
      "source": [
        "print(\"doesn't clean anything:\" , model_1.wv.most_similar('ข้าวผัดมันกุ้ง', topn=5))\n",
        "print(\"only cleaning stopword:\" , model_2.wv.most_similar('ข้าวผัดมันกุ้ง', topn=5))\n",
        "print(\"only cleaing symbols and emoji:\" , model_3.wv.most_similar('ข้าวผัดมันกุ้ง', topn=5))\n",
        "print(\"cleaning stopword, symbols and emoji:\" , model_4.wv.most_similar('ข้าวผัดมันกุ้ง', topn=5))"
      ],
      "execution_count": null,
      "outputs": [
        {
          "output_type": "stream",
          "name": "stdout",
          "text": [
            "doesn't clean anything: [('3966', 0.7019713521003723), ('BLT', 0.700478732585907), ('loaded', 0.6997314691543579), (',\\u200b', 0.6976513266563416), ('soak', 0.6964624524116516)]\n",
            "only cleaning stopword: [('ฮ่องเต้', 0.6889827251434326), ('Bratwurstl', 0.6853912472724915), ('กุ้งชุบแป้งทอด', 0.6803616881370544), ('เปาะ', 0.673760712146759), ('Tempuraa', 0.6722017526626587)]\n",
            "only cleaing symbols and emoji: [('หมูแฮม', 0.7202188968658447), ('แบ๋ว', 0.7090221047401428), ('เบื้องญวน', 0.7041757702827454), ('katsu', 0.697800874710083), ('ปูจ๋า', 0.6957934498786926)]\n",
            "cleaning stopword, symbols and emoji: [('ปูจ๋า', 0.6194885969161987), ('มักกะโรนี', 0.5969683527946472), ('ผัดไทย', 0.5833483338356018), ('ไก้', 0.5455632209777832), ('ยัดไส้', 0.5445750951766968)]\n"
          ]
        }
      ]
    },
    {
      "cell_type": "code",
      "source": [
        "print(\"doesn't clean anything:\" , model_1.wv.most_similar('ข้าวกะเพราหมู', topn=5))\n",
        "print(\"only cleaning stopword:\" , model_2.wv.most_similar('ข้าวกะเพราหมู', topn=5))\n",
        "print(\"only cleaing symbols and emoji:\" , model_3.wv.most_similar('ข้าวกะเพราหมู', topn=5))\n",
        "print(\"cleaning stopword, symbols and emoji:\" , model_4.wv.most_similar('ข้าวกะเพราหมู', topn=5))"
      ],
      "metadata": {
        "id": "oTYxMY50Dkl_",
        "colab": {
          "base_uri": "https://localhost:8080/"
        },
        "outputId": "8a4bfb6d-1444-474d-954e-5399330dff09"
      },
      "execution_count": null,
      "outputs": [
        {
          "output_type": "stream",
          "name": "stdout",
          "text": [
            "doesn't clean anything: [('ไข่ดาว', 0.6318153738975525), ('ปีกไก่', 0.613277792930603), ('ครึ่งตัว', 0.5581014156341553), ('กุนเชียง', 0.5508122444152832), ('กะเพรา', 0.5479052066802979)]\n",
            "only cleaning stopword: [('หนังไก่', 0.685713529586792), ('พะแนง', 0.6495660543441772), ('เมี่ยงลาว', 0.6476953029632568), ('ครองตลาด', 0.6148375272750854), ('ไก่กอและ', 0.6139554977416992)]\n",
            "only cleaing symbols and emoji: [('หมูแฮม', 0.6384360790252686), ('ไก้', 0.6291618347167969), ('อู๊ย', 0.6210561394691467), ('พะแนง', 0.6011908650398254), ('ปลาท่องโก๋', 0.6001861095428467)]\n",
            "cleaning stopword, symbols and emoji: [('กะเพรา', 0.594687819480896), ('ไข่น้ำ', 0.5776475667953491), ('ผัดกะเพรา', 0.5748775005340576), ('ไข่ดาว', 0.5680506229400635), ('ซี่โครงหมูทอด', 0.5515285730361938)]\n"
          ]
        }
      ]
    },
    {
      "cell_type": "markdown",
      "metadata": {
        "id": "9bnUtSudY21Y"
      },
      "source": [
        "# **Visualization**\n"
      ]
    },
    {
      "cell_type": "code",
      "metadata": {
        "id": "-P87KNvCYsxq",
        "colab": {
          "base_uri": "https://localhost:8080/"
        },
        "outputId": "da5ba9d7-401e-49db-8ba3-90d66db4da33"
      },
      "source": [
        "plt.style.use(\"seaborn-notebook\")\n",
        "\n",
        "# setup font for matplotlib\n",
        "thai_sarabun = FontProperties(fname=\"THSarabun.ttf\", size=18)"
      ],
      "execution_count": null,
      "outputs": [
        {
          "output_type": "stream",
          "name": "stderr",
          "text": [
            "<ipython-input-108-2386682631fc>:1: MatplotlibDeprecationWarning: The seaborn styles shipped by Matplotlib are deprecated since 3.6, as they no longer correspond to the styles shipped by seaborn. However, they will remain available as 'seaborn-v0_8-<style>'. Alternatively, directly use the seaborn API instead.\n",
            "  plt.style.use(\"seaborn-notebook\")\n"
          ]
        }
      ]
    },
    {
      "cell_type": "code",
      "metadata": {
        "id": "9equaJSLbxzC"
      },
      "source": [
        "# using PCA\n",
        "\n",
        "def display_plot(words):\n",
        "  models = [model_1, model_2, model_3, model_4]\n",
        "  fig, axes = plt.subplots(2, 2, figsize=(14, 14))\n",
        "\n",
        "  j, k = 0, 0\n",
        "\n",
        "  for modelx in models:\n",
        "      if k == 2:\n",
        "        k = 0\n",
        "        j = 1\n",
        "\n",
        "      word_vectors = np.array( [ modelx.wv[w] for w in words ])\n",
        "\n",
        "      twodim = PCA().fit_transform(word_vectors)[:,:2]\n",
        "\n",
        "      axes[j][k].scatter(twodim[:,0], twodim[:,1], c='salmon')\n",
        "      for word, (x,y) in zip(words, twodim):\n",
        "        axes[j][k].text(x+0.05, y+0.05, word, fontproperties=thai_sarabun)\n",
        "\n",
        "      k += 1\n",
        "\n",
        "  axes[0][0].set_title(\"Model 1: doesn't clean anything\")\n",
        "  axes[0][1].set_title(\"Model 2: only cleaning stopword\")\n",
        "  axes[1][0].set_title(\"Model 3: only cleaing symbols and emoji\")\n",
        "  axes[1][1].set_title(\"Model 4: cleaning stopword, symbols and emoji\")\n"
      ],
      "execution_count": null,
      "outputs": []
    },
    {
      "cell_type": "code",
      "metadata": {
        "id": "EBGhnxSab8F7"
      },
      "source": [
        "words = ['ผัดมาม่า', 'ข้าวกะเพราหมู', 'บะหมี่', 'ข้าวผัดมันกุ้ง', 'ข้าวมันไก่', 'ชาไทย', 'โค๊ก', 'ชูโรส', 'ชีสเค๊ก', 'ไอติม']\n",
        "\n",
        "### Your Code ###\n",
        "\n"
      ],
      "execution_count": null,
      "outputs": []
    },
    {
      "cell_type": "code",
      "metadata": {
        "id": "ONJPbvhocbkT",
        "colab": {
          "base_uri": "https://localhost:8080/",
          "height": 1000
        },
        "outputId": "5f39a30c-86e4-4c2f-a7f7-e688bae52bcd"
      },
      "source": [
        "display_plot(words)"
      ],
      "execution_count": null,
      "outputs": [
        {
          "output_type": "display_data",
          "data": {
            "text/plain": [
              "<Figure size 1400x1400 with 4 Axes>"
            ],
            "image/png": "[encoded data removed]"
          },
          "metadata": {}
        }
      ]
    }
  ]
}
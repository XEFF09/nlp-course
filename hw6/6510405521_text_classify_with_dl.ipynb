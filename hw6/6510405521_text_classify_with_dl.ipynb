{
  "cells": [
    {
      "cell_type": "code",
      "execution_count": 13,
      "metadata": {
        "colab": {
          "base_uri": "https://localhost:8080/"
        },
        "id": "Yxsul_AHtccf",
        "outputId": "790c649a-1428-4f51-8698-9e08c30f7c1a"
      },
      "outputs": [
        {
          "name": "stderr",
          "output_type": "stream",
          "text": [
            "UsageError: Line magic function `%wget` not found.\n"
          ]
        }
      ],
      "source": [
        "!wget --no-check-certificate 'https://docs.google.com/uc?export=download&id=1MXgprVLj_5_n0COvxsy_CZOsTpL1jwmk' -O Fastfood_Opinion.csv\n",
        "%pip install pythainlp keras tensorflow"
      ]
    },
    {
      "cell_type": "code",
      "execution_count": 11,
      "metadata": {
        "colab": {
          "base_uri": "https://localhost:8080/"
        },
        "id": "npU30ZtxucJY",
        "outputId": "bb21ea2b-d6b1-425f-e3eb-2b4bf925faa6"
      },
      "outputs": [],
      "source": [
        "import pandas as pd\n",
        "from pythainlp import word_tokenize\n",
        "from sklearn.feature_extraction.text import CountVectorizer\n",
        "from sklearn.model_selection import train_test_split\n",
        "from sklearn.linear_model import LogisticRegression\n",
        "\n",
        "from sklearn.metrics import classification_report, confusion_matrix, accuracy_score\n",
        "\n",
        "import pandas as pd\n",
        "import numpy as np\n",
        "import re\n",
        "\n",
        "from keras.models import Sequential\n",
        "from keras.layers import Embedding, Flatten, Dense, LSTM, Bidirectional, SimpleRNN\n",
        "from keras.utils import pad_sequences\n",
        "from keras.preprocessing.text import Tokenizer"
      ]
    },
    {
      "cell_type": "code",
      "execution_count": 14,
      "metadata": {
        "colab": {
          "base_uri": "https://localhost:8080/"
        },
        "id": "rdB6CgR7t-b-",
        "outputId": "1a90f01f-d62c-4871-fcb4-66e26042bf20"
      },
      "outputs": [
        {
          "name": "stdout",
          "output_type": "stream",
          "text": [
            "X_train_pad:\n",
            " [[  32   21    8 ...    0    0    0]\n",
            " [  45  353  354 ...    0    0    0]\n",
            " [   6    7    5 ...    0    0    0]\n",
            " ...\n",
            " [5268    0    0 ...    0    0    0]\n",
            " [5269   12  242 ...    0    0    0]\n",
            " [ 345    9    0 ...    0    0    0]]\n"
          ]
        }
      ],
      "source": [
        "train = pd.read_csv(\"Fastfood_Opinion.csv\")\n",
        "x = train['message'].astype(str)\n",
        "y = train['class']\n",
        "\n",
        "tokenizer = Tokenizer()\n",
        "tokenizer.fit_on_texts(x)\n",
        "\n",
        "x_tts = tokenizer.texts_to_sequences(x)\n",
        "maxlen = max([len(s) for s in x_tts])\n",
        "x_pad = pad_sequences(x_tts, maxlen=maxlen, padding=\"post\")\n",
        "\n",
        "print(\"X_train_pad:\\n\", x_pad)\n",
        "\n",
        "X_train, X_test, y_train, y_test = train_test_split(x_pad, y, test_size=0.2, random_state=42)"
      ]
    },
    {
      "cell_type": "markdown",
      "metadata": {
        "id": "-8J6LG4k9V0A"
      },
      "source": [
        "## fully connected"
      ]
    },
    {
      "cell_type": "code",
      "execution_count": 15,
      "metadata": {
        "colab": {
          "base_uri": "https://localhost:8080/"
        },
        "id": "jLxhXfQV9oOP",
        "outputId": "08b95aa9-2e5a-4926-ac2f-868832e5a427"
      },
      "outputs": [
        {
          "name": "stdout",
          "output_type": "stream",
          "text": [
            "Model: \"sequential\"\n",
            "_________________________________________________________________\n",
            " Layer (type)                Output Shape              Param #   \n",
            "=================================================================\n",
            " embedding (Embedding)       (None, 94, 10)            52700     \n",
            "                                                                 \n",
            " flatten (Flatten)           (None, 940)               0         \n",
            "                                                                 \n",
            " dense (Dense)               (None, 20)                18820     \n",
            "                                                                 \n",
            " dense_1 (Dense)             (None, 10)                210       \n",
            "                                                                 \n",
            " dense_2 (Dense)             (None, 1)                 11        \n",
            "                                                                 \n",
            "=================================================================\n",
            "Total params: 71741 (280.24 KB)\n",
            "Trainable params: 71741 (280.24 KB)\n",
            "Non-trainable params: 0 (0.00 Byte)\n",
            "_________________________________________________________________\n",
            "Epoch 1/10\n",
            "17/17 [==============================] - 1s 10ms/step - loss: 0.6906 - accuracy: 0.5205 - val_loss: 0.6842 - val_accuracy: 0.5736\n",
            "Epoch 2/10\n",
            "17/17 [==============================] - 0s 3ms/step - loss: 0.6795 - accuracy: 0.6277 - val_loss: 0.6727 - val_accuracy: 0.7364\n",
            "Epoch 3/10\n",
            "17/17 [==============================] - 0s 3ms/step - loss: 0.6489 - accuracy: 0.7466 - val_loss: 0.6398 - val_accuracy: 0.6589\n",
            "Epoch 4/10\n",
            "17/17 [==============================] - 0s 3ms/step - loss: 0.6144 - accuracy: 0.6472 - val_loss: 0.6150 - val_accuracy: 0.7132\n",
            "Epoch 5/10\n",
            "17/17 [==============================] - 0s 3ms/step - loss: 0.5515 - accuracy: 0.7602 - val_loss: 0.5755 - val_accuracy: 0.7287\n",
            "Epoch 6/10\n",
            "17/17 [==============================] - 0s 3ms/step - loss: 0.4802 - accuracy: 0.8012 - val_loss: 0.5844 - val_accuracy: 0.7054\n",
            "Epoch 7/10\n",
            "17/17 [==============================] - 0s 3ms/step - loss: 0.4074 - accuracy: 0.8246 - val_loss: 0.5494 - val_accuracy: 0.7364\n",
            "Epoch 8/10\n",
            "17/17 [==============================] - 0s 2ms/step - loss: 0.3498 - accuracy: 0.8480 - val_loss: 0.5419 - val_accuracy: 0.7287\n",
            "Epoch 9/10\n",
            "17/17 [==============================] - 0s 3ms/step - loss: 0.2747 - accuracy: 0.9025 - val_loss: 0.5548 - val_accuracy: 0.7442\n",
            "Epoch 10/10\n",
            "17/17 [==============================] - 0s 3ms/step - loss: 0.2167 - accuracy: 0.9435 - val_loss: 0.5386 - val_accuracy: 0.7364\n"
          ]
        },
        {
          "data": {
            "text/plain": [
              "<keras.src.callbacks.History at 0x17154715610>"
            ]
          },
          "execution_count": 15,
          "metadata": {},
          "output_type": "execute_result"
        }
      ],
      "source": [
        "vocab_size = len(tokenizer.word_index) + 1\n",
        "\n",
        "# Fix Random Weight\n",
        "# For reproducable\n",
        "np.random.seed(7)\n",
        "\n",
        "dl_model = Sequential()\n",
        "dl_model.add(Embedding(input_dim=vocab_size,\n",
        "                    output_dim=10,\n",
        "                    input_length=maxlen))\n",
        "\n",
        "dl_model.add(Flatten())\n",
        "\n",
        "# relu: 0, z\n",
        "dl_model.add(Dense(20, activation='relu')) \n",
        "dl_model.add(Dense(10, activation='relu'))\n",
        "\n",
        "# sigmoid(1 node) & softmax(multi nodes): 0->1 prob\n",
        "dl_model.add(Dense(1, activation='sigmoid')) \n",
        "\n",
        "# if softmax then binary_corssentropy -> crossentropy\n",
        "dl_model.compile(loss='binary_crossentropy', optimizer='adam', metrics=['accuracy'])\n",
        "\n",
        "dl_model.summary()\n",
        "dl_model.fit(X_train, y_train, epochs=10, validation_data=(X_test, y_test))"
      ]
    },
    {
      "cell_type": "markdown",
      "metadata": {
        "id": "M_yTkTz69uQr"
      },
      "source": [
        "## lstm\n"
      ]
    },
    {
      "cell_type": "code",
      "execution_count": 16,
      "metadata": {
        "colab": {
          "base_uri": "https://localhost:8080/"
        },
        "id": "epwYKbZa9wCI",
        "outputId": "a6376bf7-3c61-494a-e6f1-6fd0bcdc3429"
      },
      "outputs": [
        {
          "name": "stdout",
          "output_type": "stream",
          "text": [
            "Model: \"sequential_1\"\n",
            "_________________________________________________________________\n",
            " Layer (type)                Output Shape              Param #   \n",
            "=================================================================\n",
            " embedding_1 (Embedding)     (None, 94, 10)            52700     \n",
            "                                                                 \n",
            " lstm (LSTM)                 (None, 64)                19200     \n",
            "                                                                 \n",
            " dense_3 (Dense)             (None, 3)                 195       \n",
            "                                                                 \n",
            " dense_4 (Dense)             (None, 1)                 4         \n",
            "                                                                 \n",
            "=================================================================\n",
            "Total params: 72099 (281.64 KB)\n",
            "Trainable params: 72099 (281.64 KB)\n",
            "Non-trainable params: 0 (0.00 Byte)\n",
            "_________________________________________________________________\n",
            "Epoch 1/10\n",
            "17/17 [==============================] - 2s 44ms/step - loss: 0.6920 - accuracy: 0.5556 - val_loss: 0.6873 - val_accuracy: 0.5736\n",
            "Epoch 2/10\n",
            "17/17 [==============================] - 0s 25ms/step - loss: 0.6883 - accuracy: 0.5556 - val_loss: 0.6834 - val_accuracy: 0.5736\n",
            "Epoch 3/10\n",
            "17/17 [==============================] - 0s 25ms/step - loss: 0.6891 - accuracy: 0.5556 - val_loss: 0.6833 - val_accuracy: 0.5736\n",
            "Epoch 4/10\n",
            "17/17 [==============================] - 0s 24ms/step - loss: 0.6873 - accuracy: 0.5556 - val_loss: 0.6829 - val_accuracy: 0.5736\n",
            "Epoch 5/10\n",
            "17/17 [==============================] - 0s 24ms/step - loss: 0.6878 - accuracy: 0.5556 - val_loss: 0.6829 - val_accuracy: 0.5736\n",
            "Epoch 6/10\n",
            "17/17 [==============================] - 0s 24ms/step - loss: 0.6883 - accuracy: 0.5556 - val_loss: 0.6851 - val_accuracy: 0.5736\n",
            "Epoch 7/10\n",
            "17/17 [==============================] - 0s 25ms/step - loss: 0.6874 - accuracy: 0.5556 - val_loss: 0.6839 - val_accuracy: 0.5736\n",
            "Epoch 8/10\n",
            "17/17 [==============================] - 0s 24ms/step - loss: 0.6879 - accuracy: 0.5556 - val_loss: 0.6848 - val_accuracy: 0.5736\n",
            "Epoch 9/10\n",
            "17/17 [==============================] - 0s 24ms/step - loss: 0.6872 - accuracy: 0.5556 - val_loss: 0.6833 - val_accuracy: 0.5736\n",
            "Epoch 10/10\n",
            "17/17 [==============================] - 0s 24ms/step - loss: 0.6885 - accuracy: 0.5556 - val_loss: 0.6827 - val_accuracy: 0.5736\n"
          ]
        },
        {
          "data": {
            "text/plain": [
              "<keras.src.callbacks.History at 0x171554d1410>"
            ]
          },
          "execution_count": 16,
          "metadata": {},
          "output_type": "execute_result"
        }
      ],
      "source": [
        "vocab_size = len(tokenizer.word_index) + 1\n",
        "\n",
        "# Fix Random Weight\n",
        "# For reproducable\n",
        "np.random.seed(7)\n",
        "\n",
        "lstm_model = Sequential()\n",
        "lstm_model.add(Embedding(input_dim=vocab_size,\n",
        "                    output_dim=10,\n",
        "                    input_length=maxlen))\n",
        "\n",
        "lstm_model.add(LSTM(64))\n",
        "\n",
        "# relu: 0, z\n",
        "lstm_model.add(Dense(3, activation='relu'))\n",
        "\n",
        "# sigmoid(1 node) & softmax(multi nodes): 0->1 prob\n",
        "lstm_model.add(Dense(1, activation='sigmoid'))\n",
        "\n",
        "# if softmax then crossentropy\n",
        "lstm_model.compile(loss='binary_crossentropy', optimizer='adam', metrics=['accuracy'])\n",
        "\n",
        "lstm_model.summary()\n",
        "lstm_model.fit(X_train, y_train, epochs=10, validation_data=(X_test, y_test))"
      ]
    },
    {
      "cell_type": "markdown",
      "metadata": {
        "id": "d-Nk_srhL1Hx"
      },
      "source": [
        "## rnn"
      ]
    },
    {
      "cell_type": "code",
      "execution_count": 17,
      "metadata": {
        "colab": {
          "base_uri": "https://localhost:8080/"
        },
        "id": "2L8KwnzDL2iQ",
        "outputId": "0d9a6f7f-74af-4ae3-971d-1feb2d063da6"
      },
      "outputs": [
        {
          "name": "stdout",
          "output_type": "stream",
          "text": [
            "Model: \"sequential_2\"\n",
            "_________________________________________________________________\n",
            " Layer (type)                Output Shape              Param #   \n",
            "=================================================================\n",
            " embedding_2 (Embedding)     (None, 94, 10)            52700     \n",
            "                                                                 \n",
            " simple_rnn (SimpleRNN)      (None, 64)                4800      \n",
            "                                                                 \n",
            " dense_5 (Dense)             (None, 3)                 195       \n",
            "                                                                 \n",
            " dense_6 (Dense)             (None, 1)                 4         \n",
            "                                                                 \n",
            "=================================================================\n",
            "Total params: 57699 (225.39 KB)\n",
            "Trainable params: 57699 (225.39 KB)\n",
            "Non-trainable params: 0 (0.00 Byte)\n",
            "_________________________________________________________________\n",
            "Epoch 1/10\n",
            "17/17 [==============================] - 1s 19ms/step - loss: 0.6922 - accuracy: 0.5166 - val_loss: 0.6995 - val_accuracy: 0.5426\n",
            "Epoch 2/10\n",
            "17/17 [==============================] - 0s 9ms/step - loss: 0.6840 - accuracy: 0.5400 - val_loss: 0.6776 - val_accuracy: 0.5736\n",
            "Epoch 3/10\n",
            "17/17 [==============================] - 0s 9ms/step - loss: 0.6664 - accuracy: 0.5517 - val_loss: 0.6909 - val_accuracy: 0.4574\n",
            "Epoch 4/10\n",
            "17/17 [==============================] - 0s 9ms/step - loss: 0.6114 - accuracy: 0.6745 - val_loss: 0.7403 - val_accuracy: 0.5039\n",
            "Epoch 5/10\n",
            "17/17 [==============================] - 0s 9ms/step - loss: 0.5633 - accuracy: 0.7212 - val_loss: 0.8040 - val_accuracy: 0.4729\n",
            "Epoch 6/10\n",
            "17/17 [==============================] - 0s 9ms/step - loss: 0.4951 - accuracy: 0.7680 - val_loss: 0.8262 - val_accuracy: 0.4884\n",
            "Epoch 7/10\n",
            "17/17 [==============================] - 0s 9ms/step - loss: 0.3811 - accuracy: 0.8577 - val_loss: 0.8837 - val_accuracy: 0.4806\n",
            "Epoch 8/10\n",
            "17/17 [==============================] - 0s 10ms/step - loss: 0.3266 - accuracy: 0.8889 - val_loss: 0.9412 - val_accuracy: 0.5116\n",
            "Epoch 9/10\n",
            "17/17 [==============================] - 0s 9ms/step - loss: 0.2195 - accuracy: 0.9415 - val_loss: 1.0640 - val_accuracy: 0.5271\n",
            "Epoch 10/10\n",
            "17/17 [==============================] - 0s 9ms/step - loss: 0.1277 - accuracy: 0.9708 - val_loss: 1.1002 - val_accuracy: 0.5736\n"
          ]
        },
        {
          "data": {
            "text/plain": [
              "<keras.src.callbacks.History at 0x171587ffe90>"
            ]
          },
          "execution_count": 17,
          "metadata": {},
          "output_type": "execute_result"
        }
      ],
      "source": [
        "vocab_size = len(tokenizer.word_index) + 1\n",
        "\n",
        "# Fix Random Weight\n",
        "# For reproducable\n",
        "np.random.seed(7)\n",
        "\n",
        "rnn_model = Sequential()\n",
        "rnn_model.add(Embedding(input_dim=vocab_size,\n",
        "                    output_dim=10,\n",
        "                    input_length=maxlen))\n",
        "\n",
        "rnn_model.add(SimpleRNN(64))\n",
        "\n",
        "# relu: 0, z\n",
        "rnn_model.add(Dense(3, activation='relu'))\n",
        "\n",
        "# sigmoid(1 node) & softmax(multi nodes): 0->1 prob\n",
        "rnn_model.add(Dense(1, activation='sigmoid'))\n",
        "\n",
        "# if softmax then crossentropy\n",
        "rnn_model.compile(loss='binary_crossentropy', optimizer='adam', metrics=['accuracy'])\n",
        "\n",
        "rnn_model.summary()\n",
        "rnn_model.fit(X_train, y_train, epochs=10, validation_data=(X_test, y_test))"
      ]
    },
    {
      "cell_type": "markdown",
      "metadata": {
        "id": "UzTvuYjmNRLe"
      },
      "source": [
        "## bi-lstm"
      ]
    },
    {
      "cell_type": "code",
      "execution_count": 18,
      "metadata": {
        "colab": {
          "base_uri": "https://localhost:8080/"
        },
        "id": "-jHMAkP5NSu1",
        "outputId": "956e574a-73a9-4b8d-f841-1953e8ef2951"
      },
      "outputs": [
        {
          "name": "stdout",
          "output_type": "stream",
          "text": [
            "Model: \"sequential_3\"\n",
            "_________________________________________________________________\n",
            " Layer (type)                Output Shape              Param #   \n",
            "=================================================================\n",
            " embedding_3 (Embedding)     (None, 94, 10)            52700     \n",
            "                                                                 \n",
            " bidirectional (Bidirection  (None, 128)               38400     \n",
            " al)                                                             \n",
            "                                                                 \n",
            " dense_7 (Dense)             (None, 3)                 387       \n",
            "                                                                 \n",
            " dense_8 (Dense)             (None, 1)                 4         \n",
            "                                                                 \n",
            "=================================================================\n",
            "Total params: 91491 (357.39 KB)\n",
            "Trainable params: 91491 (357.39 KB)\n",
            "Non-trainable params: 0 (0.00 Byte)\n",
            "_________________________________________________________________\n",
            "Epoch 1/10\n",
            "17/17 [==============================] - 4s 61ms/step - loss: 0.6931 - accuracy: 0.5010 - val_loss: 0.6927 - val_accuracy: 0.5736\n",
            "Epoch 2/10\n",
            "17/17 [==============================] - 0s 26ms/step - loss: 0.6927 - accuracy: 0.5556 - val_loss: 0.6924 - val_accuracy: 0.5736\n",
            "Epoch 3/10\n",
            "17/17 [==============================] - 0s 26ms/step - loss: 0.6888 - accuracy: 0.6062 - val_loss: 0.6838 - val_accuracy: 0.5349\n",
            "Epoch 4/10\n",
            "17/17 [==============================] - 0s 25ms/step - loss: 0.6730 - accuracy: 0.6218 - val_loss: 0.6688 - val_accuracy: 0.6434\n",
            "Epoch 5/10\n",
            "17/17 [==============================] - 0s 26ms/step - loss: 0.6442 - accuracy: 0.7193 - val_loss: 0.6531 - val_accuracy: 0.7054\n",
            "Epoch 6/10\n",
            "17/17 [==============================] - 0s 25ms/step - loss: 0.6181 - accuracy: 0.7544 - val_loss: 0.6530 - val_accuracy: 0.7287\n",
            "Epoch 7/10\n",
            "17/17 [==============================] - 0s 25ms/step - loss: 0.6252 - accuracy: 0.8635 - val_loss: 0.6459 - val_accuracy: 0.6667\n",
            "Epoch 8/10\n",
            "17/17 [==============================] - 0s 25ms/step - loss: 0.5673 - accuracy: 0.7758 - val_loss: 0.6487 - val_accuracy: 0.6822\n",
            "Epoch 9/10\n",
            "17/17 [==============================] - 0s 25ms/step - loss: 0.5159 - accuracy: 0.8967 - val_loss: 0.6472 - val_accuracy: 0.6434\n",
            "Epoch 10/10\n",
            "17/17 [==============================] - 0s 25ms/step - loss: 0.4602 - accuracy: 0.9259 - val_loss: 0.6891 - val_accuracy: 0.5814\n"
          ]
        },
        {
          "data": {
            "text/plain": [
              "<keras.src.callbacks.History at 0x1715aea37d0>"
            ]
          },
          "execution_count": 18,
          "metadata": {},
          "output_type": "execute_result"
        }
      ],
      "source": [
        "vocab_size = len(tokenizer.word_index) + 1\n",
        "\n",
        "# Fix Random Weight\n",
        "# For reproducable\n",
        "np.random.seed(7)\n",
        "\n",
        "bilstm_model = Sequential()\n",
        "bilstm_model.add(Embedding(input_dim=vocab_size,\n",
        "                    output_dim=10,\n",
        "                    input_length=maxlen))\n",
        "\n",
        "bilstm_model.add(Bidirectional(LSTM(64)))\n",
        "\n",
        "# relu: 0, z\n",
        "bilstm_model.add(Dense(3, activation='relu'))\n",
        "\n",
        "# sigmoid(1 node) & softmax(multi nodes): 0->1 prob\n",
        "bilstm_model.add(Dense(1, activation='sigmoid'))\n",
        "\n",
        "# if softmax then crossentropy\n",
        "bilstm_model.compile(loss='binary_crossentropy', optimizer='adam', metrics=['accuracy'])\n",
        "\n",
        "bilstm_model.summary()\n",
        "bilstm_model.fit(X_train, y_train, epochs=10, validation_data=(X_test, y_test))"
      ]
    },
    {
      "cell_type": "markdown",
      "metadata": {
        "id": "9wRuyGO1OMjV"
      },
      "source": [
        "# in conclusion\n",
        "\n",
        "#### เปรียบเทียบผลลัพธ์ที่ได้\n",
        "- lstm และ rnn มีแนวโน้มที่จะมีความแม่นยำที่สุดเมื่อเปรียบเทียบกับ accuracy และ lost ของตัว test"
      ]
    }
  ],
  "metadata": {
    "colab": {
      "provenance": []
    },
    "kernelspec": {
      "display_name": "Python 3",
      "name": "python3"
    },
    "language_info": {
      "codemirror_mode": {
        "name": "ipython",
        "version": 3
      },
      "file_extension": ".py",
      "mimetype": "text/x-python",
      "name": "python",
      "nbconvert_exporter": "python",
      "pygments_lexer": "ipython3",
      "version": "3.11.3"
    }
  },
  "nbformat": 4,
  "nbformat_minor": 0
}

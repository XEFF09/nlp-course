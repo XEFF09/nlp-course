{
  "nbformat": 4,
  "nbformat_minor": 0,
  "metadata": {
    "colab": {
      "provenance": []
    },
    "kernelspec": {
      "name": "python3",
      "display_name": "Python 3"
    },
    "language_info": {
      "name": "python"
    }
  },
  "cells": [
    {
      "cell_type": "code",
      "source": [
        "pip install pythainlp pythainlp[full] deepcut"
      ],
      "metadata": {
        "colab": {
          "base_uri": "https://localhost:8080/"
        },
        "id": "V5DXSrVvamFi",
        "outputId": "e958197c-d0ce-4258-d951-263e0f75a717"
      },
      "execution_count": 2,
      "outputs": [
        {
          "output_type": "stream",
          "name": "stdout",
          "text": [
            "Collecting pythainlp\n",
            "  Downloading pythainlp-4.0.2-py3-none-any.whl (13.4 MB)\n",
            "\u001b[2K     \u001b[90m━━━━━━━━━━━━━━━━━━━━━━━━━━━━━━━━━━━━━━━━\u001b[0m \u001b[32m13.4/13.4 MB\u001b[0m \u001b[31m64.5 MB/s\u001b[0m eta \u001b[36m0:00:00\u001b[0m\n",
            "\u001b[?25hCollecting deepcut\n",
            "  Downloading deepcut-0.7.0.0-py3-none-any.whl (2.0 MB)\n",
            "\u001b[2K     \u001b[90m━━━━━━━━━━━━━━━━━━━━━━━━━━━━━━━━━━━━━━━━\u001b[0m \u001b[32m2.0/2.0 MB\u001b[0m \u001b[31m53.9 MB/s\u001b[0m eta \u001b[36m0:00:00\u001b[0m\n",
            "\u001b[?25hRequirement already satisfied: requests>=2.22.0 in /usr/local/lib/python3.10/dist-packages (from pythainlp) (2.27.1)\n",
            "Requirement already satisfied: PyYAML>=5.3.1 in /usr/local/lib/python3.10/dist-packages (from pythainlp) (6.0)\n",
            "Collecting attacut>=1.0.4 (from pythainlp)\n",
            "  Downloading attacut-1.0.6-py3-none-any.whl (1.3 MB)\n",
            "\u001b[2K     \u001b[90m━━━━━━━━━━━━━━━━━━━━━━━━━━━━━━━━━━━━━━━━\u001b[0m \u001b[32m1.3/1.3 MB\u001b[0m \u001b[31m61.7 MB/s\u001b[0m eta \u001b[36m0:00:00\u001b[0m\n",
            "\u001b[?25hCollecting emoji>=0.5.1 (from pythainlp)\n",
            "  Downloading emoji-2.6.0.tar.gz (356 kB)\n",
            "\u001b[2K     \u001b[90m━━━━━━━━━━━━━━━━━━━━━━━━━━━━━━━━━━━━━━\u001b[0m \u001b[32m356.6/356.6 kB\u001b[0m \u001b[31m30.0 MB/s\u001b[0m eta \u001b[36m0:00:00\u001b[0m\n",
            "\u001b[?25h  Preparing metadata (setup.py) ... \u001b[?25l\u001b[?25hdone\n",
            "Collecting epitran>=1.1 (from pythainlp)\n",
            "  Downloading epitran-1.24-py2.py3-none-any.whl (164 kB)\n",
            "\u001b[2K     \u001b[90m━━━━━━━━━━━━━━━━━━━━━━━━━━━━━━━━━━━━━━\u001b[0m \u001b[32m164.9/164.9 kB\u001b[0m \u001b[31m13.6 MB/s\u001b[0m eta \u001b[36m0:00:00\u001b[0m\n",
            "\u001b[?25hCollecting fairseq>=0.10.0 (from pythainlp)\n",
            "  Downloading fairseq-0.12.2.tar.gz (9.6 MB)\n",
            "\u001b[2K     \u001b[90m━━━━━━━━━━━━━━━━━━━━━━━━━━━━━━━━━━━━━━━━\u001b[0m \u001b[32m9.6/9.6 MB\u001b[0m \u001b[31m76.4 MB/s\u001b[0m eta \u001b[36m0:00:00\u001b[0m\n",
            "\u001b[?25h  Installing build dependencies ... \u001b[?25l\u001b[?25hdone\n",
            "  Getting requirements to build wheel ... \u001b[?25l\u001b[?25hdone\n",
            "  Installing backend dependencies ... \u001b[?25l\u001b[?25hdone\n",
            "  Preparing metadata (pyproject.toml) ... \u001b[?25l\u001b[?25hdone\n",
            "Requirement already satisfied: gensim>=4.0.0 in /usr/local/lib/python3.10/dist-packages (from pythainlp) (4.3.1)\n",
            "Requirement already satisfied: nltk>=3.3 in /usr/local/lib/python3.10/dist-packages (from pythainlp) (3.8.1)\n",
            "Requirement already satisfied: numpy>=1.22 in /usr/local/lib/python3.10/dist-packages (from pythainlp) (1.22.4)\n",
            "Requirement already satisfied: pandas>=0.24 in /usr/local/lib/python3.10/dist-packages (from pythainlp) (1.5.3)\n",
            "Collecting pyicu>=2.3 (from pythainlp)\n",
            "  Downloading PyICU-2.11.tar.gz (257 kB)\n",
            "\u001b[2K     \u001b[90m━━━━━━━━━━━━━━━━━━━━━━━━━━━━━━━━━━━━━━\u001b[0m \u001b[32m257.9/257.9 kB\u001b[0m \u001b[31m20.5 MB/s\u001b[0m eta \u001b[36m0:00:00\u001b[0m\n",
            "\u001b[?25h  Installing build dependencies ... \u001b[?25l\u001b[?25hdone\n",
            "  Getting requirements to build wheel ... \u001b[?25l\u001b[?25hdone\n",
            "  Preparing metadata (pyproject.toml) ... \u001b[?25l\u001b[?25hdone\n",
            "Collecting sacremoses>=0.0.41 (from pythainlp)\n",
            "  Downloading sacremoses-0.0.53.tar.gz (880 kB)\n",
            "\u001b[2K     \u001b[90m━━━━━━━━━━━━━━━━━━━━━━━━━━━━━━━━━━━━━━\u001b[0m \u001b[32m880.6/880.6 kB\u001b[0m \u001b[31m52.2 MB/s\u001b[0m eta \u001b[36m0:00:00\u001b[0m\n",
            "\u001b[?25h  Preparing metadata (setup.py) ... \u001b[?25l\u001b[?25hdone\n",
            "Collecting sentencepiece>=0.1.91 (from pythainlp)\n",
            "  Downloading sentencepiece-0.1.99-cp310-cp310-manylinux_2_17_x86_64.manylinux2014_x86_64.whl (1.3 MB)\n",
            "\u001b[2K     \u001b[90m━━━━━━━━━━━━━━━━━━━━━━━━━━━━━━━━━━━━━━━━\u001b[0m \u001b[32m1.3/1.3 MB\u001b[0m \u001b[31m55.2 MB/s\u001b[0m eta \u001b[36m0:00:00\u001b[0m\n",
            "\u001b[?25hCollecting ssg>=0.0.8 (from pythainlp)\n",
            "  Downloading ssg-0.0.8-py3-none-any.whl (473 kB)\n",
            "\u001b[2K     \u001b[90m━━━━━━━━━━━━━━━━━━━━━━━━━━━━━━━━━━━━━━\u001b[0m \u001b[32m473.8/473.8 kB\u001b[0m \u001b[31m39.5 MB/s\u001b[0m eta \u001b[36m0:00:00\u001b[0m\n",
            "\u001b[?25hRequirement already satisfied: torch>=1.0.0 in /usr/local/lib/python3.10/dist-packages (from pythainlp) (2.0.1+cu118)\n",
            "Collecting fastai<2.0 (from pythainlp)\n",
            "  Downloading fastai-1.0.61-py3-none-any.whl (239 kB)\n",
            "\u001b[2K     \u001b[90m━━━━━━━━━━━━━━━━━━━━━━━━━━━━━━━━━━━━━━\u001b[0m \u001b[32m239.2/239.2 kB\u001b[0m \u001b[31m19.4 MB/s\u001b[0m eta \u001b[36m0:00:00\u001b[0m\n",
            "\u001b[?25hCollecting bpemb>=0.3.2 (from pythainlp)\n",
            "  Downloading bpemb-0.3.4-py3-none-any.whl (19 kB)\n",
            "Collecting transformers>=4.22.1 (from pythainlp)\n",
            "  Downloading transformers-4.30.2-py3-none-any.whl (7.2 MB)\n",
            "\u001b[2K     \u001b[90m━━━━━━━━━━━━━━━━━━━━━━━━━━━━━━━━━━━━━━━━\u001b[0m \u001b[32m7.2/7.2 MB\u001b[0m \u001b[31m98.3 MB/s\u001b[0m eta \u001b[36m0:00:00\u001b[0m\n",
            "\u001b[?25hCollecting sefr-cut>=1.1 (from pythainlp)\n",
            "  Downloading SEFR_CUT-1.1-py3-none-any.whl (8.7 MB)\n",
            "\u001b[2K     \u001b[90m━━━━━━━━━━━━━━━━━━━━━━━━━━━━━━━━━━━━━━━━\u001b[0m \u001b[32m8.7/8.7 MB\u001b[0m \u001b[31m101.6 MB/s\u001b[0m eta \u001b[36m0:00:00\u001b[0m\n",
            "\u001b[?25hCollecting phunspell>=0.1.6 (from pythainlp)\n",
            "  Downloading phunspell-0.1.6.tar.gz (47.5 MB)\n",
            "\u001b[2K     \u001b[90m━━━━━━━━━━━━━━━━━━━━━━━━━━━━━━━━━━━━━━━━\u001b[0m \u001b[32m47.5/47.5 MB\u001b[0m \u001b[31m11.7 MB/s\u001b[0m eta \u001b[36m0:00:00\u001b[0m\n",
            "\u001b[?25h  Installing build dependencies ... \u001b[?25l\u001b[?25hdone\n",
            "  Getting requirements to build wheel ... \u001b[?25l\u001b[?25hdone\n",
            "  Preparing metadata (pyproject.toml) ... \u001b[?25l\u001b[?25hdone\n",
            "Collecting spylls>=0.1.5 (from pythainlp)\n",
            "  Downloading spylls-0.1.7-py2.py3-none-any.whl (1.5 MB)\n",
            "\u001b[2K     \u001b[90m━━━━━━━━━━━━━━━━━━━━━━━━━━━━━━━━━━━━━━━━\u001b[0m \u001b[32m1.5/1.5 MB\u001b[0m \u001b[31m49.8 MB/s\u001b[0m eta \u001b[36m0:00:00\u001b[0m\n",
            "\u001b[?25hCollecting symspellpy>=6.7.6 (from pythainlp)\n",
            "  Downloading symspellpy-6.7.7-py3-none-any.whl (2.6 MB)\n",
            "\u001b[2K     \u001b[90m━━━━━━━━━━━━━━━━━━━━━━━━━━━━━━━━━━━━━━━━\u001b[0m \u001b[32m2.6/2.6 MB\u001b[0m \u001b[31m73.4 MB/s\u001b[0m eta \u001b[36m0:00:00\u001b[0m\n",
            "\u001b[?25hCollecting oskut>=1.3 (from pythainlp)\n",
            "  Downloading OSKut-1.3-py3-none-any.whl (44.2 MB)\n",
            "\u001b[2K     \u001b[90m━━━━━━━━━━━━━━━━━━━━━━━━━━━━━━━━━━━━━━━━\u001b[0m \u001b[32m44.2/44.2 MB\u001b[0m \u001b[31m11.3 MB/s\u001b[0m eta \u001b[36m0:00:00\u001b[0m\n",
            "\u001b[?25hCollecting nlpo3>=1.2.2 (from pythainlp)\n",
            "  Downloading nlpo3-1.3.0-cp310-cp310-manylinux_2_17_x86_64.manylinux2014_x86_64.whl (1.7 MB)\n",
            "\u001b[2K     \u001b[90m━━━━━━━━━━━━━━━━━━━━━━━━━━━━━━━━━━━━━━━━\u001b[0m \u001b[32m1.7/1.7 MB\u001b[0m \u001b[31m65.1 MB/s\u001b[0m eta \u001b[36m0:00:00\u001b[0m\n",
            "\u001b[?25hCollecting onnxruntime>=1.10.0 (from pythainlp)\n",
            "  Downloading onnxruntime-1.15.1-cp310-cp310-manylinux_2_17_x86_64.manylinux2014_x86_64.whl (5.9 MB)\n",
            "\u001b[2K     \u001b[90m━━━━━━━━━━━━━━━━━━━━━━━━━━━━━━━━━━━━━━━━\u001b[0m \u001b[32m5.9/5.9 MB\u001b[0m \u001b[31m97.4 MB/s\u001b[0m eta \u001b[36m0:00:00\u001b[0m\n",
            "\u001b[?25hCollecting thai-nner (from pythainlp)\n",
            "  Downloading thai_nner-0.3-py3-none-any.whl (2.2 MB)\n",
            "\u001b[2K     \u001b[90m━━━━━━━━━━━━━━━━━━━━━━━━━━━━━━━━━━━━━━━━\u001b[0m \u001b[32m2.2/2.2 MB\u001b[0m \u001b[31m72.8 MB/s\u001b[0m eta \u001b[36m0:00:00\u001b[0m\n",
            "\u001b[?25hCollecting wunsen>=0.0.3 (from pythainlp)\n",
            "  Downloading wunsen-0.0.3-py3-none-any.whl (21 kB)\n",
            "Collecting spacy-thai>=0.7.1 (from pythainlp)\n",
            "  Downloading spacy_thai-0.7.3-py3-none-any.whl (6.0 MB)\n",
            "\u001b[2K     \u001b[90m━━━━━━━━━━━━━━━━━━━━━━━━━━━━━━━━━━━━━━━━\u001b[0m \u001b[32m6.0/6.0 MB\u001b[0m \u001b[31m95.8 MB/s\u001b[0m eta \u001b[36m0:00:00\u001b[0m\n",
            "\u001b[?25hCollecting ufal.chu-liu-edmonds>=1.0.2 (from pythainlp)\n",
            "  Downloading ufal.chu_liu_edmonds-1.0.2-cp310-cp310-manylinux_2_17_x86_64.manylinux2014_x86_64.whl (105 kB)\n",
            "\u001b[2K     \u001b[90m━━━━━━━━━━━━━━━━━━━━━━━━━━━━━━━━━━━━━━\u001b[0m \u001b[32m105.1/105.1 kB\u001b[0m \u001b[31m11.0 MB/s\u001b[0m eta \u001b[36m0:00:00\u001b[0m\n",
            "\u001b[?25hRequirement already satisfied: tensorflow>=2.0.0 in /usr/local/lib/python3.10/dist-packages (from deepcut) (2.12.0)\n",
            "Requirement already satisfied: scipy in /usr/local/lib/python3.10/dist-packages (from deepcut) (1.10.1)\n",
            "Requirement already satisfied: scikit-learn in /usr/local/lib/python3.10/dist-packages (from deepcut) (1.2.2)\n",
            "Requirement already satisfied: h5py in /usr/local/lib/python3.10/dist-packages (from deepcut) (3.8.0)\n",
            "Collecting docopt>=0.6.2 (from attacut>=1.0.4->pythainlp)\n",
            "  Downloading docopt-0.6.2.tar.gz (25 kB)\n",
            "  Preparing metadata (setup.py) ... \u001b[?25l\u001b[?25hdone\n",
            "Collecting fire>=0.1.3 (from attacut>=1.0.4->pythainlp)\n",
            "  Downloading fire-0.5.0.tar.gz (88 kB)\n",
            "\u001b[2K     \u001b[90m━━━━━━━━━━━━━━━━━━━━━━━━━━━━━━━━━━━━━━━━\u001b[0m \u001b[32m88.3/88.3 kB\u001b[0m \u001b[31m7.7 MB/s\u001b[0m eta \u001b[36m0:00:00\u001b[0m\n",
            "\u001b[?25h  Preparing metadata (setup.py) ... \u001b[?25l\u001b[?25hdone\n",
            "Collecting nptyping>=0.2.0 (from attacut>=1.0.4->pythainlp)\n",
            "  Downloading nptyping-2.5.0-py3-none-any.whl (37 kB)\n",
            "Requirement already satisfied: six>=1.12.0 in /usr/local/lib/python3.10/dist-packages (from attacut>=1.0.4->pythainlp) (1.16.0)\n",
            "Requirement already satisfied: tqdm in /usr/local/lib/python3.10/dist-packages (from bpemb>=0.3.2->pythainlp) (4.65.0)\n",
            "Requirement already satisfied: setuptools in /usr/local/lib/python3.10/dist-packages (from epitran>=1.1->pythainlp) (67.7.2)\n",
            "Requirement already satisfied: regex in /usr/local/lib/python3.10/dist-packages (from epitran>=1.1->pythainlp) (2022.10.31)\n",
            "Collecting panphon>=0.20 (from epitran>=1.1->pythainlp)\n",
            "  Downloading panphon-0.20.0-py2.py3-none-any.whl (73 kB)\n",
            "\u001b[2K     \u001b[90m━━━━━━━━━━━━━━━━━━━━━━━━━━━━━━━━━━━━━━━━\u001b[0m \u001b[32m73.6/73.6 kB\u001b[0m \u001b[31m6.6 MB/s\u001b[0m eta \u001b[36m0:00:00\u001b[0m\n",
            "\u001b[?25hCollecting marisa-trie (from epitran>=1.1->pythainlp)\n",
            "  Downloading marisa_trie-0.8.0-cp310-cp310-manylinux_2_17_x86_64.manylinux2014_x86_64.whl (1.2 MB)\n",
            "\u001b[2K     \u001b[90m━━━━━━━━━━━━━━━━━━━━━━━━━━━━━━━━━━━━━━━━\u001b[0m \u001b[32m1.2/1.2 MB\u001b[0m \u001b[31m60.3 MB/s\u001b[0m eta \u001b[36m0:00:00\u001b[0m\n",
            "\u001b[?25hRequirement already satisfied: cffi in /usr/local/lib/python3.10/dist-packages (from fairseq>=0.10.0->pythainlp) (1.15.1)\n",
            "Requirement already satisfied: cython in /usr/local/lib/python3.10/dist-packages (from fairseq>=0.10.0->pythainlp) (0.29.35)\n",
            "Collecting hydra-core<1.1,>=1.0.7 (from fairseq>=0.10.0->pythainlp)\n",
            "  Downloading hydra_core-1.0.7-py3-none-any.whl (123 kB)\n",
            "\u001b[2K     \u001b[90m━━━━━━━━━━━━━━━━━━━━━━━━━━━━━━━━━━━━━━\u001b[0m \u001b[32m123.8/123.8 kB\u001b[0m \u001b[31m11.5 MB/s\u001b[0m eta \u001b[36m0:00:00\u001b[0m\n",
            "\u001b[?25hCollecting omegaconf<2.1 (from fairseq>=0.10.0->pythainlp)\n",
            "  Downloading omegaconf-2.0.6-py3-none-any.whl (36 kB)\n",
            "Collecting sacrebleu>=1.4.12 (from fairseq>=0.10.0->pythainlp)\n",
            "  Downloading sacrebleu-2.3.1-py3-none-any.whl (118 kB)\n",
            "\u001b[2K     \u001b[90m━━━━━━━━━━━━━━━━━━━━━━━━━━━━━━━━━━━━━━\u001b[0m \u001b[32m118.9/118.9 kB\u001b[0m \u001b[31m10.3 MB/s\u001b[0m eta \u001b[36m0:00:00\u001b[0m\n",
            "\u001b[?25hCollecting bitarray (from fairseq>=0.10.0->pythainlp)\n",
            "  Downloading bitarray-2.7.6-cp310-cp310-manylinux_2_17_x86_64.manylinux2014_x86_64.whl (273 kB)\n",
            "\u001b[2K     \u001b[90m━━━━━━━━━━━━━━━━━━━━━━━━━━━━━━━━━━━━━━\u001b[0m \u001b[32m273.6/273.6 kB\u001b[0m \u001b[31m23.6 MB/s\u001b[0m eta \u001b[36m0:00:00\u001b[0m\n",
            "\u001b[?25hRequirement already satisfied: torchaudio>=0.8.0 in /usr/local/lib/python3.10/dist-packages (from fairseq>=0.10.0->pythainlp) (2.0.2+cu118)\n",
            "Collecting bottleneck (from fastai<2.0->pythainlp)\n",
            "  Downloading Bottleneck-1.3.7-cp310-cp310-manylinux_2_5_x86_64.manylinux1_x86_64.manylinux_2_17_x86_64.manylinux2014_x86_64.whl (354 kB)\n",
            "\u001b[2K     \u001b[90m━━━━━━━━━━━━━━━━━━━━━━━━━━━━━━━━━━━━━━\u001b[0m \u001b[32m354.0/354.0 kB\u001b[0m \u001b[31m29.2 MB/s\u001b[0m eta \u001b[36m0:00:00\u001b[0m\n",
            "\u001b[?25hRequirement already satisfied: fastprogress>=0.2.1 in /usr/local/lib/python3.10/dist-packages (from fastai<2.0->pythainlp) (1.0.3)\n",
            "Requirement already satisfied: beautifulsoup4 in /usr/local/lib/python3.10/dist-packages (from fastai<2.0->pythainlp) (4.11.2)\n",
            "Requirement already satisfied: matplotlib in /usr/local/lib/python3.10/dist-packages (from fastai<2.0->pythainlp) (3.7.1)\n",
            "Requirement already satisfied: numexpr in /usr/local/lib/python3.10/dist-packages (from fastai<2.0->pythainlp) (2.8.4)\n",
            "Collecting nvidia-ml-py3 (from fastai<2.0->pythainlp)\n",
            "  Downloading nvidia-ml-py3-7.352.0.tar.gz (19 kB)\n",
            "  Preparing metadata (setup.py) ... \u001b[?25l\u001b[?25hdone\n",
            "Requirement already satisfied: packaging in /usr/local/lib/python3.10/dist-packages (from fastai<2.0->pythainlp) (23.1)\n",
            "Requirement already satisfied: Pillow in /usr/local/lib/python3.10/dist-packages (from fastai<2.0->pythainlp) (8.4.0)\n",
            "Requirement already satisfied: torchvision in /usr/local/lib/python3.10/dist-packages (from fastai<2.0->pythainlp) (0.15.2+cu118)\n",
            "Requirement already satisfied: smart-open>=1.8.1 in /usr/local/lib/python3.10/dist-packages (from gensim>=4.0.0->pythainlp) (6.3.0)\n",
            "Requirement already satisfied: click in /usr/local/lib/python3.10/dist-packages (from nltk>=3.3->pythainlp) (8.1.3)\n",
            "Requirement already satisfied: joblib in /usr/local/lib/python3.10/dist-packages (from nltk>=3.3->pythainlp) (1.2.0)\n",
            "Collecting coloredlogs (from onnxruntime>=1.10.0->pythainlp)\n",
            "  Downloading coloredlogs-15.0.1-py2.py3-none-any.whl (46 kB)\n",
            "\u001b[2K     \u001b[90m━━━━━━━━━━━━━━━━━━━━━━━━━━━━━━━━━━━━━━━━\u001b[0m \u001b[32m46.0/46.0 kB\u001b[0m \u001b[31m3.6 MB/s\u001b[0m eta \u001b[36m0:00:00\u001b[0m\n",
            "\u001b[?25hRequirement already satisfied: flatbuffers in /usr/local/lib/python3.10/dist-packages (from onnxruntime>=1.10.0->pythainlp) (23.5.26)\n",
            "Requirement already satisfied: protobuf in /usr/local/lib/python3.10/dist-packages (from onnxruntime>=1.10.0->pythainlp) (3.20.3)\n",
            "Requirement already satisfied: sympy in /usr/local/lib/python3.10/dist-packages (from onnxruntime>=1.10.0->pythainlp) (1.11.1)\n",
            "Collecting pyahocorasick<=1.4.0 (from oskut>=1.3->pythainlp)\n",
            "  Downloading pyahocorasick-1.4.0.tar.gz (312 kB)\n",
            "\u001b[2K     \u001b[90m━━━━━━━━━━━━━━━━━━━━━━━━━━━━━━━━━━━━━━\u001b[0m \u001b[32m312.1/312.1 kB\u001b[0m \u001b[31m25.4 MB/s\u001b[0m eta \u001b[36m0:00:00\u001b[0m\n",
            "\u001b[?25h  Preparing metadata (setup.py) ... \u001b[?25l\u001b[?25hdone\n",
            "Requirement already satisfied: python-dateutil>=2.8.1 in /usr/local/lib/python3.10/dist-packages (from pandas>=0.24->pythainlp) (2.8.2)\n",
            "Requirement already satisfied: pytz>=2020.1 in /usr/local/lib/python3.10/dist-packages (from pandas>=0.24->pythainlp) (2022.7.1)\n",
            "Requirement already satisfied: urllib3<1.27,>=1.21.1 in /usr/local/lib/python3.10/dist-packages (from requests>=2.22.0->pythainlp) (1.26.16)\n",
            "Requirement already satisfied: certifi>=2017.4.17 in /usr/local/lib/python3.10/dist-packages (from requests>=2.22.0->pythainlp) (2023.5.7)\n",
            "Requirement already satisfied: charset-normalizer~=2.0.0 in /usr/local/lib/python3.10/dist-packages (from requests>=2.22.0->pythainlp) (2.0.12)\n",
            "Requirement already satisfied: idna<4,>=2.5 in /usr/local/lib/python3.10/dist-packages (from requests>=2.22.0->pythainlp) (3.4)\n",
            "Collecting python-crfsuite (from sefr-cut>=1.1->pythainlp)\n",
            "  Downloading python_crfsuite-0.9.9-cp310-cp310-manylinux_2_17_x86_64.manylinux2014_x86_64.whl (993 kB)\n",
            "\u001b[2K     \u001b[90m━━━━━━━━━━━━━━━━━━━━━━━━━━━━━━━━━━━━━━\u001b[0m \u001b[32m993.5/993.5 kB\u001b[0m \u001b[31m50.1 MB/s\u001b[0m eta \u001b[36m0:00:00\u001b[0m\n",
            "\u001b[?25hCollecting deplacy>=2.0.3 (from spacy-thai>=0.7.1->pythainlp)\n",
            "  Downloading deplacy-2.0.5-py3-none-any.whl (22 kB)\n",
            "Requirement already satisfied: spacy>=2.2.2 in /usr/local/lib/python3.10/dist-packages (from spacy-thai>=0.7.1->pythainlp) (3.5.3)\n",
            "Collecting ufal.udpipe>=1.2.0 (from spacy-thai>=0.7.1->pythainlp)\n",
            "  Downloading ufal.udpipe-1.3.0.1-cp310-cp310-manylinux_2_17_x86_64.manylinux2014_x86_64.whl (936 kB)\n",
            "\u001b[2K     \u001b[90m━━━━━━━━━━━━━━━━━━━━━━━━━━━━━━━━━━━━━━\u001b[0m \u001b[32m937.0/937.0 kB\u001b[0m \u001b[31m50.1 MB/s\u001b[0m eta \u001b[36m0:00:00\u001b[0m\n",
            "\u001b[?25hCollecting editdistpy>=0.1.3 (from symspellpy>=6.7.6->pythainlp)\n",
            "  Downloading editdistpy-0.1.3.tar.gz (57 kB)\n",
            "\u001b[2K     \u001b[90m━━━━━━━━━━━━━━━━━━━━━━━━━━━━━━━━━━━━━━━━\u001b[0m \u001b[32m57.2/57.2 kB\u001b[0m \u001b[31m4.5 MB/s\u001b[0m eta \u001b[36m0:00:00\u001b[0m\n",
            "\u001b[?25h  Installing build dependencies ... \u001b[?25l\u001b[?25hdone\n",
            "  Getting requirements to build wheel ... \u001b[?25l\u001b[?25hdone\n",
            "  Preparing metadata (pyproject.toml) ... \u001b[?25l\u001b[?25hdone\n",
            "Requirement already satisfied: absl-py>=1.0.0 in /usr/local/lib/python3.10/dist-packages (from tensorflow>=2.0.0->deepcut) (1.4.0)\n",
            "Requirement already satisfied: astunparse>=1.6.0 in /usr/local/lib/python3.10/dist-packages (from tensorflow>=2.0.0->deepcut) (1.6.3)\n",
            "Requirement already satisfied: gast<=0.4.0,>=0.2.1 in /usr/local/lib/python3.10/dist-packages (from tensorflow>=2.0.0->deepcut) (0.4.0)\n",
            "Requirement already satisfied: google-pasta>=0.1.1 in /usr/local/lib/python3.10/dist-packages (from tensorflow>=2.0.0->deepcut) (0.2.0)\n",
            "Requirement already satisfied: grpcio<2.0,>=1.24.3 in /usr/local/lib/python3.10/dist-packages (from tensorflow>=2.0.0->deepcut) (1.56.0)\n",
            "Requirement already satisfied: jax>=0.3.15 in /usr/local/lib/python3.10/dist-packages (from tensorflow>=2.0.0->deepcut) (0.4.10)\n",
            "Requirement already satisfied: keras<2.13,>=2.12.0 in /usr/local/lib/python3.10/dist-packages (from tensorflow>=2.0.0->deepcut) (2.12.0)\n",
            "Requirement already satisfied: libclang>=13.0.0 in /usr/local/lib/python3.10/dist-packages (from tensorflow>=2.0.0->deepcut) (16.0.0)\n",
            "Requirement already satisfied: opt-einsum>=2.3.2 in /usr/local/lib/python3.10/dist-packages (from tensorflow>=2.0.0->deepcut) (3.3.0)\n",
            "Requirement already satisfied: tensorboard<2.13,>=2.12 in /usr/local/lib/python3.10/dist-packages (from tensorflow>=2.0.0->deepcut) (2.12.3)\n",
            "Requirement already satisfied: tensorflow-estimator<2.13,>=2.12.0 in /usr/local/lib/python3.10/dist-packages (from tensorflow>=2.0.0->deepcut) (2.12.0)\n",
            "Requirement already satisfied: termcolor>=1.1.0 in /usr/local/lib/python3.10/dist-packages (from tensorflow>=2.0.0->deepcut) (2.3.0)\n",
            "Requirement already satisfied: typing-extensions>=3.6.6 in /usr/local/lib/python3.10/dist-packages (from tensorflow>=2.0.0->deepcut) (4.6.3)\n",
            "Requirement already satisfied: wrapt<1.15,>=1.11.0 in /usr/local/lib/python3.10/dist-packages (from tensorflow>=2.0.0->deepcut) (1.14.1)\n",
            "Requirement already satisfied: tensorflow-io-gcs-filesystem>=0.23.1 in /usr/local/lib/python3.10/dist-packages (from tensorflow>=2.0.0->deepcut) (0.32.0)\n",
            "Requirement already satisfied: filelock in /usr/local/lib/python3.10/dist-packages (from torch>=1.0.0->pythainlp) (3.12.2)\n",
            "Requirement already satisfied: networkx in /usr/local/lib/python3.10/dist-packages (from torch>=1.0.0->pythainlp) (3.1)\n",
            "Requirement already satisfied: jinja2 in /usr/local/lib/python3.10/dist-packages (from torch>=1.0.0->pythainlp) (3.1.2)\n",
            "Requirement already satisfied: triton==2.0.0 in /usr/local/lib/python3.10/dist-packages (from torch>=1.0.0->pythainlp) (2.0.0)\n",
            "Requirement already satisfied: cmake in /usr/local/lib/python3.10/dist-packages (from triton==2.0.0->torch>=1.0.0->pythainlp) (3.25.2)\n",
            "Requirement already satisfied: lit in /usr/local/lib/python3.10/dist-packages (from triton==2.0.0->torch>=1.0.0->pythainlp) (16.0.6)\n",
            "Collecting huggingface-hub<1.0,>=0.14.1 (from transformers>=4.22.1->pythainlp)\n",
            "  Downloading huggingface_hub-0.16.4-py3-none-any.whl (268 kB)\n",
            "\u001b[2K     \u001b[90m━━━━━━━━━━━━━━━━━━━━━━━━━━━━━━━━━━━━━━\u001b[0m \u001b[32m268.8/268.8 kB\u001b[0m \u001b[31m21.5 MB/s\u001b[0m eta \u001b[36m0:00:00\u001b[0m\n",
            "\u001b[?25hCollecting tokenizers!=0.11.3,<0.14,>=0.11.1 (from transformers>=4.22.1->pythainlp)\n",
            "  Downloading tokenizers-0.13.3-cp310-cp310-manylinux_2_17_x86_64.manylinux2014_x86_64.whl (7.8 MB)\n",
            "\u001b[2K     \u001b[90m━━━━━━━━━━━━━━━━━━━━━━━━━━━━━━━━━━━━━━━━\u001b[0m \u001b[32m7.8/7.8 MB\u001b[0m \u001b[31m65.8 MB/s\u001b[0m eta \u001b[36m0:00:00\u001b[0m\n",
            "\u001b[?25hCollecting safetensors>=0.3.1 (from transformers>=4.22.1->pythainlp)\n",
            "  Downloading safetensors-0.3.1-cp310-cp310-manylinux_2_17_x86_64.manylinux2014_x86_64.whl (1.3 MB)\n",
            "\u001b[2K     \u001b[90m━━━━━━━━━━━━━━━━━━━━━━━━━━━━━━━━━━━━━━━━\u001b[0m \u001b[32m1.3/1.3 MB\u001b[0m \u001b[31m53.9 MB/s\u001b[0m eta \u001b[36m0:00:00\u001b[0m\n",
            "\u001b[?25hCollecting khanaa>=0.0.6 (from wunsen>=0.0.3->pythainlp)\n",
            "  Downloading khanaa-0.0.6-py3-none-any.whl (12 kB)\n",
            "Requirement already satisfied: threadpoolctl>=2.0.0 in /usr/local/lib/python3.10/dist-packages (from scikit-learn->deepcut) (3.1.0)\n",
            "Requirement already satisfied: wheel<1.0,>=0.23.0 in /usr/local/lib/python3.10/dist-packages (from astunparse>=1.6.0->tensorflow>=2.0.0->deepcut) (0.40.0)\n",
            "Requirement already satisfied: fsspec in /usr/local/lib/python3.10/dist-packages (from huggingface-hub<1.0,>=0.14.1->transformers>=4.22.1->pythainlp) (2023.6.0)\n",
            "Collecting antlr4-python3-runtime==4.8 (from hydra-core<1.1,>=1.0.7->fairseq>=0.10.0->pythainlp)\n",
            "  Downloading antlr4-python3-runtime-4.8.tar.gz (112 kB)\n",
            "\u001b[2K     \u001b[90m━━━━━━━━━━━━━━━━━━━━━━━━━━━━━━━━━━━━━━━\u001b[0m \u001b[32m112.4/112.4 kB\u001b[0m \u001b[31m8.6 MB/s\u001b[0m eta \u001b[36m0:00:00\u001b[0m\n",
            "\u001b[?25h  Preparing metadata (setup.py) ... \u001b[?25l\u001b[?25hdone\n",
            "Requirement already satisfied: ml-dtypes>=0.1.0 in /usr/local/lib/python3.10/dist-packages (from jax>=0.3.15->tensorflow>=2.0.0->deepcut) (0.2.0)\n",
            "Collecting unicodecsv (from panphon>=0.20->epitran>=1.1->pythainlp)\n",
            "  Downloading unicodecsv-0.14.1.tar.gz (10 kB)\n",
            "  Preparing metadata (setup.py) ... \u001b[?25l\u001b[?25hdone\n",
            "Requirement already satisfied: editdistance in /usr/local/lib/python3.10/dist-packages (from panphon>=0.20->epitran>=1.1->pythainlp) (0.6.2)\n",
            "Collecting munkres (from panphon>=0.20->epitran>=1.1->pythainlp)\n",
            "  Downloading munkres-1.1.4-py2.py3-none-any.whl (7.0 kB)\n",
            "Collecting portalocker (from sacrebleu>=1.4.12->fairseq>=0.10.0->pythainlp)\n",
            "  Downloading portalocker-2.7.0-py2.py3-none-any.whl (15 kB)\n",
            "Requirement already satisfied: tabulate>=0.8.9 in /usr/local/lib/python3.10/dist-packages (from sacrebleu>=1.4.12->fairseq>=0.10.0->pythainlp) (0.8.10)\n",
            "Collecting colorama (from sacrebleu>=1.4.12->fairseq>=0.10.0->pythainlp)\n",
            "  Downloading colorama-0.4.6-py2.py3-none-any.whl (25 kB)\n",
            "Requirement already satisfied: lxml in /usr/local/lib/python3.10/dist-packages (from sacrebleu>=1.4.12->fairseq>=0.10.0->pythainlp) (4.9.2)\n",
            "Requirement already satisfied: spacy-legacy<3.1.0,>=3.0.11 in /usr/local/lib/python3.10/dist-packages (from spacy>=2.2.2->spacy-thai>=0.7.1->pythainlp) (3.0.12)\n",
            "Requirement already satisfied: spacy-loggers<2.0.0,>=1.0.0 in /usr/local/lib/python3.10/dist-packages (from spacy>=2.2.2->spacy-thai>=0.7.1->pythainlp) (1.0.4)\n",
            "Requirement already satisfied: murmurhash<1.1.0,>=0.28.0 in /usr/local/lib/python3.10/dist-packages (from spacy>=2.2.2->spacy-thai>=0.7.1->pythainlp) (1.0.9)\n",
            "Requirement already satisfied: cymem<2.1.0,>=2.0.2 in /usr/local/lib/python3.10/dist-packages (from spacy>=2.2.2->spacy-thai>=0.7.1->pythainlp) (2.0.7)\n",
            "Requirement already satisfied: preshed<3.1.0,>=3.0.2 in /usr/local/lib/python3.10/dist-packages (from spacy>=2.2.2->spacy-thai>=0.7.1->pythainlp) (3.0.8)\n",
            "Requirement already satisfied: thinc<8.2.0,>=8.1.8 in /usr/local/lib/python3.10/dist-packages (from spacy>=2.2.2->spacy-thai>=0.7.1->pythainlp) (8.1.10)\n",
            "Requirement already satisfied: wasabi<1.2.0,>=0.9.1 in /usr/local/lib/python3.10/dist-packages (from spacy>=2.2.2->spacy-thai>=0.7.1->pythainlp) (1.1.2)\n",
            "Requirement already satisfied: srsly<3.0.0,>=2.4.3 in /usr/local/lib/python3.10/dist-packages (from spacy>=2.2.2->spacy-thai>=0.7.1->pythainlp) (2.4.6)\n",
            "Requirement already satisfied: catalogue<2.1.0,>=2.0.6 in /usr/local/lib/python3.10/dist-packages (from spacy>=2.2.2->spacy-thai>=0.7.1->pythainlp) (2.0.8)\n",
            "Requirement already satisfied: typer<0.8.0,>=0.3.0 in /usr/local/lib/python3.10/dist-packages (from spacy>=2.2.2->spacy-thai>=0.7.1->pythainlp) (0.7.0)\n",
            "Requirement already satisfied: pathy>=0.10.0 in /usr/local/lib/python3.10/dist-packages (from spacy>=2.2.2->spacy-thai>=0.7.1->pythainlp) (0.10.2)\n",
            "Requirement already satisfied: pydantic!=1.8,!=1.8.1,<1.11.0,>=1.7.4 in /usr/local/lib/python3.10/dist-packages (from spacy>=2.2.2->spacy-thai>=0.7.1->pythainlp) (1.10.9)\n",
            "Requirement already satisfied: langcodes<4.0.0,>=3.2.0 in /usr/local/lib/python3.10/dist-packages (from spacy>=2.2.2->spacy-thai>=0.7.1->pythainlp) (3.3.0)\n",
            "Requirement already satisfied: google-auth<3,>=1.6.3 in /usr/local/lib/python3.10/dist-packages (from tensorboard<2.13,>=2.12->tensorflow>=2.0.0->deepcut) (2.17.3)\n",
            "Requirement already satisfied: google-auth-oauthlib<1.1,>=0.5 in /usr/local/lib/python3.10/dist-packages (from tensorboard<2.13,>=2.12->tensorflow>=2.0.0->deepcut) (1.0.0)\n",
            "Requirement already satisfied: markdown>=2.6.8 in /usr/local/lib/python3.10/dist-packages (from tensorboard<2.13,>=2.12->tensorflow>=2.0.0->deepcut) (3.4.3)\n",
            "Requirement already satisfied: tensorboard-data-server<0.8.0,>=0.7.0 in /usr/local/lib/python3.10/dist-packages (from tensorboard<2.13,>=2.12->tensorflow>=2.0.0->deepcut) (0.7.1)\n",
            "Requirement already satisfied: werkzeug>=1.0.1 in /usr/local/lib/python3.10/dist-packages (from tensorboard<2.13,>=2.12->tensorflow>=2.0.0->deepcut) (2.3.6)\n",
            "Requirement already satisfied: soupsieve>1.2 in /usr/local/lib/python3.10/dist-packages (from beautifulsoup4->fastai<2.0->pythainlp) (2.4.1)\n",
            "Requirement already satisfied: pycparser in /usr/local/lib/python3.10/dist-packages (from cffi->fairseq>=0.10.0->pythainlp) (2.21)\n",
            "Collecting humanfriendly>=9.1 (from coloredlogs->onnxruntime>=1.10.0->pythainlp)\n",
            "  Downloading humanfriendly-10.0-py2.py3-none-any.whl (86 kB)\n",
            "\u001b[2K     \u001b[90m━━━━━━━━━━━━━━━━━━━━━━━━━━━━━━━━━━━━━━━━\u001b[0m \u001b[32m86.8/86.8 kB\u001b[0m \u001b[31m5.8 MB/s\u001b[0m eta \u001b[36m0:00:00\u001b[0m\n",
            "\u001b[?25hRequirement already satisfied: MarkupSafe>=2.0 in /usr/local/lib/python3.10/dist-packages (from jinja2->torch>=1.0.0->pythainlp) (2.1.3)\n",
            "Requirement already satisfied: contourpy>=1.0.1 in /usr/local/lib/python3.10/dist-packages (from matplotlib->fastai<2.0->pythainlp) (1.1.0)\n",
            "Requirement already satisfied: cycler>=0.10 in /usr/local/lib/python3.10/dist-packages (from matplotlib->fastai<2.0->pythainlp) (0.11.0)\n",
            "Requirement already satisfied: fonttools>=4.22.0 in /usr/local/lib/python3.10/dist-packages (from matplotlib->fastai<2.0->pythainlp) (4.40.0)\n",
            "Requirement already satisfied: kiwisolver>=1.0.1 in /usr/local/lib/python3.10/dist-packages (from matplotlib->fastai<2.0->pythainlp) (1.4.4)\n",
            "Requirement already satisfied: pyparsing>=2.3.1 in /usr/local/lib/python3.10/dist-packages (from matplotlib->fastai<2.0->pythainlp) (3.1.0)\n",
            "Requirement already satisfied: mpmath>=0.19 in /usr/local/lib/python3.10/dist-packages (from sympy->onnxruntime>=1.10.0->pythainlp) (1.3.0)\n",
            "Requirement already satisfied: cachetools<6.0,>=2.0.0 in /usr/local/lib/python3.10/dist-packages (from google-auth<3,>=1.6.3->tensorboard<2.13,>=2.12->tensorflow>=2.0.0->deepcut) (5.3.1)\n",
            "Requirement already satisfied: pyasn1-modules>=0.2.1 in /usr/local/lib/python3.10/dist-packages (from google-auth<3,>=1.6.3->tensorboard<2.13,>=2.12->tensorflow>=2.0.0->deepcut) (0.3.0)\n",
            "Requirement already satisfied: rsa<5,>=3.1.4 in /usr/local/lib/python3.10/dist-packages (from google-auth<3,>=1.6.3->tensorboard<2.13,>=2.12->tensorflow>=2.0.0->deepcut) (4.9)\n",
            "Requirement already satisfied: requests-oauthlib>=0.7.0 in /usr/local/lib/python3.10/dist-packages (from google-auth-oauthlib<1.1,>=0.5->tensorboard<2.13,>=2.12->tensorflow>=2.0.0->deepcut) (1.3.1)\n",
            "Requirement already satisfied: blis<0.8.0,>=0.7.8 in /usr/local/lib/python3.10/dist-packages (from thinc<8.2.0,>=8.1.8->spacy>=2.2.2->spacy-thai>=0.7.1->pythainlp) (0.7.9)\n",
            "Requirement already satisfied: confection<1.0.0,>=0.0.1 in /usr/local/lib/python3.10/dist-packages (from thinc<8.2.0,>=8.1.8->spacy>=2.2.2->spacy-thai>=0.7.1->pythainlp) (0.0.4)\n",
            "Requirement already satisfied: pyasn1<0.6.0,>=0.4.6 in /usr/local/lib/python3.10/dist-packages (from pyasn1-modules>=0.2.1->google-auth<3,>=1.6.3->tensorboard<2.13,>=2.12->tensorflow>=2.0.0->deepcut) (0.5.0)\n",
            "Requirement already satisfied: oauthlib>=3.0.0 in /usr/local/lib/python3.10/dist-packages (from requests-oauthlib>=0.7.0->google-auth-oauthlib<1.1,>=0.5->tensorboard<2.13,>=2.12->tensorflow>=2.0.0->deepcut) (3.2.2)\n",
            "Building wheels for collected packages: emoji, fairseq, phunspell, pyicu, sacremoses, docopt, editdistpy, fire, antlr4-python3-runtime, pyahocorasick, nvidia-ml-py3, unicodecsv\n",
            "  Building wheel for emoji (setup.py) ... \u001b[?25l\u001b[?25hdone\n",
            "  Created wheel for emoji: filename=emoji-2.6.0-py2.py3-none-any.whl size=351311 sha256=7688fd68cf074473eb41652b1a4febf191276a2b74823c4d35adb08ac3e55fa3\n",
            "  Stored in directory: /root/.cache/pip/wheels/ea/0b/64/114bc939d0083621aa41521e21be246c888260b8aa21e6c1ad\n",
            "  Building wheel for fairseq (pyproject.toml) ... \u001b[?25l\u001b[?25hdone\n",
            "  Created wheel for fairseq: filename=fairseq-0.12.2-cp310-cp310-linux_x86_64.whl size=11171300 sha256=3e18558cf9d545c5fd60fc87fae416b08a44950dd826b7f89b1846aa752adc5d\n",
            "  Stored in directory: /root/.cache/pip/wheels/e4/35/55/9c66f65ec7c83fd6fbc2b9502a0ac81b2448a1196159dacc32\n",
            "  Building wheel for phunspell (pyproject.toml) ... \u001b[?25l\u001b[?25hdone\n",
            "  Created wheel for phunspell: filename=phunspell-0.1.6-py3-none-any.whl size=47556195 sha256=ff1a7c3d44a9c774a613cd87455a2b4766722ba5c9d8880ccb66609329c6076d\n",
            "  Stored in directory: /root/.cache/pip/wheels/fd/4b/8b/24576e5451edf7f3f6b15492ace089f4f4353e6289fb923a7d\n",
            "  Building wheel for pyicu (pyproject.toml) ... \u001b[?25l\u001b[?25hdone\n",
            "  Created wheel for pyicu: filename=PyICU-2.11-cp310-cp310-linux_x86_64.whl size=1855565 sha256=af363ff40c0a9b006e58070fd3656d9546621e9f407ac747e3d009670e4f4d76\n",
            "  Stored in directory: /root/.cache/pip/wheels/67/c3/00/2176cc05d3ea22935a9c78f1034b1a3e3697ef11ffb5cbe2f5\n",
            "  Building wheel for sacremoses (setup.py) ... \u001b[?25l\u001b[?25hdone\n",
            "  Created wheel for sacremoses: filename=sacremoses-0.0.53-py3-none-any.whl size=895241 sha256=4c76b63405a0d7d235293c32f4fb18fa48649572da7f5f10c2d158a45c6fc3e7\n",
            "  Stored in directory: /root/.cache/pip/wheels/00/24/97/a2ea5324f36bc626e1ea0267f33db6aa80d157ee977e9e42fb\n",
            "  Building wheel for docopt (setup.py) ... \u001b[?25l\u001b[?25hdone\n",
            "  Created wheel for docopt: filename=docopt-0.6.2-py2.py3-none-any.whl size=13707 sha256=c026eed36c25d6bdf27eb4bf546931d4b789178cbc69a4066da6af732d2ef21b\n",
            "  Stored in directory: /root/.cache/pip/wheels/fc/ab/d4/5da2067ac95b36618c629a5f93f809425700506f72c9732fac\n",
            "  Building wheel for editdistpy (pyproject.toml) ... \u001b[?25l\u001b[?25hdone\n",
            "  Created wheel for editdistpy: filename=editdistpy-0.1.3-cp310-cp310-linux_x86_64.whl size=141739 sha256=a3692859575ce51c82e4e6bacb374157889b2ac1a507e88b27bafb772137ca09\n",
            "  Stored in directory: /root/.cache/pip/wheels/88/6a/a6/a1283cc145323a1fb3d475bd158ee60b248ab1985230d266fc\n",
            "  Building wheel for fire (setup.py) ... \u001b[?25l\u001b[?25hdone\n",
            "  Created wheel for fire: filename=fire-0.5.0-py2.py3-none-any.whl size=116932 sha256=7cf295e5f43faa993402305d44d1d123396b4677194348fec986d5c2e3faf7b3\n",
            "  Stored in directory: /root/.cache/pip/wheels/90/d4/f7/9404e5db0116bd4d43e5666eaa3e70ab53723e1e3ea40c9a95\n",
            "  Building wheel for antlr4-python3-runtime (setup.py) ... \u001b[?25l\u001b[?25hdone\n",
            "  Created wheel for antlr4-python3-runtime: filename=antlr4_python3_runtime-4.8-py3-none-any.whl size=141210 sha256=2b4aa707cc62ae4b4bb781b6999e92b0ef7a5d6fe222dfcc86707d33f1d61536\n",
            "  Stored in directory: /root/.cache/pip/wheels/a7/20/bd/e1477d664f22d99989fd28ee1a43d6633dddb5cb9e801350d5\n",
            "  Building wheel for pyahocorasick (setup.py) ... \u001b[?25l\u001b[?25hdone\n",
            "  Created wheel for pyahocorasick: filename=pyahocorasick-1.4.0-cp310-cp310-linux_x86_64.whl size=94079 sha256=258fbc6626af2acf4279b1c52633be3eb114514095482e1395cd965c87dfd3be\n",
            "  Stored in directory: /root/.cache/pip/wheels/d9/2c/59/a06c8cb22b93704fbb6c96a4bd68e71b43bb7a4bc2f0410d81\n",
            "  Building wheel for nvidia-ml-py3 (setup.py) ... \u001b[?25l\u001b[?25hdone\n",
            "  Created wheel for nvidia-ml-py3: filename=nvidia_ml_py3-7.352.0-py3-none-any.whl size=19171 sha256=de129e1cc7c4df1e2c783f4b9fbde8e5f863f3632d711a27f429c2b08879d7ad\n",
            "  Stored in directory: /root/.cache/pip/wheels/5c/d8/c0/46899f8be7a75a2ffd197a23c8797700ea858b9b34819fbf9e\n",
            "  Building wheel for unicodecsv (setup.py) ... \u001b[?25l\u001b[?25hdone\n",
            "  Created wheel for unicodecsv: filename=unicodecsv-0.14.1-py3-none-any.whl size=10745 sha256=f90d172cc7866388eb35f17e010804fe33bfae9a817a8754082913037feffd56\n",
            "  Stored in directory: /root/.cache/pip/wheels/9c/ea/66/8e45247b09052a933eb1a680b7c64802298faba58aac9b346b\n",
            "Successfully built emoji fairseq phunspell pyicu sacremoses docopt editdistpy fire antlr4-python3-runtime pyahocorasick nvidia-ml-py3 unicodecsv\n",
            "Installing collected packages: unicodecsv, ufal.udpipe, ufal.chu-liu-edmonds, tokenizers, sentencepiece, safetensors, python-crfsuite, pyicu, pyahocorasick, nvidia-ml-py3, munkres, docopt, bitarray, antlr4-python3-runtime, spylls, sacremoses, portalocker, panphon, omegaconf, nptyping, nlpo3, marisa-trie, khanaa, humanfriendly, fire, emoji, editdistpy, deplacy, colorama, bottleneck, wunsen, symspellpy, ssg, sacrebleu, pythainlp, phunspell, hydra-core, huggingface-hub, epitran, coloredlogs, transformers, onnxruntime, bpemb, spacy-thai, sefr-cut, oskut, deepcut, thai-nner, fastai, fairseq, attacut\n",
            "  Attempting uninstall: fastai\n",
            "    Found existing installation: fastai 2.7.12\n",
            "    Uninstalling fastai-2.7.12:\n",
            "      Successfully uninstalled fastai-2.7.12\n",
            "Successfully installed antlr4-python3-runtime-4.8 attacut-1.0.6 bitarray-2.7.6 bottleneck-1.3.7 bpemb-0.3.4 colorama-0.4.6 coloredlogs-15.0.1 deepcut-0.7.0.0 deplacy-2.0.5 docopt-0.6.2 editdistpy-0.1.3 emoji-2.6.0 epitran-1.24 fairseq-0.12.2 fastai-1.0.61 fire-0.5.0 huggingface-hub-0.16.4 humanfriendly-10.0 hydra-core-1.0.7 khanaa-0.0.6 marisa-trie-0.8.0 munkres-1.1.4 nlpo3-1.3.0 nptyping-2.5.0 nvidia-ml-py3-7.352.0 omegaconf-2.0.6 onnxruntime-1.15.1 oskut-1.3 panphon-0.20.0 phunspell-0.1.6 portalocker-2.7.0 pyahocorasick-1.4.0 pyicu-2.11 pythainlp-4.0.2 python-crfsuite-0.9.9 sacrebleu-2.3.1 sacremoses-0.0.53 safetensors-0.3.1 sefr-cut-1.1 sentencepiece-0.1.99 spacy-thai-0.7.3 spylls-0.1.7 ssg-0.0.8 symspellpy-6.7.7 thai-nner-0.3 tokenizers-0.13.3 transformers-4.30.2 ufal.chu-liu-edmonds-1.0.2 ufal.udpipe-1.3.0.1 unicodecsv-0.14.1 wunsen-0.0.3\n"
          ]
        }
      ]
    },
    {
      "cell_type": "code",
      "execution_count": 24,
      "metadata": {
        "colab": {
          "base_uri": "https://localhost:8080/"
        },
        "id": "xTP8Lz5oZ1fY",
        "outputId": "cd25ba85-f13e-4343-9dae-5583206c7546"
      },
      "outputs": [
        {
          "output_type": "stream",
          "name": "stdout",
          "text": [
            "\n",
            "-- engine_test --\n",
            "\n",
            "['พลายศักดิ์', 'สุรินทร์', 'เดินทาง', 'ถึง', 'ประเทศไทย', 'สนามบินเชียงใหม่', 'แล้ว', ' ', 'โดย', 'มี', ' ', 'รมว.', 'ทส.', ' ', 'นำ', 'เจ้าหน้าที่', 'รอ', 'ต้อนรับ', 'ก่อน', 'เตรียม', 'เคลื่อนย้าย', 'ไป', 'ยัง', 'สถาบัน', 'คชบาล', 'แห่งชาติลำปาง', ' ', 'ด้าน', 'วราวุธ', 'ย้ำ', 'เตรียม', 'นำ', 'ตัว', 'ช้าง', 'ตรวจ', 'สุขภาพ', 'รักษา', 'อาการ', 'ป่วย', ' ', 'พร้อม', 'ปัด', 'ตอบ', 'ส่ง', 'คืน', 'ศรีลังกา', 'หรือ', 'ไม่', ' ', 'เผย', 'ยัง', 'มี', 'เวลา', 'หารือ', 'อีก', 'นาน']\n",
            "['พลาย', 'ศักดิ์', 'สุรินทร์', 'เดินทาง', 'ถึง', 'ประเทศ', 'ไทย', 'สนามบิน', 'เชียงใหม่', 'แล้ว', ' ', 'โดย', 'มี', ' ', 'รมว.', 'ทส.', ' ', 'นำ', 'เจ้าหน้าที่', 'รอ', 'ต้อนรับ', 'ก่อน', 'เตรียม', 'เคลื่อนย้าย', 'ไป', 'ยัง', 'สถาบัน', 'คชบาลแห่งชาติ', 'ลำปาง', ' ', 'ด้าน', 'วร', 'าวุธ', 'ย้ำ', 'เตรียม', 'นำ', 'ตัว', 'ช้าง', 'ตรวจ', 'สุขภาพ', 'รักษา', 'อาการป่วย', ' ', 'พร้อม', 'ปัด', 'ตอบ', 'ส่งคืน', 'ศรีลังกา', 'หรือไม่', ' ', 'เผย', 'ยังมี', 'เวลา', 'หารือ', 'อีก', 'นาน']\n",
            "['พลาย', 'ศักดิ์', 'สุรินทร์', 'เดินทาง', 'ถึง', 'ประเทศ', 'ไทย', 'สนามบิน', 'เชียงใหม่', 'แล้ว', ' ', 'โดย', 'มี', ' ', 'รมว.', 'ทส.', ' ', 'นำ', 'เจ้าหน้าที่', 'รอ', 'ต้อนรับ', 'ก่อน', 'เตรียม', 'เคลื่อนย้าย', 'ไป', 'ยัง', 'สถาบัน', 'คชบาลแห่งชาติ', 'ลำปาง', ' ', 'ด้าน', 'ว', 'รา', 'วุธ', 'ย้ำ', 'เตรียม', 'นำ', 'ตัว', 'ช้าง', 'ตรวจ', 'สุขภาพ', 'รักษา', 'อาการป่วย', ' ', 'พร้อม', 'ปัด', 'ตอบ', 'ส่งคืน', 'ศรีลังกา', 'หรือไม่', ' ', 'เผย', 'ยังมี', 'เวลา', 'หารือ', 'อีก', 'นาน']\n",
            "['พลาย', 'ศักดิ์', 'สุรินทร์', 'เดินทาง', 'ถึง', 'ประเทศ', 'ไทย', 'สนามบิน', 'เชียงใหม่', 'แล้ว', ' ', 'โดย', 'มี', ' ', 'รมว.', 'ทส.', ' ', 'นำ', 'เจ้าหน้าที่', 'รอ', 'ต้อนรับ', 'ก่อน', 'เตรียม', 'เคลื่อนย้าย', 'ไป', 'ยัง', 'สถาบัน', 'คชบาลแห่งชาติ', 'ลำปาง', ' ', 'ด้าน', 'ว', 'รา', 'วุธ', 'ย้ำ', 'เตรียม', 'นำ', 'ตัว', 'ช้าง', 'ตรวจ', 'สุขภาพ', 'รักษา', 'อาการป่วย', ' ', 'พร้อม', 'ปัด', 'ตอบ', 'ส่งคืน', 'ศรีลังกา', 'หรือไม่', ' ', 'เผย', 'ยังมี', 'เวลา', 'หารือ', 'อีก', 'นาน']\n",
            "8/8 [==============================] - 0s 22ms/step\n",
            "['พลายศักดิ์สุรินทร์', 'เดินทาง', 'ถึง', 'ประเทศไทย', 'สนามบินเชียงใหม่', 'แล้ว', ' ', 'โดย', 'มี', ' ', 'รมว.', 'ทส.', ' ', 'นำ', 'เจ้าหน้าที่', 'รอ', 'ต้อนรับ', 'ก่อน', 'เตรียม', 'เคลื่อนย้าย', 'ไป', 'ยัง', 'สถาบันคชบาล', 'แห่ง', 'ชาติลำปาง', ' ', 'ด้าน', 'วราวุธ', 'ย้ำ', 'เตรียม', 'นำ', 'ตัว', 'ช้าง', 'ตรวจ', 'สุขภาพ', 'รักษา', 'อาการ', 'ป่วย', ' ', 'พร้อม', 'ปัด', 'ตอบ', 'ส่ง', 'คืน', 'ศรีลังกา', 'หรือ', 'ไม่', ' ', 'เผย', 'ยัง', 'มี', 'เวลา', 'หารือ', 'อีก', 'นาน']\n",
            "\n",
            "-- custom_dict --\n",
            "\n",
            "['พลายศักดิ์', 'สุรินทร์', 'เดินทาง', 'ถึง', 'ประเทศไทย', 'สนามบินเชียงใหม่', 'แล้ว', ' ', 'โดย', 'มี', ' ', 'รมว.', 'ทส.', ' ', 'นำ', 'เจ้าหน้าที่', 'รอ', 'ต้อนรับ', 'ก่อน', 'เตรียม', 'เคลื่อนย้าย', 'ไป', 'ยัง', 'สถาบัน', 'คชบาล', 'แห่งชาติลำปาง', ' ', 'ด้าน', 'วราวุธ', 'ย้ำ', 'เตรียม', 'นำ', 'ตัว', 'ช้าง', 'ตรวจ', 'สุขภาพ', 'รักษา', 'อาการ', 'ป่วย', ' ', 'พร้อม', 'ปัด', 'ตอบ', 'ส่ง', 'คืน', 'ศรีลังกา', 'หรือ', 'ไม่', ' ', 'เผย', 'ยัง', 'มี', 'เวลา', 'หารือ', 'อีก', 'นาน']\n",
            "['พลาย', 'ศักดิ์สุรินทร์', 'เดินทาง', 'ถึง', 'ประเทศ', 'ไทย', 'สนามบิน', 'เชียงใหม่', 'แล้ว', ' ', 'โดย', 'มี', ' ', 'รมว.', 'ทส.', ' ', 'นำ', 'เจ้าหน้าที่', 'รอ', 'ต้อนรับ', 'ก่อน', 'เตรียม', 'เคลื่อนย้าย', 'ไป', 'ยัง', 'สถาบัน', 'คชบาลแห่งชาติ', 'ลำปาง', ' ', 'ด้าน', 'วราวุธ', 'ย้ำ', 'เตรียม', 'นำ', 'ตัว', 'ช้าง', 'ตรวจ', 'สุขภาพ', 'รักษา', 'อาการป่วย', ' ', 'พร้อม', 'ปัด', 'ตอบ', 'ส่งคืน', 'ศรีลังกา', 'หรือไม่', ' ', 'เผย', 'ยังมี', 'เวลา', 'หารือ', 'อีก', 'นาน']\n",
            "['พลาย', 'ศักดิ์สุรินทร์', 'เดินทาง', 'ถึง', 'ประเทศ', 'ไทย', 'สนามบิน', 'เชียงใหม่', 'แล้ว', ' ', 'โดย', 'มี', ' ', 'รมว.', 'ทส.', ' ', 'นำ', 'เจ้าหน้าที่', 'รอ', 'ต้อนรับ', 'ก่อน', 'เตรียม', 'เคลื่อนย้าย', 'ไป', 'ยัง', 'สถาบัน', 'คชบาลแห่งชาติ', 'ลำปาง', ' ', 'ด้าน', 'วราวุธ', 'ย้ำ', 'เตรียม', 'นำ', 'ตัว', 'ช้าง', 'ตรวจ', 'สุขภาพ', 'รักษา', 'อาการป่วย', ' ', 'พร้อม', 'ปัด', 'ตอบ', 'ส่งคืน', 'ศรีลังกา', 'หรือไม่', ' ', 'เผย', 'ยังมี', 'เวลา', 'หารือ', 'อีก', 'นาน']\n",
            "['พลาย', 'ศักดิ์สุรินทร์', 'เดินทาง', 'ถึง', 'ประเทศ', 'ไทย', 'สนามบิน', 'เชียงใหม่', 'แล้ว', ' ', 'โดย', 'มี', ' ', 'รมว.', 'ทส.', ' ', 'นำ', 'เจ้าหน้าที่', 'รอ', 'ต้อนรับ', 'ก่อน', 'เตรียม', 'เคลื่อนย้าย', 'ไป', 'ยัง', 'สถาบัน', 'คชบาลแห่งชาติ', 'ลำปาง', ' ', 'ด้าน', 'วราวุธ', 'ย้ำ', 'เตรียม', 'นำ', 'ตัว', 'ช้าง', 'ตรวจ', 'สุขภาพ', 'รักษา', 'อาการป่วย', ' ', 'พร้อม', 'ปัด', 'ตอบ', 'ส่งคืน', 'ศรีลังกา', 'หรือไม่', ' ', 'เผย', 'ยังมี', 'เวลา', 'หารือ', 'อีก', 'นาน']\n",
            "8/8 [==============================] - 0s 23ms/step\n",
            "['พล', 'า', 'ย', 'ศั', 'กด', 'ิ', '์สุ', 'ริ', 'นทร', '์', 'เดินทา', 'ง', 'ถึ', 'ง', 'ประ', 'เทศ', 'ไท', 'ย', 'สนา', 'มบิ', 'นเชี', 'ยง', 'ใหม่', 'แล้ว ', 'โด', 'ยมี', ' ', 'รม', 'ว.', 'ทส.', ' ', 'นำ', 'เจ', '้', 'า', 'หน้า', 'ที่', 'รอ', 'ต้', 'อ', 'นร', 'ับ', 'ก', '่อน', 'เ', 'ตรี', 'ยมเคลื่อนย้าย', 'ไป', 'ย', 'ัง', 'สถา', 'บั', 'นคชบา', 'ล', 'แห', '่งชาต', 'ิ', 'ลำ', 'ปาง', ' ', 'ด้าน', 'วรา', 'ว', 'ุธ', 'ย้ำ', 'เตรี', 'ยมน', 'ำ', 'ตั', 'ว', 'ช้าง', 'ตรว', 'จสุ', 'ข', 'ภาพร', 'ั', 'กษ', 'า', 'อาการ', 'ป', '่วย', ' ', 'พร้', 'อม', 'ปัด', 'ตอบ', 'ส', '่', 'ง', 'คืนศรี', 'ลัง', 'กา', 'หรื', 'อ', 'ไ', 'ม่', ' ', 'เผ', 'ย', 'ยังมี', 'เวล', 'า', 'หารื', 'ออี', 'กนา', 'น']\n",
            "\n",
            "-- comparision --\n",
            "\n"
          ]
        }
      ],
      "source": [
        "import pythainlp.tokenize as tkn\n",
        "from pythainlp.corpus.common import thai_words\n",
        "\n",
        "print('\\n-- engine_test --\\n')\n",
        "\n",
        "sentence = \"พลายศักดิ์สุรินทร์เดินทางถึงประเทศไทยสนามบินเชียงใหม่แล้ว โดยมี รมว.ทส. นำเจ้าหน้าที่รอต้อนรับก่อนเตรียมเคลื่อนย้ายไปยังสถาบันคชบาลแห่งชาติลำปาง ด้านวราวุธย้ำเตรียมนำตัวช้างตรวจสุขภาพรักษาอาการป่วย พร้อมปัดตอบส่งคืนศรีลังกาหรือไม่ เผยยังมีเวลาหารืออีกนาน\"\n",
        "\n",
        "print(tkn.word_tokenize(sentence, engine='attacut'))\n",
        "print(tkn.word_tokenize(sentence, engine='longest'))\n",
        "print(tkn.word_tokenize(sentence, engine='newmm'))\n",
        "print(tkn.word_tokenize(sentence, engine='newmm-safe'))\n",
        "print(tkn.word_tokenize(sentence, engine='deepcut'))\n",
        "\n",
        "print('\\n-- custom_dict --\\n')\n",
        "\n",
        "dict_append = set(thai_words())\n",
        "dict_append.add('ศักดิ์สุรินทร์')\n",
        "dict_append.add('รมว.')\n",
        "dict_append.add('ทส.')\n",
        "dict_append.add('คชบาล')\n",
        "dict_append.add('วราวุธ')\n",
        "\n",
        "trie = tkn.Trie(dict_append)\n",
        "\n",
        "print(tkn.word_tokenize(sentence, engine='attacut', custom_dict=trie))\n",
        "print(tkn.word_tokenize(sentence, engine='longest', custom_dict=trie))\n",
        "print(tkn.word_tokenize(sentence, engine='newmm', custom_dict=trie))\n",
        "print(tkn.word_tokenize(sentence, engine='newmm-safe', custom_dict=trie))\n",
        "print(tkn.word_tokenize(sentence, engine='deepcut', custom_dict=trie))\n",
        "\n",
        "print('\\n-- comparision --\\n')\n",
        "\n",
        "\n",
        "text = '\"ธรรมนัส\" โต้แทน \"บิ๊กป้อม\" ไม่หลับในสภาฯ ตามที่มีภาพปรากฏเป็นข่าว จนถูกวิพากษ์วิจารณ์ บอก จะเอาเวลาที่ไหนไปหลับ มีแต่คนเข้ามายกมือไหว้ ชี้ น่าจะเป็นช่วงขยับเก้าอี้ เนื่องจากนั่งไม่พอดี ไม่สะดวก ตนอยู่ใกล้ตลอด ไม่เห็นท่านหลับตรงไหน วันที่ 5 ก.ค. 66 ร.อ.ธรรมนัส พรหมเผ่า ส.ส.พะเยา พรรคพลังประชารัฐ ยืนยันว่า พล.อ.ประวิตร วงษ์สุวรรณ รองนายกฯ ในฐานะหัวหน้าพรรคพลังประชารัฐ ไม่ได้หลับในสภาฯ ตามที่มีภาพปรากฏเป็นข่าว จนถูกวิพากษ์วิจารณ์ จะเอาเวลาที่ไหนไปหลับ เพราะระหว่างที่นั่งอยู่ในสภาฯ มีแต่คนเดินมาทักทาย ยกมือไหว้ตลอดเวลา ซึ่งภาพที่ออกมาน่าจะเป็นช่วงที่ พล.อ.ประวิตร กำลังขยับเก้าอี้ เนื่องจากนั่งไม่พอดี ไม่สะดวก จนนายไผ่ ลิกค์ ส.ส.กำแพงเพชร ต้องเข้ามาช่วยขยับอยู่หลายครั้ง พร้อมย้ำ ตนในฐานะที่อยู่ด้วยใกล้ๆ ตลอดก็ยังไม่เห็นว่าท่านหลับตรงไหน.'"
      ]
    },
    {
      "cell_type": "code",
      "source": [
        "%%timeit\n",
        "tkn.word_tokenize(text, engine='attacut')"
      ],
      "metadata": {
        "id": "snKJFyT6cHIS",
        "outputId": "ac30e2a9-6468-484d-9574-5a389b411428",
        "colab": {
          "base_uri": "https://localhost:8080/"
        }
      },
      "execution_count": 25,
      "outputs": [
        {
          "output_type": "stream",
          "name": "stdout",
          "text": [
            "34 ms ± 1.94 ms per loop (mean ± std. dev. of 7 runs, 1 loop each)\n"
          ]
        }
      ]
    },
    {
      "cell_type": "code",
      "source": [
        "%%timeit\n",
        "tkn.word_tokenize(text, engine='longest')"
      ],
      "metadata": {
        "id": "zvOqiTDAcKGH",
        "outputId": "b0f7eafd-60d5-4eaa-e801-e92e634e700a",
        "colab": {
          "base_uri": "https://localhost:8080/"
        }
      },
      "execution_count": 26,
      "outputs": [
        {
          "output_type": "stream",
          "name": "stdout",
          "text": [
            "130 ms ± 25.4 ms per loop (mean ± std. dev. of 7 runs, 10 loops each)\n"
          ]
        }
      ]
    },
    {
      "cell_type": "code",
      "source": [
        "%%timeit\n",
        "tkn.word_tokenize(text, engine='newmm')"
      ],
      "metadata": {
        "id": "q18RuOL1cL5b",
        "outputId": "a8456975-aecf-4471-d323-9f2d314eb790",
        "colab": {
          "base_uri": "https://localhost:8080/"
        }
      },
      "execution_count": 32,
      "outputs": [
        {
          "output_type": "stream",
          "name": "stdout",
          "text": [
            "2.54 ms ± 690 µs per loop (mean ± std. dev. of 7 runs, 1000 loops each)\n"
          ]
        }
      ]
    },
    {
      "cell_type": "code",
      "source": [
        "%%timeit\n",
        "tkn.word_tokenize(text, engine='newmm-safe')"
      ],
      "metadata": {
        "id": "6fOQvDBicNAh",
        "outputId": "4a09d491-c4b6-4447-e3c8-24ac6a599ebd",
        "colab": {
          "base_uri": "https://localhost:8080/"
        }
      },
      "execution_count": 31,
      "outputs": [
        {
          "output_type": "stream",
          "name": "stdout",
          "text": [
            "2.13 ms ± 120 µs per loop (mean ± std. dev. of 7 runs, 100 loops each)\n"
          ]
        }
      ]
    },
    {
      "cell_type": "code",
      "source": [
        "%%timeit\n",
        "tkn.word_tokenize(text, engine='deepcut')"
      ],
      "metadata": {
        "id": "7AEO9qpncN25",
        "outputId": "4274c65e-161b-4aeb-c4d4-d3cd75026f1e",
        "colab": {
          "base_uri": "https://localhost:8080/"
        }
      },
      "execution_count": 29,
      "outputs": [
        {
          "output_type": "stream",
          "name": "stdout",
          "text": [
            "24/24 [==============================] - 0s 13ms/step\n",
            "24/24 [==============================] - 0s 14ms/step\n",
            "24/24 [==============================] - 0s 14ms/step\n",
            "24/24 [==============================] - 0s 14ms/step\n",
            "24/24 [==============================] - 0s 19ms/step\n",
            "24/24 [==============================] - 1s 24ms/step\n",
            "24/24 [==============================] - 1s 25ms/step\n",
            "24/24 [==============================] - 1s 23ms/step\n",
            "683 ms ± 102 ms per loop (mean ± std. dev. of 7 runs, 1 loop each)\n"
          ]
        }
      ]
    },
    {
      "cell_type": "code",
      "source": [
        "def stopwatch(engine):\n",
        "    print(f'engine: {engine}', tkn.word_tokenize(text, engine=engine))\n",
        "\n",
        "engines = ['attacut', 'longest', 'newmm', 'newmm-safe', 'deepcut']\n",
        "for i in engines:\n",
        "  stopwatch(i)"
      ],
      "metadata": {
        "id": "HIeuPY6vdWRl",
        "outputId": "2b7d0d8a-b3c4-4086-e36b-f1104933b78d",
        "colab": {
          "base_uri": "https://localhost:8080/"
        }
      },
      "execution_count": 33,
      "outputs": [
        {
          "output_type": "stream",
          "name": "stdout",
          "text": [
            "engine: attacut ['\"', 'ธรรมนัส', '\"', ' ', 'โต้แทน', ' ', '\"', 'บิ๊กป้อม', '\"', ' ', 'ไม่', 'หลับ', 'ใน', 'สภา', 'ฯ', ' ', 'ตาม', 'ที่', 'มี', 'ภาพ', 'ปรากฏ', 'เป็น', 'ข่าว', ' ', 'จน', 'ถูก', 'วิพากษ์วิจารณ์', ' ', 'บอก', ' ', 'จะ', 'เอา', 'เวลา', 'ที่', 'ไหน', 'ไป', 'หลับ', ' ', 'มี', 'แต่', 'คน', 'เข้า', 'มา', 'ยก', 'มือ', 'ไหว้', ' ', 'ชี้', ' ', 'น่า', 'จะ', 'เป็น', 'ช่วง', 'ขยับ', 'เก้าอี้', ' ', 'เนื่อง', 'จาก', 'นั่ง', 'ไม่', 'พอดี', ' ', 'ไม่', 'สะดวก', ' ', 'ตน', 'อยู่', 'ใกล้', 'ตลอด', ' ', 'ไม่', 'เห็น', 'ท่าน', 'หลับ', 'ตรง', 'ไหน', ' ', 'วัน', 'ที่', ' ', '5', ' ', 'ก.ค.', ' ', '66', ' ', 'ร.อ.ธรรมนัส พรหมเผ่า', ' ', 'ส.ส.พะเยา', ' ', 'พรรคพลังประชารัฐ', ' ', 'ยืนยัน', 'ว่า', ' ', 'พล.อ.ประวิตร วงษ์สุวรรณ', ' ', 'รอง', 'นายก', 'ฯ', ' ', 'ใน', 'ฐานะ', 'หัวหน้า', 'พรรคพลังประชารัฐ', ' ', 'ไม่', 'ได้', 'หลับ', 'ใน', 'สภา', 'ฯ', ' ', 'ตาม', 'ที่', 'มี', 'ภาพ', 'ปรากฏ', 'เป็น', 'ข่าว', ' ', 'จน', 'ถูก', 'วิพากษ์วิจารณ์', ' ', 'จะ', 'เอา', 'เวลา', 'ที่', 'ไหน', 'ไป', 'หลับ', ' ', 'เพราะ', 'ระหว่าง', 'ที่', 'นั่ง', 'อยู่', 'ใน', 'สภา', 'ฯ', ' ', 'มี', 'แต่', 'คน', 'เดิน', 'มา', 'ทักทาย', ' ', 'ยก', 'มือ', 'ไหว้', 'ตลอด', 'เวลา', ' ', 'ซึ่ง', 'ภาพ', 'ที่', 'ออก', 'มา', 'น่า', 'จะ', 'เป็น', 'ช่วง', 'ที่', ' ', 'พล.อ.ประวิตร', ' ', 'กำลัง', 'ขยับ', 'เก้าอี้', ' ', 'เนื่อง', 'จาก', 'นั่ง', 'ไม่', 'พอดี', ' ', 'ไม่', 'สะดวก', ' ', 'จน', 'นายไผ่ ลิกค์', ' ', 'ส.ส.', 'กำแพงเพชร', ' ', 'ต้อง', 'เข้า', 'มา', 'ช่วย', 'ขยับ', 'อยู่', 'หลาย', 'ครั้ง', ' ', 'พร้อม', 'ย้ำ', ' ', 'ตน', 'ใน', 'ฐานะ', 'ที่', 'อยู่', 'ด้วย', 'ใกล้', 'ๆ', ' ', 'ตลอด', 'ก็', 'ยัง', 'ไม่', 'เห็น', 'ว่า', 'ท่าน', 'หลับ', 'ตรง', 'ไหน', '.']\n",
            "engine: longest ['\"', 'ธร', 'รม', 'นัส\"', ' ', 'โต้', 'แทน', ' \"', 'บิ๊ก', 'ป้อม', '\"', ' ', 'ไม่', 'หลับใน', 'สภาฯ', ' ', 'ตามที่', 'มี', 'ภาพ', 'ปรากฏ', 'เป็นข่าว', ' ', 'จน', 'ถูก', 'วิพากษ์วิจารณ์', ' ', 'บอก', ' ', 'จะ', 'เอา', 'เวลา', 'ที่ไหน', 'ไป', 'หลับ', ' ', 'มี', 'แต่', 'คน', 'เข้ามา', 'ยกมือ', 'ไหว้', ' ', 'ชี้', ' ', 'น่าจะเป็น', 'ช่วง', 'ขยับ', 'เก้าอี้', ' ', 'เนื่องจาก', 'นั่ง', 'ไม่', 'พอดี', ' ', 'ไม่', 'สะดวก', ' ', 'ตน', 'อยู่', 'ใกล้', 'ตลอด', ' ', 'ไม่', 'เห็น', 'ท่าน', 'หลับ', 'ตรงไหน', ' ', 'วันที่', ' ', '5', ' ', 'ก.ค.', ' ', '66', ' ', 'ร.อ.', 'ธร', 'รม', 'นัส', ' ', 'พรหม', 'เผ่า', ' ', 'ส.ส.', 'พะเยา', ' ', 'พรรคพลังประชารัฐ', ' ', 'ยืนยัน', 'ว่า', ' ', 'พล', '.', 'อ.', 'ประวิตร', ' ', 'วงษ์', 'สุวรรณ', ' ', 'รอง', 'นายกฯ', ' ', 'ใน', 'ฐานะ', 'หัวหน้าพรรค', 'พลัง', 'ประชา', 'รัฐ', ' ', 'ไม่', 'ได้', 'หลับใน', 'สภาฯ', ' ', 'ตามที่', 'มี', 'ภาพ', 'ปรากฏ', 'เป็นข่าว', ' ', 'จน', 'ถูก', 'วิพากษ์วิจารณ์', ' ', 'จะ', 'เอา', 'เวลา', 'ที่ไหน', 'ไป', 'หลับ', ' ', 'เพราะ', 'ระหว่าง', 'ที่นั่ง', 'อยู่', 'ใน', 'สภาฯ', ' ', 'มี', 'แต่', 'คน', 'เดิน', 'มา', 'ทักทาย', ' ', 'ยกมือ', 'ไหว้', 'ตลอดเวลา', ' ', 'ซึ่ง', 'ภาพ', 'ที่', 'ออกมา', 'น่าจะเป็น', 'ช่วง', 'ที่', ' ', 'พล', '.', 'อ.', 'ประวิตร', ' ', 'กำลัง', 'ขยับ', 'เก้าอี้', ' ', 'เนื่องจาก', 'นั่ง', 'ไม่', 'พอดี', ' ', 'ไม่', 'สะดวก', ' ', 'จน', 'นาย', 'ไผ่', ' ', 'ลิ', 'กค์', ' ', 'ส.ส.', 'กำแพงเพชร', ' ', 'ต้อง', 'เข้ามา', 'ช่วย', 'ขยับ', 'อยู่', 'หลายครั้ง', ' ', 'พร้อม', 'ย้ำ', ' ', 'ตน', 'ใน', 'ฐานะ', 'ที่อยู่', 'ด้วย', 'ใกล้ๆ', ' ', 'ตลอด', 'ก็', 'ยัง', 'ไม่', 'เห็น', 'ว่า', 'ท่าน', 'หลับ', 'ตรง', 'ไห', 'น.']\n",
            "engine: newmm ['\"', 'ธรรม', 'นัส\"', ' ', 'โต้', 'แทน', ' ', '\"', 'บิ๊ก', 'ป้อม', '\"', ' ', 'ไม่', 'หลับใน', 'สภา', 'ฯ', ' ', 'ตามที่', 'มี', 'ภาพ', 'ปรากฏ', 'เป็นข่าว', ' ', 'จน', 'ถูก', 'วิพากษ์วิจารณ์', ' ', 'บอก', ' ', 'จะ', 'เอา', 'เวลา', 'ที่ไหน', 'ไป', 'หลับ', ' ', 'มี', 'แต่', 'คน', 'เข้ามา', 'ยกมือ', 'ไหว้', ' ', 'ชี้', ' ', 'น่าจะ', 'เป็นช่วง', 'ขยับ', 'เก้าอี้', ' ', 'เนื่องจาก', 'นั่ง', 'ไม่', 'พอดี', ' ', 'ไม่', 'สะดวก', ' ', 'ตน', 'อยู่', 'ใกล้', 'ตลอด', ' ', 'ไม่', 'เห็น', 'ท่าน', 'หลับ', 'ตรงไหน', ' ', 'วันที่', ' ', '5', ' ', 'ก.ค.', ' ', '66', ' ', 'ร.อ.', 'ธรรม', 'นัส', ' ', 'พรหม', 'เผ่า', ' ', 'ส.ส.', 'พะเยา', ' ', 'พรรคพลังประชารัฐ', ' ', 'ยืนยัน', 'ว่า', ' ', 'พล', '.', 'อ.', 'ประวิตร', ' ', 'วงษ์', 'สุวรรณ', ' ', 'รอง', 'นายกฯ', ' ', 'ใน', 'ฐานะ', 'หัวหน้า', 'พรรคพลังประชารัฐ', ' ', 'ไม่', 'ได้', 'หลับใน', 'สภา', 'ฯ', ' ', 'ตามที่', 'มี', 'ภาพ', 'ปรากฏ', 'เป็นข่าว', ' ', 'จน', 'ถูก', 'วิพากษ์วิจารณ์', ' ', 'จะ', 'เอา', 'เวลา', 'ที่ไหน', 'ไป', 'หลับ', ' ', 'เพราะ', 'ระหว่าง', 'ที่นั่ง', 'อยู่', 'ใน', 'สภา', 'ฯ', ' ', 'มี', 'แต่', 'คน', 'เดิน', 'มา', 'ทักทาย', ' ', 'ยกมือ', 'ไหว้', 'ตลอดเวลา', ' ', 'ซึ่ง', 'ภาพ', 'ที่', 'ออกมา', 'น่าจะ', 'เป็นช่วง', 'ที่', ' ', 'พล', '.', 'อ.', 'ประวิตร', ' ', 'กำลัง', 'ขยับ', 'เก้าอี้', ' ', 'เนื่องจาก', 'นั่ง', 'ไม่', 'พอดี', ' ', 'ไม่', 'สะดวก', ' ', 'จน', 'นาย', 'ไผ่', ' ', 'ลิกค์', ' ', 'ส.ส.', 'กำแพงเพชร', ' ', 'ต้อง', 'เข้ามา', 'ช่วย', 'ขยับ', 'อยู่', 'หลายครั้ง', ' ', 'พร้อม', 'ย้ำ', ' ', 'ตน', 'ใน', 'ฐานะ', 'ที่อยู่', 'ด้วย', 'ใกล้', 'ๆ', ' ', 'ตลอด', 'ก็', 'ยัง', 'ไม่', 'เห็น', 'ว่า', 'ท่าน', 'หลับ', 'ตรง', 'ไห', 'น.']\n",
            "engine: newmm-safe ['\"', 'ธรรม', 'นัส\"', ' ', 'โต้', 'แทน', ' ', '\"', 'บิ๊ก', 'ป้อม', '\"', ' ', 'ไม่', 'หลับใน', 'สภา', 'ฯ', ' ', 'ตามที่', 'มี', 'ภาพ', 'ปรากฏ', 'เป็น', 'ข่า', 'ว', ' ', 'จน', 'ถูก', 'วิพากษ์วิจารณ์', ' ', 'บอก', ' ', 'จะ', 'เอ', 'า', 'เวลา', 'ที่ไหน', 'ไป', 'หลับ', ' ', 'มี', 'แต่', 'คน', 'เข้ามา', 'ยกมือ', 'ไ', 'หว้', ' ', 'ชี้', ' ', 'น่าจะ', 'เป็นช่วง', 'ขยับ', 'เก้าอี้', ' ', 'เนื่อ', 'ง', 'จาก', 'นั่ง', 'ไม่', 'พอดี', ' ', 'ไม่', 'สะดวก', ' ', 'ตน', 'อยู่', 'ใกล้', 'ตล', 'อด', ' ', 'ไม่', 'เห็น', 'ท่าน', 'หลับ', 'ตรงไหน', ' ', 'วันที่', ' ', '5', ' ', 'ก.ค.', ' ', '66', ' ', 'ร.อ.', 'ธรรม', 'นัส', ' ', 'พรหม', 'เผ่า', ' ', 'ส.ส.', 'พะเยา', ' ', 'พรรค', 'พลั', 'ง', 'ประชา', 'รัฐ', ' ', 'ยืนยัน', 'ว่า', ' ', 'พล', '.', 'อ.', 'ประวิตร', ' ', 'วงษ์', 'สุวรรณ', ' ', 'ร', 'อง', 'นายกฯ', ' ', 'ใน', 'ฐานะ', 'หัวหน้า', 'พ', 'รร', 'ค', 'พลัง', 'ประชา', 'รัฐ', ' ', 'ไม่', 'ได้', 'หลับใน', 'สภ', 'าฯ', ' ', 'ตามที่', 'มี', 'ภาพ', 'ปรากฏ', 'เป็นข่าว', ' ', 'จน', 'ถูก', 'วิ', 'พาก', 'ษ์', 'วิจารณ์', ' ', 'จะ', 'เอา', 'เวลา', 'ที่ไหน', 'ไป', 'หลับ', ' ', 'เพราะ', 'ระหว่าง', 'ที่นั่ง', 'อยู่', 'ใน', 'สภา', 'ฯ', ' ', 'มี', 'แต่', 'คน', 'เดิน', 'มา', 'ทักทาย', ' ', 'ยกมือ', 'ไหว้', 'ตลอดเวลา', ' ', 'ซ', 'ึ่ง', 'ภาพ', 'ที่', 'ออกมา', 'น่าจะ', 'เ', 'ป็น', 'ช่วง', 'ที่', ' ', 'พล', '.', 'อ.', 'ประวิตร', ' ', 'กำลัง', 'ขยั', 'บ', 'เก้าอี้', ' ', 'เนื่องจาก', 'นั่ง', 'ไม่', 'พอดี', ' ', 'ไม่', 'ส', 'ะดวก', ' ', 'จน', 'นาย', 'ไผ่', ' ', 'ลิกค์', ' ', 'ส.ส.', 'กำแพงเพชร', ' ', 'ต้อง', 'เข้ามา', 'ช่วย', 'ขยับ', 'อยู่', 'หลายครั้ง', ' ', 'พร้อม', 'ย้ำ', ' ', 'ตน', 'ใน', 'ฐานะ', 'ที่อยู่', 'ด้วย', 'ใกล้', 'ๆ', ' ', 'ตลอด', 'ก็', 'ยัง', 'ไม่', 'เห็น', 'ว่า', 'ท่าน', 'หลับ', 'ตรง', 'ไห', 'น.']\n",
            "24/24 [==============================] - 1s 23ms/step\n",
            "engine: deepcut ['\"', 'ธรรมนัส', '\"', ' ', 'โต้แทน', ' ', '\"', 'บิ๊กป้อม', '\"', ' ', 'ไม่', 'หลับ', 'ใน', 'สภา', 'ฯ', ' ', 'ตาม', 'ที่', 'มี', 'ภาพ', 'ปรากฏ', 'เป็น', 'ข่าว', ' ', 'จน', 'ถูก', 'วิพากษ์วิจารณ์', ' ', 'บอก', ' ', 'จะ', 'เอา', 'เวลา', 'ที่', 'ไหน', 'ไป', 'หลับ', ' ', 'มี', 'แต่', 'คน', 'เข้า', 'มา', 'ยก', 'มือ', 'ไหว้', ' ', 'ชี้', ' ', 'น่า', 'จะ', 'เป็น', 'ช่วง', 'ขยับ', 'เก้าอี้', ' ', 'เนื่อง', 'จาก', 'นั่ง', 'ไม่', 'พอดี', ' ', 'ไม่', 'สะดวก', ' ', 'ตน', 'อยู่', 'ใกล้', 'ตลอด', ' ', 'ไม่', 'เห็น', 'ท่าน', 'หลับ', 'ตรง', 'ไหน', ' ', 'วัน', 'ที่', ' ', '5', ' ', 'ก.ค.', ' ', '66', ' ', 'ร.อ.ธรรมนัส ', 'พรหมเผ่า', ' ', 'ส.ส.', 'พะเยา', ' ', 'พรรคพลังประชารัฐ', ' ', 'ยืนยัน', 'ว่า', ' ', 'พล.อ.ประวิตร วงษ์สุวรรณ', ' ', 'รอง', 'นายก', 'ฯ', ' ', 'ใน', 'ฐานะ', 'หัวหน้า', 'พรรคพลังประชารัฐ', ' ', 'ไม่', 'ได้', 'หลับ', 'ใน', 'สภา', 'ฯ', ' ', 'ตาม', 'ที่', 'มี', 'ภาพ', 'ปรากฏ', 'เป็น', 'ข่าว', ' ', 'จน', 'ถูก', 'วิพากษ์วิจารณ์', ' ', 'จะ', 'เอา', 'เวลา', 'ที่', 'ไหน', 'ไป', 'หลับ', ' ', 'เพราะ', 'ระหว่าง', 'ที่', 'นั่ง', 'อยู่', 'ใน', 'สภา', 'ฯ', ' ', 'มี', 'แต่', 'คน', 'เดิน', 'มา', 'ทักทาย', ' ', 'ยก', 'มือ', 'ไหว้', 'ตลอด', 'เวลา', ' ', 'ซึ่ง', 'ภาพ', 'ที่', 'ออก', 'มา', 'น่า', 'จะ', 'เป็น', 'ช่วง', 'ที่', ' ', 'พล.อ.ประวิตร', ' ', 'กำลัง', 'ขยับ', 'เก้าอี้', ' ', 'เนื่อง', 'จาก', 'นั่ง', 'ไม่', 'พอดี', ' ', 'ไม่', 'สะดวก', ' ', 'จน', 'นายไผ่ ลิกค์', ' ', 'ส.ส.', 'กำแพงเพชร', ' ', 'ต้อง', 'เข้า', 'มา', 'ช่วย', 'ขยับ', 'อยู่', 'หลาย', 'ครั้ง', ' ', 'พร้อม', 'ย้ำ', ' ', 'ตน', 'ใน', 'ฐานะ', 'ที่', 'อยู่', 'ด้วย', 'ใกล้', 'ๆ', ' ', 'ตลอด', 'ก็', 'ยัง', 'ไม่', 'เห็น', 'ว่า', 'ท่าน', 'หลับ', 'ตรง', 'ไหน', '.']\n"
          ]
        }
      ]
    },
    {
      "cell_type": "code",
      "source": [
        "#3.1 วิเคราะห์เปรียบเทียบความเร็วของแต่ละเทคนิค\n",
        "# - engine newmm, newmm-safe มีความเร็วที่ค่อนข้างใกล้เคียงกัน และยังใช้เวลาน้อยสุดเมือเทียบกับตัวอื่นๆ\n",
        "\n",
        "#3.2 วิเคราะห์ผลลัพธ์ที่ได้จากการตัดคำของแต่ละเทคนิค คิดว่าเทคนิคใดตัดคำได้เหมาะสมที่สุด สำหรับข้อความที่นิสิตนำมาทดสอบ และอธิบายว่าเพราะเหตุใดจึงคิดเช่นนั้น\n",
        "# - deepcut ดูจะมีความเป็นไปได้ที่จะเป็น engine ที่เหมาะสมที่สุดอ้างอิงจากคำตามความหมายจริงของประโยค"
      ],
      "metadata": {
        "id": "mKVSme1-akQu"
      },
      "execution_count": null,
      "outputs": []
    }
  ]
}
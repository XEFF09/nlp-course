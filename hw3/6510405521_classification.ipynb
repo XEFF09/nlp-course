{
  "cells": [
    {
      "cell_type": "markdown",
      "source": [
        "Load Data from seaborn dataset"
      ],
      "metadata": {
        "id": "lufCg4nR2Q_l"
      }
    },
    {
      "cell_type": "code",
      "execution_count": null,
      "metadata": {
        "id": "Tw3OdjZkwAmN"
      },
      "outputs": [],
      "source": [
        "import seaborn as sns\n",
        "import matplotlib.pyplot as plt\n",
        "\n",
        "df = sns.load_dataset('iris')\n",
        "df.head()"
      ]
    },
    {
      "cell_type": "code",
      "execution_count": null,
      "metadata": {
        "id": "UIDbyrPwwAmQ",
        "colab": {
          "base_uri": "https://localhost:8080/"
        },
        "outputId": "8fb2ce7a-8265-4048-b1b6-7c81960b3743"
      },
      "outputs": [
        {
          "output_type": "execute_result",
          "data": {
            "text/plain": [
              "sepal_length    0\n",
              "sepal_width     0\n",
              "petal_length    0\n",
              "petal_width     0\n",
              "species         0\n",
              "dtype: int64"
            ]
          },
          "metadata": {},
          "execution_count": 2
        }
      ],
      "source": [
        "df.isnull().sum()"
      ]
    },
    {
      "cell_type": "code",
      "execution_count": null,
      "metadata": {
        "id": "KcIWvO_EwAmQ"
      },
      "outputs": [],
      "source": [
        "sns.set_style('whitegrid')\n",
        "sns.scatterplot(x='sepal_length',y='sepal_width', data=df, hue='species',palette='Set1', s=70)\n",
        "plt.title('Sepal')\n",
        "plt.show()"
      ]
    },
    {
      "cell_type": "code",
      "execution_count": null,
      "metadata": {
        "id": "YBKGnsn5wAmQ"
      },
      "outputs": [],
      "source": [
        "sns.scatterplot(x='petal_length',y='petal_width',data=df, hue='species',palette='Set1', s=70)\n",
        "plt.title('Petal')\n",
        "plt.show()"
      ]
    },
    {
      "cell_type": "code",
      "execution_count": null,
      "metadata": {
        "id": "3igkxnupwAmR"
      },
      "outputs": [],
      "source": [
        "feature_cols = ['sepal_length', 'sepal_width', 'petal_length', 'petal_width']\n",
        "X = df[feature_cols]\n",
        "X.head()"
      ]
    },
    {
      "cell_type": "code",
      "execution_count": null,
      "metadata": {
        "id": "Wxravb-nwAmS"
      },
      "outputs": [],
      "source": [
        "X = df.drop('species', axis=1)\n",
        "X.head()"
      ]
    },
    {
      "cell_type": "code",
      "execution_count": null,
      "metadata": {
        "id": "nRVWMhIRwAmT",
        "colab": {
          "base_uri": "https://localhost:8080/"
        },
        "outputId": "9de0a32e-d0a8-4aca-fa7d-c03197b4f506"
      },
      "outputs": [
        {
          "output_type": "execute_result",
          "data": {
            "text/plain": [
              "0    setosa\n",
              "1    setosa\n",
              "2    setosa\n",
              "3    setosa\n",
              "4    setosa\n",
              "Name: species, dtype: object"
            ]
          },
          "metadata": {},
          "execution_count": 7
        }
      ],
      "source": [
        "y = df.species\n",
        "y.head()"
      ]
    },
    {
      "cell_type": "code",
      "execution_count": null,
      "metadata": {
        "id": "tRR4mUhmwAmT",
        "colab": {
          "base_uri": "https://localhost:8080/"
        },
        "outputId": "eb79bd70-f985-43ba-fea7-f3d3914460f3"
      },
      "outputs": [
        {
          "output_type": "execute_result",
          "data": {
            "text/plain": [
              "(150, 4)"
            ]
          },
          "metadata": {},
          "execution_count": 8
        }
      ],
      "source": [
        "X.shape"
      ]
    },
    {
      "cell_type": "code",
      "source": [
        "y.shape"
      ],
      "metadata": {
        "id": "Io529LrX-Pvv",
        "colab": {
          "base_uri": "https://localhost:8080/"
        },
        "outputId": "f537e68b-7d54-4663-8723-7c160c5bc1c1"
      },
      "execution_count": null,
      "outputs": [
        {
          "output_type": "execute_result",
          "data": {
            "text/plain": [
              "(150,)"
            ]
          },
          "metadata": {},
          "execution_count": 9
        }
      ]
    },
    {
      "cell_type": "markdown",
      "source": [
        "# Naive Bayes - Cross Validation"
      ],
      "metadata": {
        "id": "kAG625MQ0_xG"
      }
    },
    {
      "cell_type": "code",
      "execution_count": null,
      "metadata": {
        "id": "LN-WMaV3wAmU",
        "colab": {
          "base_uri": "https://localhost:8080/"
        },
        "outputId": "35386d46-e14b-458e-bf5e-67b6000ccc01"
      },
      "outputs": [
        {
          "output_type": "stream",
          "name": "stdout",
          "text": [
            "cross val scores [0.933 0.933 1.    0.933 0.933 0.933 0.867 1.    1.    1.   ]\n",
            "mean =  95.33\n"
          ]
        }
      ],
      "source": [
        "import seaborn as sns\n",
        "import matplotlib.pyplot as plt\n",
        "from sklearn.model_selection import cross_val_score\n",
        "from sklearn.naive_bayes import GaussianNB\n",
        "\n",
        "df = sns.load_dataset('iris')\n",
        "X = df.drop('species', axis=1)\n",
        "y = df.species\n",
        "\n",
        "model = GaussianNB()\n",
        "cvs = cross_val_score(model, X, y, cv=10)\n",
        "print('cross val scores', cvs.round(3))\n",
        "print('mean = ', cvs.mean().round(4) * 100)"
      ]
    },
    {
      "cell_type": "markdown",
      "source": [
        "# Naive Bayes - Train/Test split"
      ],
      "metadata": {
        "id": "PFJd1r9C09HH"
      }
    },
    {
      "cell_type": "code",
      "execution_count": null,
      "metadata": {
        "id": "5wo-b7VZwAmV",
        "colab": {
          "base_uri": "https://localhost:8080/"
        },
        "outputId": "be4e9d98-da55-458e-fe34-a975b783a9f5"
      },
      "outputs": [
        {
          "output_type": "stream",
          "name": "stdout",
          "text": [
            "Accuracy Score:  0.9777777777777777\n",
            "              precision    recall  f1-score   support\n",
            "\n",
            "      setosa       1.00      1.00      1.00        17\n",
            "  versicolor       0.93      1.00      0.96        13\n",
            "   virginica       1.00      0.93      0.97        15\n",
            "\n",
            "    accuracy                           0.98        45\n",
            "   macro avg       0.98      0.98      0.98        45\n",
            "weighted avg       0.98      0.98      0.98        45\n",
            "\n",
            "[[17  0  0]\n",
            " [ 0 13  0]\n",
            " [ 0  1 14]]\n"
          ]
        }
      ],
      "source": [
        "import seaborn as sns\n",
        "from sklearn.model_selection import train_test_split\n",
        "from sklearn.metrics import classification_report\n",
        "from sklearn.metrics import confusion_matrix\n",
        "from sklearn.metrics import accuracy_score\n",
        "from sklearn.naive_bayes import GaussianNB\n",
        "\n",
        "df = sns.load_dataset('iris')\n",
        "X = df.drop('species', axis=1)\n",
        "y = df.species\n",
        "\n",
        "X_train, X_test,y_train,y_test = train_test_split(X, y, test_size=0.3)\n",
        "model = GaussianNB()\n",
        "model.fit(X_train, y_train)\n",
        "\n",
        "y_pred = model.predict(X_test)\n",
        "print('Accuracy Score: ', accuracy_score(y_test, y_pred))\n",
        "print(classification_report(y_test, y_pred))\n",
        "cm = confusion_matrix(y_test, y_pred)\n",
        "print(cm)\n"
      ]
    },
    {
      "cell_type": "markdown",
      "source": [
        "show the data that predict false"
      ],
      "metadata": {
        "id": "uAL4677X1-Rm"
      }
    },
    {
      "cell_type": "code",
      "execution_count": null,
      "metadata": {
        "id": "_jJFxMyHwAmW",
        "colab": {
          "base_uri": "https://localhost:8080/",
          "height": 81
        },
        "outputId": "349ebc2e-0f2e-4f20-aa32-ce71d9d92bce"
      },
      "outputs": [
        {
          "output_type": "execute_result",
          "data": {
            "text/plain": [
              "        y_test      y_pred  result\n",
              "119  virginica  versicolor   False"
            ],
            "text/html": [
              "\n",
              "  <div id=\"df-80bd8a65-5efd-4e78-8f80-07e97f7ac6d6\">\n",
              "    <div class=\"colab-df-container\">\n",
              "      <div>\n",
              "<style scoped>\n",
              "    .dataframe tbody tr th:only-of-type {\n",
              "        vertical-align: middle;\n",
              "    }\n",
              "\n",
              "    .dataframe tbody tr th {\n",
              "        vertical-align: top;\n",
              "    }\n",
              "\n",
              "    .dataframe thead th {\n",
              "        text-align: right;\n",
              "    }\n",
              "</style>\n",
              "<table border=\"1\" class=\"dataframe\">\n",
              "  <thead>\n",
              "    <tr style=\"text-align: right;\">\n",
              "      <th></th>\n",
              "      <th>y_test</th>\n",
              "      <th>y_pred</th>\n",
              "      <th>result</th>\n",
              "    </tr>\n",
              "  </thead>\n",
              "  <tbody>\n",
              "    <tr>\n",
              "      <th>119</th>\n",
              "      <td>virginica</td>\n",
              "      <td>versicolor</td>\n",
              "      <td>False</td>\n",
              "    </tr>\n",
              "  </tbody>\n",
              "</table>\n",
              "</div>\n",
              "      <button class=\"colab-df-convert\" onclick=\"convertToInteractive('df-80bd8a65-5efd-4e78-8f80-07e97f7ac6d6')\"\n",
              "              title=\"Convert this dataframe to an interactive table.\"\n",
              "              style=\"display:none;\">\n",
              "        \n",
              "  <svg xmlns=\"http://www.w3.org/2000/svg\" height=\"24px\"viewBox=\"0 0 24 24\"\n",
              "       width=\"24px\">\n",
              "    <path d=\"M0 0h24v24H0V0z\" fill=\"none\"/>\n",
              "    <path d=\"M18.56 5.44l.94 2.06.94-2.06 2.06-.94-2.06-.94-.94-2.06-.94 2.06-2.06.94zm-11 1L8.5 8.5l.94-2.06 2.06-.94-2.06-.94L8.5 2.5l-.94 2.06-2.06.94zm10 10l.94 2.06.94-2.06 2.06-.94-2.06-.94-.94-2.06-.94 2.06-2.06.94z\"/><path d=\"M17.41 7.96l-1.37-1.37c-.4-.4-.92-.59-1.43-.59-.52 0-1.04.2-1.43.59L10.3 9.45l-7.72 7.72c-.78.78-.78 2.05 0 2.83L4 21.41c.39.39.9.59 1.41.59.51 0 1.02-.2 1.41-.59l7.78-7.78 2.81-2.81c.8-.78.8-2.07 0-2.86zM5.41 20L4 18.59l7.72-7.72 1.47 1.35L5.41 20z\"/>\n",
              "  </svg>\n",
              "      </button>\n",
              "      \n",
              "  <style>\n",
              "    .colab-df-container {\n",
              "      display:flex;\n",
              "      flex-wrap:wrap;\n",
              "      gap: 12px;\n",
              "    }\n",
              "\n",
              "    .colab-df-convert {\n",
              "      background-color: #E8F0FE;\n",
              "      border: none;\n",
              "      border-radius: 50%;\n",
              "      cursor: pointer;\n",
              "      display: none;\n",
              "      fill: #1967D2;\n",
              "      height: 32px;\n",
              "      padding: 0 0 0 0;\n",
              "      width: 32px;\n",
              "    }\n",
              "\n",
              "    .colab-df-convert:hover {\n",
              "      background-color: #E2EBFA;\n",
              "      box-shadow: 0px 1px 2px rgba(60, 64, 67, 0.3), 0px 1px 3px 1px rgba(60, 64, 67, 0.15);\n",
              "      fill: #174EA6;\n",
              "    }\n",
              "\n",
              "    [theme=dark] .colab-df-convert {\n",
              "      background-color: #3B4455;\n",
              "      fill: #D2E3FC;\n",
              "    }\n",
              "\n",
              "    [theme=dark] .colab-df-convert:hover {\n",
              "      background-color: #434B5C;\n",
              "      box-shadow: 0px 1px 3px 1px rgba(0, 0, 0, 0.15);\n",
              "      filter: drop-shadow(0px 1px 2px rgba(0, 0, 0, 0.3));\n",
              "      fill: #FFFFFF;\n",
              "    }\n",
              "  </style>\n",
              "\n",
              "      <script>\n",
              "        const buttonEl =\n",
              "          document.querySelector('#df-80bd8a65-5efd-4e78-8f80-07e97f7ac6d6 button.colab-df-convert');\n",
              "        buttonEl.style.display =\n",
              "          google.colab.kernel.accessAllowed ? 'block' : 'none';\n",
              "\n",
              "        async function convertToInteractive(key) {\n",
              "          const element = document.querySelector('#df-80bd8a65-5efd-4e78-8f80-07e97f7ac6d6');\n",
              "          const dataTable =\n",
              "            await google.colab.kernel.invokeFunction('convertToInteractive',\n",
              "                                                     [key], {});\n",
              "          if (!dataTable) return;\n",
              "\n",
              "          const docLinkHtml = 'Like what you see? Visit the ' +\n",
              "            '<a target=\"_blank\" href=https://colab.research.google.com/notebooks/data_table.ipynb>data table notebook</a>'\n",
              "            + ' to learn more about interactive tables.';\n",
              "          element.innerHTML = '';\n",
              "          dataTable['output_type'] = 'display_data';\n",
              "          await google.colab.output.renderOutput(dataTable, element);\n",
              "          const docLink = document.createElement('div');\n",
              "          docLink.innerHTML = docLinkHtml;\n",
              "          element.appendChild(docLink);\n",
              "        }\n",
              "      </script>\n",
              "    </div>\n",
              "  </div>\n",
              "  "
            ]
          },
          "metadata": {},
          "execution_count": 12
        }
      ],
      "source": [
        "import pandas as pd\n",
        "dy = pd.DataFrame()\n",
        "dy['y_test'] = y_test\n",
        "dy['y_pred'] = y_pred\n",
        "dy['result'] = y_test == y_pred\n",
        "\n",
        "dy[dy.result == False]"
      ]
    },
    {
      "cell_type": "markdown",
      "source": [
        "#SVM"
      ],
      "metadata": {
        "id": "D2K7JWRC2KXw"
      }
    },
    {
      "cell_type": "code",
      "execution_count": null,
      "metadata": {
        "id": "XBBIe5OzwAmY",
        "colab": {
          "base_uri": "https://localhost:8080/"
        },
        "outputId": "a076e80d-0fdf-4b9c-eb44-fe1768108219"
      },
      "outputs": [
        {
          "output_type": "stream",
          "name": "stdout",
          "text": [
            "cross val scores [1.    0.933 1.    1.    0.867 1.    0.933 1.    1.    1.   ]\n",
            "mean (%) = 97.3333\n"
          ]
        }
      ],
      "source": [
        "import seaborn as sns\n",
        "from sklearn.model_selection import cross_val_score\n",
        "from sklearn.svm import SVC\n",
        "\n",
        "df = sns.load_dataset('iris')\n",
        "X = df.drop('species', axis=1)\n",
        "y = df.species\n",
        "\n",
        "model = SVC(kernel='linear')\n",
        "\n",
        "cvs = cross_val_score(model, X, y, cv=10)\n",
        "print('cross val scores', cvs.round(3))\n",
        "print('mean (%) = {:.4f}' .format(cvs.mean() * 100 ))"
      ]
    },
    {
      "cell_type": "markdown",
      "source": [
        "# Random Forest"
      ],
      "metadata": {
        "id": "l8fq5BO773c9"
      }
    },
    {
      "cell_type": "code",
      "execution_count": null,
      "metadata": {
        "id": "b4EgUxScwAmZ",
        "colab": {
          "base_uri": "https://localhost:8080/",
          "height": 528
        },
        "outputId": "b406ed7d-ecf7-4dce-b576-c1da3499f698"
      },
      "outputs": [
        {
          "output_type": "stream",
          "name": "stdout",
          "text": [
            "Score -> 0.9778\n",
            "              precision    recall  f1-score   support\n",
            "\n",
            "      setosa       1.00      1.00      1.00        15\n",
            "  versicolor       0.95      1.00      0.97        19\n",
            "   virginica       1.00      0.91      0.95        11\n",
            "\n",
            "    accuracy                           0.98        45\n",
            "   macro avg       0.98      0.97      0.98        45\n",
            "weighted avg       0.98      0.98      0.98        45\n",
            "\n",
            "[[15  0  0]\n",
            " [ 0 19  0]\n",
            " [ 0  1 10]]\n"
          ]
        },
        {
          "output_type": "display_data",
          "data": {
            "text/plain": [
              "<Figure size 432x288 with 2 Axes>"
            ],
            "image/png": "[encoded data removed]"
          },
          "metadata": {}
        }
      ],
      "source": [
        "from sklearn.model_selection import train_test_split\n",
        "from sklearn.ensemble import RandomForestClassifier\n",
        "import matplotlib.pyplot as plt\n",
        "from sklearn import metrics\n",
        "from sklearn.metrics import classification_report\n",
        "\n",
        "\n",
        "df = sns.load_dataset('iris')\n",
        "X = df.drop('species', axis=1)\n",
        "y = df.species\n",
        "\n",
        "X_train, X_test,y_train,y_test = train_test_split(X, y, test_size=0.3)\n",
        "model = RandomForestClassifier(n_estimators=80)\n",
        "model.fit(X_train, y_train)\n",
        "\n",
        "class_names = df.species.unique()\n",
        "class_names\n",
        "\n",
        "y_predict = model.predict(X_test)\n",
        "\n",
        "print('Score -> {:.4f}' . format(model.score(X_test, y_test)))\n",
        "print(classification_report(y_test, y_predict, target_names=class_names))\n",
        "confusion_matrix = metrics.confusion_matrix(y_test, y_predict)\n",
        "print(confusion_matrix)\n",
        "cm_display = metrics.ConfusionMatrixDisplay(confusion_matrix = confusion_matrix, display_labels = class_names)\n",
        "cm_display.plot()\n",
        "plt.show()"
      ]
    },
    {
      "cell_type": "markdown",
      "source": [
        "# Exercise: Classify dataset pima-indians-diabetes.data.csv"
      ],
      "metadata": {
        "id": "uC9sxz0S8khV"
      }
    },
    {
      "cell_type": "code",
      "source": [
        "!wget --no-check-certificate 'https://docs.google.com/uc?export=download&id=1qNpoW6TcRxbt7tSzwgoyLJoLwlUijaGH' -O pima-indians-diabetes.data.csv\n"
      ],
      "metadata": {
        "id": "VgFXzFuT_xtx"
      },
      "execution_count": null,
      "outputs": []
    },
    {
      "cell_type": "code",
      "source": [
        "import pandas\n",
        "from sklearn import tree\n",
        "import pydotplus\n",
        "from sklearn.tree import DecisionTreeClassifier\n",
        "import matplotlib.pyplot as plt\n",
        "import matplotlib.image as pltimg\n",
        "\n",
        "df = pandas.read_csv(\"pima-indians-diabetes.data.csv\")\n",
        "\n",
        "print(df)"
      ],
      "metadata": {
        "id": "ZWeUCC8duevA"
      },
      "execution_count": null,
      "outputs": []
    },
    {
      "cell_type": "code",
      "source": [
        "df.isnull().sum()"
      ],
      "metadata": {
        "id": "KkwCBhzSurzw"
      },
      "execution_count": null,
      "outputs": []
    },
    {
      "cell_type": "code",
      "source": [
        "X = df.drop(['PatientID','HasDiabetes'], axis=1)\n",
        "X.sample(5)"
      ],
      "metadata": {
        "id": "dVC5fHhlu0HJ"
      },
      "execution_count": null,
      "outputs": []
    },
    {
      "cell_type": "code",
      "source": [
        "y = df.HasDiabetes\n",
        "y.sample(5)"
      ],
      "metadata": {
        "id": "IaA-zOIWu0Qw"
      },
      "execution_count": null,
      "outputs": []
    },
    {
      "cell_type": "code",
      "source": [
        "import seaborn as sns\n",
        "from sklearn.model_selection import cross_val_score\n",
        "from sklearn.svm import SVC\n",
        "\n",
        "model = SVC(kernel='linear')\n",
        "\n",
        "cvs = cross_val_score(model, X, y, cv=10)\n",
        "print('cross val scores', cvs.round(3))\n",
        "print('mean (%) = {:.4f}' .format(cvs.mean() * 100 ))"
      ],
      "metadata": {
        "colab": {
          "base_uri": "https://localhost:8080/"
        },
        "id": "4VWx07fcwf1t",
        "outputId": "0d380992-45b2-4695-f45d-4481e9a26d3a"
      },
      "execution_count": null,
      "outputs": [
        {
          "output_type": "stream",
          "name": "stdout",
          "text": [
            "cross val scores [0.701 0.766 0.792 0.74  0.74  0.766 0.805 0.792 0.75  0.816]\n",
            "mean (%) = 76.6969\n"
          ]
        }
      ]
    },
    {
      "cell_type": "code",
      "source": [
        "from sklearn.model_selection import train_test_split\n",
        "from sklearn.svm import SVC\n",
        "import matplotlib.pyplot as plt\n",
        "from sklearn import metrics\n",
        "from sklearn.metrics import classification_report\n",
        "\n",
        "X_train, X_test,y_train,y_test = train_test_split(X, y, test_size=0.3)\n",
        "model = SVC(kernel='linear')\n",
        "model.fit(X_train, y_train)\n",
        "\n",
        "class_names = df.HasDiabetes.unique()\n",
        "class_names\n",
        "\n",
        "y_predict = model.predict(X_test)\n",
        "\n",
        "print('Score -> {:.4f}' . format(model.score(X_test, y_test)))\n",
        "print(classification_report(y_test, y_predict))\n",
        "confusion_matrix = metrics.confusion_matrix(y_test, y_predict)\n",
        "print(confusion_matrix)\n",
        "cm_display = metrics.ConfusionMatrixDisplay(confusion_matrix = confusion_matrix, display_labels = class_names)\n",
        "cm_display.plot()\n",
        "plt.show()"
      ],
      "metadata": {
        "colab": {
          "base_uri": "https://localhost:8080/",
          "height": 492
        },
        "id": "daO2f3smw_VI",
        "outputId": "7a544c5f-e4f9-41d1-c00f-19e993876464"
      },
      "execution_count": null,
      "outputs": [
        {
          "output_type": "stream",
          "name": "stdout",
          "text": [
            "Score -> 0.7792\n",
            "              precision    recall  f1-score   support\n",
            "\n",
            "           0       0.76      0.93      0.83       137\n",
            "           1       0.84      0.56      0.68        94\n",
            "\n",
            "    accuracy                           0.78       231\n",
            "   macro avg       0.80      0.75      0.75       231\n",
            "weighted avg       0.79      0.78      0.77       231\n",
            "\n",
            "[[127  10]\n",
            " [ 41  53]]\n"
          ]
        },
        {
          "output_type": "display_data",
          "data": {
            "text/plain": [
              "<Figure size 432x288 with 2 Axes>"
            ],
            "image/png": "[encoded data removed]"
          },
          "metadata": {}
        }
      ]
    },
    {
      "cell_type": "markdown",
      "source": [
        "# DT, NB, RF"
      ],
      "metadata": {
        "id": "2ggGyNJm2emp"
      }
    },
    {
      "cell_type": "code",
      "source": [
        "!wget --no-check-certificate 'https://docs.google.com/uc?export=download&id=1TVz1opVqHadqyuinDEG5fPjXzVxkGobn' -O diabetes.csv"
      ],
      "metadata": {
        "id": "GDIyO-W1c6oB"
      },
      "execution_count": null,
      "outputs": []
    },
    {
      "cell_type": "code",
      "source": [
        "pip install -U scikit-learn"
      ],
      "metadata": {
        "id": "wBhD_0lTnMDU"
      },
      "execution_count": null,
      "outputs": []
    },
    {
      "cell_type": "markdown",
      "source": [
        "# DecisionTree"
      ],
      "metadata": {
        "id": "VDF5izYn2wGn"
      }
    },
    {
      "cell_type": "code",
      "source": [
        "import pandas as pd\n",
        "from sklearn import tree\n",
        "import pydotplus\n",
        "from sklearn.tree import DecisionTreeClassifier\n",
        "import matplotlib.pyplot as plt\n",
        "import matplotlib.image as pltimg\n",
        "\n",
        "import seaborn as sns\n",
        "\n",
        "from sklearn.model_selection import train_test_split, cross_val_score\n",
        "from sklearn.metrics import accuracy_score, confusion_matrix, classification_report\n",
        "\n",
        "df = pd.read_csv('diabetes.csv')\n",
        "y = df['Outcome']\n",
        "x = df.drop('Outcome', axis=1)\n",
        "\n",
        "features = list(x.columns)\n",
        "class_names = ['no', 'yes']\n",
        "\n",
        "x_train, x_test, y_train, y_test = train_test_split(x, y, test_size=0.2, random_state=11)\n",
        "\n",
        "model = DecisionTreeClassifier()\n",
        "model = model.fit(x_train, y_train)\n",
        "\n",
        "y_res = model.predict(x_test)\n",
        "\n",
        "print(classification_report(y_test, y_res, target_names=class_names), '\\n')\n",
        "\n",
        "cm = confusion_matrix(y_test, y_res)\n",
        "ax = plt.subplot()\n",
        "sns.heatmap(cm, annot=True, ax=ax, cmap='coolwarm')\n",
        "ax.set_title(\"confusion mat\")\n",
        "ax.set_xlabel('res')\n",
        "ax.set_ylabel('tested')\n",
        "ax.xaxis.set_ticklabels(class_names)\n",
        "ax.yaxis.set_ticklabels(class_names)\n",
        "plt.show()\n",
        "\n",
        "print('\\n')\n",
        "\n",
        "data = tree.export_graphviz(model, out_file=None, feature_names=features, class_names=class_names)\n",
        "graph = pydotplus.graph_from_dot_data(data)\n",
        "graph.write_png('decision_tree.png')\n",
        "img = pltimg.imread('decision_tree.png')\n",
        "plt.imshow(img)\n",
        "plt.show()"
      ],
      "metadata": {
        "colab": {
          "base_uri": "https://localhost:8080/",
          "height": 913
        },
        "id": "yqJ8eGY5e7ac",
        "outputId": "dc20d270-6ab8-4374-f065-4835928eb917"
      },
      "execution_count": 54,
      "outputs": [
        {
          "output_type": "stream",
          "name": "stdout",
          "text": [
            "              precision    recall  f1-score   support\n",
            "\n",
            "          no       0.74      0.73      0.74       100\n",
            "         yes       0.52      0.54      0.53        54\n",
            "\n",
            "    accuracy                           0.66       154\n",
            "   macro avg       0.63      0.63      0.63       154\n",
            "weighted avg       0.67      0.66      0.66       154\n",
            " \n",
            "\n"
          ]
        },
        {
          "output_type": "display_data",
          "data": {
            "text/plain": [
              "<Figure size 640x480 with 2 Axes>"
            ],
            "image/png": "[encoded data removed]"
          },
          "metadata": {}
        },
        {
          "output_type": "stream",
          "name": "stdout",
          "text": [
            "\n",
            "\n"
          ]
        },
        {
          "output_type": "display_data",
          "data": {
            "text/plain": [
              "<Figure size 640x480 with 1 Axes>"
            ],
            "image/png": "[encoded data removed]"
          },
          "metadata": {}
        }
      ]
    },
    {
      "cell_type": "markdown",
      "source": [
        "# DecisionTree (crossval)\n"
      ],
      "metadata": {
        "id": "r-UIT7yR4cYv"
      }
    },
    {
      "cell_type": "code",
      "source": [
        "import pandas as pd\n",
        "from sklearn import tree\n",
        "import pydotplus\n",
        "from sklearn.tree import DecisionTreeClassifier\n",
        "import matplotlib.pyplot as plt\n",
        "import matplotlib.image as pltimg\n",
        "\n",
        "import seaborn as sns\n",
        "\n",
        "from sklearn.model_selection import train_test_split, cross_val_score\n",
        "from sklearn.metrics import accuracy_score, confusion_matrix, classification_report\n",
        "\n",
        "df = pd.read_csv('diabetes.csv')\n",
        "y = df['Outcome']\n",
        "x = df.drop('Outcome', axis=1)\n",
        "\n",
        "model = DecisionTreeClassifier()\n",
        "model = cross_val_score(model, x, y, cv=70)\n",
        "\n",
        "model.mean().round(4)*100\n"
      ],
      "metadata": {
        "colab": {
          "base_uri": "https://localhost:8080/"
        },
        "id": "7J1szNt24jrB",
        "outputId": "e3e8d92b-aa3b-431c-fa58-5cb65270c265"
      },
      "execution_count": 57,
      "outputs": [
        {
          "output_type": "execute_result",
          "data": {
            "text/plain": [
              "70.45"
            ]
          },
          "metadata": {},
          "execution_count": 57
        }
      ]
    },
    {
      "cell_type": "markdown",
      "source": [
        "# Naive"
      ],
      "metadata": {
        "id": "axFVp_5lA7ae"
      }
    },
    {
      "cell_type": "code",
      "source": [
        "import pandas as pd\n",
        "from sklearn import tree\n",
        "import pydotplus\n",
        "from sklearn.tree import DecisionTreeClassifier\n",
        "import matplotlib.pyplot as plt\n",
        "import matplotlib.image as pltimg\n",
        "\n",
        "import seaborn as sns\n",
        "\n",
        "from sklearn.model_selection import train_test_split, cross_val_score\n",
        "from sklearn.metrics import accuracy_score, confusion_matrix, classification_report\n",
        "\n",
        "from sklearn.naive_bayes import GaussianNB\n",
        "\n",
        "df = pd.read_csv('diabetes.csv')\n",
        "y = df['Outcome']\n",
        "x = df.drop('Outcome', axis=1)\n",
        "\n",
        "features = list(x.columns)\n",
        "class_names = ['no', 'yes']\n",
        "\n",
        "x_train, x_test, y_train, y_test = train_test_split(x, y, test_size=0.2, random_state=11)\n",
        "\n",
        "# model config\n",
        "model = GaussianNB()\n",
        "model = model.fit(x_train, y_train)\n",
        "\n",
        "y_res = model.predict(x_test)\n",
        "\n",
        "print(classification_report(y_test, y_res, target_names=class_names), '\\n')\n",
        "\n",
        "cm = confusion_matrix(y_test, y_res)\n",
        "ax = plt.subplot()\n",
        "sns.heatmap(cm, annot=True, ax=ax, cmap='coolwarm')\n",
        "ax.set_title(\"confusion mat\")\n",
        "ax.set_xlabel('res')\n",
        "ax.set_ylabel('tested')\n",
        "ax.xaxis.set_ticklabels(class_names)\n",
        "ax.yaxis.set_ticklabels(class_names)\n",
        "plt.show()"
      ],
      "metadata": {
        "colab": {
          "base_uri": "https://localhost:8080/",
          "height": 646
        },
        "id": "Of6fQ5eTA96J",
        "outputId": "f19df00b-7065-4f8d-e9b5-366e8e0d1406"
      },
      "execution_count": 56,
      "outputs": [
        {
          "output_type": "stream",
          "name": "stdout",
          "text": [
            "              precision    recall  f1-score   support\n",
            "\n",
            "          no       0.78      0.84      0.81       100\n",
            "         yes       0.65      0.56      0.60        54\n",
            "\n",
            "    accuracy                           0.74       154\n",
            "   macro avg       0.71      0.70      0.70       154\n",
            "weighted avg       0.73      0.74      0.73       154\n",
            " \n",
            "\n"
          ]
        },
        {
          "output_type": "display_data",
          "data": {
            "text/plain": [
              "<Figure size 640x480 with 2 Axes>"
            ],
            "image/png": "[encoded data removed]"
          },
          "metadata": {}
        }
      ]
    },
    {
      "cell_type": "markdown",
      "source": [
        "# Naive (crossval)"
      ],
      "metadata": {
        "id": "chvQWxSqBxkX"
      }
    },
    {
      "cell_type": "code",
      "source": [
        "import pandas as pd\n",
        "from sklearn import tree\n",
        "import pydotplus\n",
        "from sklearn.tree import DecisionTreeClassifier\n",
        "import matplotlib.pyplot as plt\n",
        "import matplotlib.image as pltimg\n",
        "\n",
        "import seaborn as sns\n",
        "\n",
        "from sklearn.model_selection import train_test_split, cross_val_score\n",
        "from sklearn.metrics import accuracy_score, confusion_matrix, classification_report\n",
        "\n",
        "from sklearn.naive_bayes import GaussianNB\n",
        "\n",
        "df = pd.read_csv('diabetes.csv')\n",
        "y = df['Outcome']\n",
        "x = df.drop('Outcome', axis=1)\n",
        "\n",
        "features = list(x.columns)\n",
        "class_names = ['no', 'yes']\n",
        "\n",
        "# model config\n",
        "model = GaussianNB()\n",
        "model = cross_val_score(model, x, y, cv=70)\n",
        "\n",
        "model.mean().round(4)*100"
      ],
      "metadata": {
        "colab": {
          "base_uri": "https://localhost:8080/"
        },
        "id": "GGOzVdCMB3vo",
        "outputId": "4338bba2-f6bb-41e1-ff31-ccd313b270cb"
      },
      "execution_count": 58,
      "outputs": [
        {
          "output_type": "execute_result",
          "data": {
            "text/plain": [
              "75.38"
            ]
          },
          "metadata": {},
          "execution_count": 58
        }
      ]
    },
    {
      "cell_type": "markdown",
      "source": [
        "# RandomForest"
      ],
      "metadata": {
        "id": "yLEkFYXDDSk8"
      }
    },
    {
      "cell_type": "code",
      "source": [
        "import pandas as pd\n",
        "from sklearn import tree\n",
        "import pydotplus\n",
        "from sklearn.tree import DecisionTreeClassifier\n",
        "import matplotlib.pyplot as plt\n",
        "import matplotlib.image as pltimg\n",
        "\n",
        "import seaborn as sns\n",
        "\n",
        "from sklearn.model_selection import train_test_split, cross_val_score\n",
        "from sklearn.metrics import accuracy_score, confusion_matrix, classification_report\n",
        "\n",
        "from sklearn.ensemble import RandomForestClassifier\n",
        "\n",
        "df = pd.read_csv('diabetes.csv')\n",
        "y = df['Outcome']\n",
        "x = df.drop('Outcome', axis=1)\n",
        "\n",
        "features = list(x.columns)\n",
        "class_names = ['no', 'yes']\n",
        "\n",
        "# model config\n",
        "model = RandomForestClassifier(n_estimators=80)\n",
        "model = model.fit(x_train, y_train)\n",
        "\n",
        "y_res = model.predict(x_test)\n",
        "\n",
        "print(classification_report(y_test, y_res, target_names=class_names), '\\n')\n",
        "\n",
        "cm = confusion_matrix(y_test, y_res)\n",
        "ax = plt.subplot()\n",
        "sns.heatmap(cm, annot=True, ax=ax, cmap='coolwarm')\n",
        "ax.set_title(\"confusion mat\")\n",
        "ax.set_xlabel('res')\n",
        "ax.set_ylabel('tested')\n",
        "ax.xaxis.set_ticklabels(class_names)\n",
        "ax.yaxis.set_ticklabels(class_names)\n",
        "plt.show()"
      ],
      "metadata": {
        "colab": {
          "base_uri": "https://localhost:8080/",
          "height": 646
        },
        "id": "1E9pkQvfDVTC",
        "outputId": "d1b91624-1e2f-44ad-e56b-6644fcc3ca32"
      },
      "execution_count": 69,
      "outputs": [
        {
          "output_type": "stream",
          "name": "stdout",
          "text": [
            "              precision    recall  f1-score   support\n",
            "\n",
            "          no       0.76      0.87      0.81       100\n",
            "         yes       0.68      0.50      0.57        54\n",
            "\n",
            "    accuracy                           0.74       154\n",
            "   macro avg       0.72      0.69      0.69       154\n",
            "weighted avg       0.73      0.74      0.73       154\n",
            " \n",
            "\n"
          ]
        },
        {
          "output_type": "display_data",
          "data": {
            "text/plain": [
              "<Figure size 640x480 with 2 Axes>"
            ],
            "image/png": "[encoded data removed]"
          },
          "metadata": {}
        }
      ]
    },
    {
      "cell_type": "markdown",
      "source": [
        "# RandomForest (crossval)"
      ],
      "metadata": {
        "id": "S0D1orqgFzdW"
      }
    },
    {
      "cell_type": "code",
      "source": [
        "import pandas as pd\n",
        "from sklearn import tree\n",
        "import pydotplus\n",
        "from sklearn.tree import DecisionTreeClassifier\n",
        "import matplotlib.pyplot as plt\n",
        "import matplotlib.image as pltimg\n",
        "\n",
        "import seaborn as sns\n",
        "\n",
        "from sklearn.model_selection import train_test_split, cross_val_score\n",
        "from sklearn.metrics import accuracy_score, confusion_matrix, classification_report\n",
        "\n",
        "from sklearn.ensemble import RandomForestClassifier\n",
        "\n",
        "df = pd.read_csv('diabetes.csv')\n",
        "y = df['Outcome']\n",
        "x = df.drop('Outcome', axis=1)\n",
        "\n",
        "features = list(x.columns)\n",
        "class_names = ['no', 'yes']\n",
        "\n",
        "# model config\n",
        "model = RandomForestClassifier(n_estimators=80)\n",
        "model = cross_val_score(model, x, y, cv=70)\n",
        "\n",
        "model.mean().round(4)*100"
      ],
      "metadata": {
        "colab": {
          "base_uri": "https://localhost:8080/"
        },
        "id": "Nrzsn2zxGANG",
        "outputId": "983fcba9-75ee-4fc3-e176-12496a58d749"
      },
      "execution_count": 70,
      "outputs": [
        {
          "output_type": "execute_result",
          "data": {
            "text/plain": [
              "76.44"
            ]
          },
          "metadata": {},
          "execution_count": 70
        }
      ]
    },
    {
      "cell_type": "code",
      "source": [],
      "metadata": {
        "id": "WKBaBkgQGxkd"
      },
      "execution_count": null,
      "outputs": []
    }
  ],
  "metadata": {
    "kernelspec": {
      "display_name": "Python 3",
      "language": "python",
      "name": "python3"
    },
    "language_info": {
      "codemirror_mode": {
        "name": "ipython",
        "version": 3
      },
      "file_extension": ".py",
      "mimetype": "text/x-python",
      "name": "python",
      "nbconvert_exporter": "python",
      "pygments_lexer": "ipython3",
      "version": "3.7.1"
    },
    "colab": {
      "provenance": []
    }
  },
  "nbformat": 4,
  "nbformat_minor": 0
}